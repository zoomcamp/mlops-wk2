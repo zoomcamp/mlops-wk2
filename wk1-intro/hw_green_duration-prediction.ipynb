{
 "cells": [
  {
   "cell_type": "code",
   "execution_count": 62,
   "id": "2491feaa-2cc9-4408-a6c5-a10443b0760b",
   "metadata": {},
   "outputs": [
    {
     "name": "stdout",
     "output_type": "stream",
     "text": [
      "Python 3.12.7\n"
     ]
    }
   ],
   "source": [
    "!python -V"
   ]
  },
  {
   "cell_type": "code",
   "execution_count": 61,
   "id": "bbef7d97-f58c-4104-a09e-525018e88a51",
   "metadata": {},
   "outputs": [],
   "source": [
    "import pandas as pd # working with tabular data\n",
    "import pickle # for machine learning models\n",
    "import seaborn as sns # visualization\n",
    "import matplotlib.pyplot as plt # visualization\n",
    "import numpy as np\n",
    "\n",
    "from sklearn.feature_extraction import DictVectorizer # Machine Learning\n",
    "from sklearn.linear_model import LinearRegression # Machine Learning\n",
    "from sklearn.linear_model import Lasso # Regularization\n",
    "from sklearn.linear_model import Ridge # Regularization\n",
    "\n",
    "from sklearn.metrics import mean_squared_error # Loss Function"
   ]
  },
  {
   "cell_type": "code",
   "execution_count": 3,
   "id": "86b21eb6-0b81-4278-bfdb-ae72465c9e3d",
   "metadata": {},
   "outputs": [
    {
     "name": "stdout",
     "output_type": "stream",
     "text": [
      "mkdir: cannot create directory ‘data’: File exists\n"
     ]
    }
   ],
   "source": [
    "# Download data from NYC: https://www.nyc.gov/site/tlc/about/tlc-trip-record-data.page\n",
    "!mkdir data\n",
    "# !wget <files>\n",
    "\n",
    "# !wget https://d37ci6vzurychx.cloudfront.net/trip-data/green_tripdata_2021-01.parquet\n",
    "# !wget https://d37ci6vzurychx.cloudfront.net/trip-data/green_tripdata_2021-02.parquet"
   ]
  },
  {
   "cell_type": "markdown",
   "id": "53dc4ec7-baf8-4e28-8186-747fd3a384eb",
   "metadata": {},
   "source": [
    "### Q1. Downloading the data"
   ]
  },
  {
   "cell_type": "code",
   "execution_count": 4,
   "id": "276b9619-b77b-4e78-839f-28880c151b77",
   "metadata": {},
   "outputs": [],
   "source": [
    "### Load in your parquet files into a pandas dataframe\n",
    "#df = pd.read_parquet(<path to file>)\n",
    "\n",
    "df = pd.read_parquet('./data/green_tripdata_2021-01.parquet')\n",
    "df = pd.read_parquet('./data/green_tripdata_2021-02.parquet')\n",
    "\n",
    "# df = pd.read_parquet('./data/fhv_tripdata_2021-01.parquet')\n",
    "# df = pd.read_parquet('./data/fhv_tripdata_2021-02.parquet')"
   ]
  },
  {
   "cell_type": "code",
   "execution_count": 42,
   "id": "6518acb9-c6c0-455e-a64d-35513a9e543b",
   "metadata": {},
   "outputs": [],
   "source": [
    "# Calculate your target variable (duration)\n",
    "# Unlike the csv files the parquet files also stores the data in the datetime format which makes it much easier to operate.\n",
    "# Pickup and Drop location\n",
    "# Trip start and end time\n",
    "# Let’s create a new column duration which calculates the length of each ride :\n",
    "\n",
    "#df['duration'] = df['lpep_dropoff_datetime'] - df['lpep_pickup_datetime']\n",
    "\n",
    "# In this case duration is in timedelta format which is not easily trainable. We need to convert this to minutes. \n",
    "# This can be done with using the timedelta.total_seconds() function then dividing by 60 to get minutes.\n",
    "\n",
    "#df['duration_mins'] = df['duration'].apply(lambda td: td.total_seconds() / 60) # we are not doing this for fun, we are doing it to remove \n",
    "#outliers as in the link: https://stephen137.github.io/posts/MLOps_Zoomcamp_Week_1/MLOps_Zoomcamp_Week_1.html#:~:text=We%20will%20remove%20these%20outliers%20as%20it%20looks%20as%20if%20they%20are%20due%20to%20measurement%20issues.%20Let%E2%80%99s%20keep%20only%20the%20records%20where%20the%20duration%20was%20between%201%20and%2060%20minutes%20(inclusive).\n",
    "\n",
    "#df = df[(df.duration >= 1) & (df.duration <= 60)]\n"
   ]
  },
  {
   "cell_type": "markdown",
   "id": "1a45250f-f8aa-45f5-85e7-c37971a7cc0c",
   "metadata": {},
   "source": [
    "### Q2. Computing duration"
   ]
  },
  {
   "cell_type": "code",
   "execution_count": 8,
   "id": "75dd4e54-1eba-42f7-9ce2-9bf66d524e0f",
   "metadata": {},
   "outputs": [
    {
     "data": {
      "text/plain": [
       "(64572, 20)"
      ]
     },
     "execution_count": 8,
     "metadata": {},
     "output_type": "execute_result"
    }
   ],
   "source": [
    "df.shape[:]"
   ]
  },
  {
   "cell_type": "code",
   "execution_count": 9,
   "id": "0285b2a3-bae6-4bd5-9c5e-ccf2d5648071",
   "metadata": {},
   "outputs": [
    {
     "data": {
      "text/html": [
       "<div>\n",
       "<style scoped>\n",
       "    .dataframe tbody tr th:only-of-type {\n",
       "        vertical-align: middle;\n",
       "    }\n",
       "\n",
       "    .dataframe tbody tr th {\n",
       "        vertical-align: top;\n",
       "    }\n",
       "\n",
       "    .dataframe thead th {\n",
       "        text-align: right;\n",
       "    }\n",
       "</style>\n",
       "<table border=\"1\" class=\"dataframe\">\n",
       "  <thead>\n",
       "    <tr style=\"text-align: right;\">\n",
       "      <th></th>\n",
       "      <th>VendorID</th>\n",
       "      <th>lpep_pickup_datetime</th>\n",
       "      <th>lpep_dropoff_datetime</th>\n",
       "      <th>store_and_fwd_flag</th>\n",
       "      <th>RatecodeID</th>\n",
       "      <th>PULocationID</th>\n",
       "      <th>DOLocationID</th>\n",
       "      <th>passenger_count</th>\n",
       "      <th>trip_distance</th>\n",
       "      <th>fare_amount</th>\n",
       "      <th>extra</th>\n",
       "      <th>mta_tax</th>\n",
       "      <th>tip_amount</th>\n",
       "      <th>tolls_amount</th>\n",
       "      <th>ehail_fee</th>\n",
       "      <th>improvement_surcharge</th>\n",
       "      <th>total_amount</th>\n",
       "      <th>payment_type</th>\n",
       "      <th>trip_type</th>\n",
       "      <th>congestion_surcharge</th>\n",
       "    </tr>\n",
       "  </thead>\n",
       "  <tbody>\n",
       "    <tr>\n",
       "      <th>0</th>\n",
       "      <td>2</td>\n",
       "      <td>2021-02-01 00:34:03</td>\n",
       "      <td>2021-02-01 00:51:58</td>\n",
       "      <td>N</td>\n",
       "      <td>1.0</td>\n",
       "      <td>130</td>\n",
       "      <td>205</td>\n",
       "      <td>5.0</td>\n",
       "      <td>3.66</td>\n",
       "      <td>14.0</td>\n",
       "      <td>0.5</td>\n",
       "      <td>0.5</td>\n",
       "      <td>10.00</td>\n",
       "      <td>0.0</td>\n",
       "      <td>None</td>\n",
       "      <td>0.3</td>\n",
       "      <td>25.30</td>\n",
       "      <td>1.0</td>\n",
       "      <td>1.0</td>\n",
       "      <td>0.00</td>\n",
       "    </tr>\n",
       "    <tr>\n",
       "      <th>1</th>\n",
       "      <td>2</td>\n",
       "      <td>2021-02-01 00:04:00</td>\n",
       "      <td>2021-02-01 00:10:30</td>\n",
       "      <td>N</td>\n",
       "      <td>1.0</td>\n",
       "      <td>152</td>\n",
       "      <td>244</td>\n",
       "      <td>1.0</td>\n",
       "      <td>1.10</td>\n",
       "      <td>6.5</td>\n",
       "      <td>0.5</td>\n",
       "      <td>0.5</td>\n",
       "      <td>0.00</td>\n",
       "      <td>0.0</td>\n",
       "      <td>None</td>\n",
       "      <td>0.3</td>\n",
       "      <td>7.80</td>\n",
       "      <td>2.0</td>\n",
       "      <td>1.0</td>\n",
       "      <td>0.00</td>\n",
       "    </tr>\n",
       "    <tr>\n",
       "      <th>2</th>\n",
       "      <td>2</td>\n",
       "      <td>2021-02-01 00:18:51</td>\n",
       "      <td>2021-02-01 00:34:06</td>\n",
       "      <td>N</td>\n",
       "      <td>1.0</td>\n",
       "      <td>152</td>\n",
       "      <td>48</td>\n",
       "      <td>1.0</td>\n",
       "      <td>4.93</td>\n",
       "      <td>16.5</td>\n",
       "      <td>0.5</td>\n",
       "      <td>0.5</td>\n",
       "      <td>0.00</td>\n",
       "      <td>0.0</td>\n",
       "      <td>None</td>\n",
       "      <td>0.3</td>\n",
       "      <td>20.55</td>\n",
       "      <td>2.0</td>\n",
       "      <td>1.0</td>\n",
       "      <td>2.75</td>\n",
       "    </tr>\n",
       "    <tr>\n",
       "      <th>3</th>\n",
       "      <td>2</td>\n",
       "      <td>2021-02-01 00:53:27</td>\n",
       "      <td>2021-02-01 01:11:41</td>\n",
       "      <td>N</td>\n",
       "      <td>1.0</td>\n",
       "      <td>152</td>\n",
       "      <td>241</td>\n",
       "      <td>1.0</td>\n",
       "      <td>6.70</td>\n",
       "      <td>21.0</td>\n",
       "      <td>0.5</td>\n",
       "      <td>0.5</td>\n",
       "      <td>0.00</td>\n",
       "      <td>0.0</td>\n",
       "      <td>None</td>\n",
       "      <td>0.3</td>\n",
       "      <td>22.30</td>\n",
       "      <td>2.0</td>\n",
       "      <td>1.0</td>\n",
       "      <td>0.00</td>\n",
       "    </tr>\n",
       "    <tr>\n",
       "      <th>4</th>\n",
       "      <td>2</td>\n",
       "      <td>2021-02-01 00:57:46</td>\n",
       "      <td>2021-02-01 01:06:44</td>\n",
       "      <td>N</td>\n",
       "      <td>1.0</td>\n",
       "      <td>75</td>\n",
       "      <td>42</td>\n",
       "      <td>1.0</td>\n",
       "      <td>1.89</td>\n",
       "      <td>8.5</td>\n",
       "      <td>0.5</td>\n",
       "      <td>0.5</td>\n",
       "      <td>2.45</td>\n",
       "      <td>0.0</td>\n",
       "      <td>None</td>\n",
       "      <td>0.3</td>\n",
       "      <td>12.25</td>\n",
       "      <td>1.0</td>\n",
       "      <td>1.0</td>\n",
       "      <td>0.00</td>\n",
       "    </tr>\n",
       "  </tbody>\n",
       "</table>\n",
       "</div>"
      ],
      "text/plain": [
       "   VendorID lpep_pickup_datetime lpep_dropoff_datetime store_and_fwd_flag  \\\n",
       "0         2  2021-02-01 00:34:03   2021-02-01 00:51:58                  N   \n",
       "1         2  2021-02-01 00:04:00   2021-02-01 00:10:30                  N   \n",
       "2         2  2021-02-01 00:18:51   2021-02-01 00:34:06                  N   \n",
       "3         2  2021-02-01 00:53:27   2021-02-01 01:11:41                  N   \n",
       "4         2  2021-02-01 00:57:46   2021-02-01 01:06:44                  N   \n",
       "\n",
       "   RatecodeID  PULocationID  DOLocationID  passenger_count  trip_distance  \\\n",
       "0         1.0           130           205              5.0           3.66   \n",
       "1         1.0           152           244              1.0           1.10   \n",
       "2         1.0           152            48              1.0           4.93   \n",
       "3         1.0           152           241              1.0           6.70   \n",
       "4         1.0            75            42              1.0           1.89   \n",
       "\n",
       "   fare_amount  extra  mta_tax  tip_amount  tolls_amount ehail_fee  \\\n",
       "0         14.0    0.5      0.5       10.00           0.0      None   \n",
       "1          6.5    0.5      0.5        0.00           0.0      None   \n",
       "2         16.5    0.5      0.5        0.00           0.0      None   \n",
       "3         21.0    0.5      0.5        0.00           0.0      None   \n",
       "4          8.5    0.5      0.5        2.45           0.0      None   \n",
       "\n",
       "   improvement_surcharge  total_amount  payment_type  trip_type  \\\n",
       "0                    0.3         25.30           1.0        1.0   \n",
       "1                    0.3          7.80           2.0        1.0   \n",
       "2                    0.3         20.55           2.0        1.0   \n",
       "3                    0.3         22.30           2.0        1.0   \n",
       "4                    0.3         12.25           1.0        1.0   \n",
       "\n",
       "   congestion_surcharge  \n",
       "0                  0.00  \n",
       "1                  0.00  \n",
       "2                  2.75  \n",
       "3                  0.00  \n",
       "4                  0.00  "
      ]
     },
     "execution_count": 9,
     "metadata": {},
     "output_type": "execute_result"
    }
   ],
   "source": [
    "df.head()"
   ]
  },
  {
   "cell_type": "code",
   "execution_count": 24,
   "id": "ad3a58f5-9c7a-496e-9116-65304cf765d2",
   "metadata": {},
   "outputs": [
    {
     "name": "stdout",
     "output_type": "stream",
     "text": [
      "<class 'pandas.core.frame.DataFrame'>\n",
      "RangeIndex: 76518 entries, 0 to 76517\n",
      "Data columns (total 20 columns):\n",
      " #   Column                 Non-Null Count  Dtype         \n",
      "---  ------                 --------------  -----         \n",
      " 0   VendorID               76518 non-null  int64         \n",
      " 1   lpep_pickup_datetime   76518 non-null  datetime64[us]\n",
      " 2   lpep_dropoff_datetime  76518 non-null  datetime64[us]\n",
      " 3   store_and_fwd_flag     40471 non-null  object        \n",
      " 4   RatecodeID             40471 non-null  float64       \n",
      " 5   PULocationID           76518 non-null  int64         \n",
      " 6   DOLocationID           76518 non-null  int64         \n",
      " 7   passenger_count        40471 non-null  float64       \n",
      " 8   trip_distance          76518 non-null  float64       \n",
      " 9   fare_amount            76518 non-null  float64       \n",
      " 10  extra                  76518 non-null  float64       \n",
      " 11  mta_tax                76518 non-null  float64       \n",
      " 12  tip_amount             76518 non-null  float64       \n",
      " 13  tolls_amount           76518 non-null  float64       \n",
      " 14  ehail_fee              0 non-null      object        \n",
      " 15  improvement_surcharge  76518 non-null  float64       \n",
      " 16  total_amount           76518 non-null  float64       \n",
      " 17  payment_type           40471 non-null  float64       \n",
      " 18  trip_type              40471 non-null  float64       \n",
      " 19  congestion_surcharge   40471 non-null  float64       \n",
      "dtypes: datetime64[us](2), float64(13), int64(3), object(2)\n",
      "memory usage: 11.7+ MB\n"
     ]
    }
   ],
   "source": [
    "# Let's look at our updated dataframe :\n",
    "df.info()"
   ]
  },
  {
   "cell_type": "code",
   "execution_count": 40,
   "id": "7dbe719a-d055-4e23-b35c-1e44a0ff6940",
   "metadata": {},
   "outputs": [],
   "source": [
    "#df.dtypes\n",
    "# Date time captured a datetime64 and not as Object(String)"
   ]
  },
  {
   "cell_type": "code",
   "execution_count": 11,
   "id": "05f1751f-e649-41a6-8465-150bffdb8f3b",
   "metadata": {},
   "outputs": [
    {
     "data": {
      "text/html": [
       "<div>\n",
       "<style scoped>\n",
       "    .dataframe tbody tr th:only-of-type {\n",
       "        vertical-align: middle;\n",
       "    }\n",
       "\n",
       "    .dataframe tbody tr th {\n",
       "        vertical-align: top;\n",
       "    }\n",
       "\n",
       "    .dataframe thead th {\n",
       "        text-align: right;\n",
       "    }\n",
       "</style>\n",
       "<table border=\"1\" class=\"dataframe\">\n",
       "  <thead>\n",
       "    <tr style=\"text-align: right;\">\n",
       "      <th></th>\n",
       "      <th>VendorID</th>\n",
       "      <th>lpep_pickup_datetime</th>\n",
       "      <th>lpep_dropoff_datetime</th>\n",
       "      <th>store_and_fwd_flag</th>\n",
       "      <th>RatecodeID</th>\n",
       "      <th>PULocationID</th>\n",
       "      <th>DOLocationID</th>\n",
       "      <th>passenger_count</th>\n",
       "      <th>trip_distance</th>\n",
       "      <th>fare_amount</th>\n",
       "      <th>...</th>\n",
       "      <th>mta_tax</th>\n",
       "      <th>tip_amount</th>\n",
       "      <th>tolls_amount</th>\n",
       "      <th>ehail_fee</th>\n",
       "      <th>improvement_surcharge</th>\n",
       "      <th>total_amount</th>\n",
       "      <th>payment_type</th>\n",
       "      <th>trip_type</th>\n",
       "      <th>congestion_surcharge</th>\n",
       "      <th>Duration</th>\n",
       "    </tr>\n",
       "  </thead>\n",
       "  <tbody>\n",
       "    <tr>\n",
       "      <th>0</th>\n",
       "      <td>2</td>\n",
       "      <td>2021-02-01 00:34:03</td>\n",
       "      <td>2021-02-01 00:51:58</td>\n",
       "      <td>N</td>\n",
       "      <td>1.0</td>\n",
       "      <td>130</td>\n",
       "      <td>205</td>\n",
       "      <td>5.0</td>\n",
       "      <td>3.66</td>\n",
       "      <td>14.00</td>\n",
       "      <td>...</td>\n",
       "      <td>0.5</td>\n",
       "      <td>10.00</td>\n",
       "      <td>0.0</td>\n",
       "      <td>None</td>\n",
       "      <td>0.3</td>\n",
       "      <td>25.30</td>\n",
       "      <td>1.0</td>\n",
       "      <td>1.0</td>\n",
       "      <td>0.00</td>\n",
       "      <td>17.916667</td>\n",
       "    </tr>\n",
       "    <tr>\n",
       "      <th>1</th>\n",
       "      <td>2</td>\n",
       "      <td>2021-02-01 00:04:00</td>\n",
       "      <td>2021-02-01 00:10:30</td>\n",
       "      <td>N</td>\n",
       "      <td>1.0</td>\n",
       "      <td>152</td>\n",
       "      <td>244</td>\n",
       "      <td>1.0</td>\n",
       "      <td>1.10</td>\n",
       "      <td>6.50</td>\n",
       "      <td>...</td>\n",
       "      <td>0.5</td>\n",
       "      <td>0.00</td>\n",
       "      <td>0.0</td>\n",
       "      <td>None</td>\n",
       "      <td>0.3</td>\n",
       "      <td>7.80</td>\n",
       "      <td>2.0</td>\n",
       "      <td>1.0</td>\n",
       "      <td>0.00</td>\n",
       "      <td>6.500000</td>\n",
       "    </tr>\n",
       "    <tr>\n",
       "      <th>2</th>\n",
       "      <td>2</td>\n",
       "      <td>2021-02-01 00:18:51</td>\n",
       "      <td>2021-02-01 00:34:06</td>\n",
       "      <td>N</td>\n",
       "      <td>1.0</td>\n",
       "      <td>152</td>\n",
       "      <td>48</td>\n",
       "      <td>1.0</td>\n",
       "      <td>4.93</td>\n",
       "      <td>16.50</td>\n",
       "      <td>...</td>\n",
       "      <td>0.5</td>\n",
       "      <td>0.00</td>\n",
       "      <td>0.0</td>\n",
       "      <td>None</td>\n",
       "      <td>0.3</td>\n",
       "      <td>20.55</td>\n",
       "      <td>2.0</td>\n",
       "      <td>1.0</td>\n",
       "      <td>2.75</td>\n",
       "      <td>15.250000</td>\n",
       "    </tr>\n",
       "    <tr>\n",
       "      <th>3</th>\n",
       "      <td>2</td>\n",
       "      <td>2021-02-01 00:53:27</td>\n",
       "      <td>2021-02-01 01:11:41</td>\n",
       "      <td>N</td>\n",
       "      <td>1.0</td>\n",
       "      <td>152</td>\n",
       "      <td>241</td>\n",
       "      <td>1.0</td>\n",
       "      <td>6.70</td>\n",
       "      <td>21.00</td>\n",
       "      <td>...</td>\n",
       "      <td>0.5</td>\n",
       "      <td>0.00</td>\n",
       "      <td>0.0</td>\n",
       "      <td>None</td>\n",
       "      <td>0.3</td>\n",
       "      <td>22.30</td>\n",
       "      <td>2.0</td>\n",
       "      <td>1.0</td>\n",
       "      <td>0.00</td>\n",
       "      <td>18.233333</td>\n",
       "    </tr>\n",
       "    <tr>\n",
       "      <th>4</th>\n",
       "      <td>2</td>\n",
       "      <td>2021-02-01 00:57:46</td>\n",
       "      <td>2021-02-01 01:06:44</td>\n",
       "      <td>N</td>\n",
       "      <td>1.0</td>\n",
       "      <td>75</td>\n",
       "      <td>42</td>\n",
       "      <td>1.0</td>\n",
       "      <td>1.89</td>\n",
       "      <td>8.50</td>\n",
       "      <td>...</td>\n",
       "      <td>0.5</td>\n",
       "      <td>2.45</td>\n",
       "      <td>0.0</td>\n",
       "      <td>None</td>\n",
       "      <td>0.3</td>\n",
       "      <td>12.25</td>\n",
       "      <td>1.0</td>\n",
       "      <td>1.0</td>\n",
       "      <td>0.00</td>\n",
       "      <td>8.966667</td>\n",
       "    </tr>\n",
       "    <tr>\n",
       "      <th>...</th>\n",
       "      <td>...</td>\n",
       "      <td>...</td>\n",
       "      <td>...</td>\n",
       "      <td>...</td>\n",
       "      <td>...</td>\n",
       "      <td>...</td>\n",
       "      <td>...</td>\n",
       "      <td>...</td>\n",
       "      <td>...</td>\n",
       "      <td>...</td>\n",
       "      <td>...</td>\n",
       "      <td>...</td>\n",
       "      <td>...</td>\n",
       "      <td>...</td>\n",
       "      <td>...</td>\n",
       "      <td>...</td>\n",
       "      <td>...</td>\n",
       "      <td>...</td>\n",
       "      <td>...</td>\n",
       "      <td>...</td>\n",
       "      <td>...</td>\n",
       "    </tr>\n",
       "    <tr>\n",
       "      <th>64567</th>\n",
       "      <td>2</td>\n",
       "      <td>2021-02-28 22:19:00</td>\n",
       "      <td>2021-02-28 22:29:00</td>\n",
       "      <td>None</td>\n",
       "      <td>NaN</td>\n",
       "      <td>129</td>\n",
       "      <td>7</td>\n",
       "      <td>NaN</td>\n",
       "      <td>2.63</td>\n",
       "      <td>10.04</td>\n",
       "      <td>...</td>\n",
       "      <td>0.0</td>\n",
       "      <td>0.00</td>\n",
       "      <td>0.0</td>\n",
       "      <td>None</td>\n",
       "      <td>0.3</td>\n",
       "      <td>10.34</td>\n",
       "      <td>NaN</td>\n",
       "      <td>NaN</td>\n",
       "      <td>NaN</td>\n",
       "      <td>10.000000</td>\n",
       "    </tr>\n",
       "    <tr>\n",
       "      <th>64568</th>\n",
       "      <td>2</td>\n",
       "      <td>2021-02-28 23:18:00</td>\n",
       "      <td>2021-02-28 23:27:00</td>\n",
       "      <td>None</td>\n",
       "      <td>NaN</td>\n",
       "      <td>116</td>\n",
       "      <td>166</td>\n",
       "      <td>NaN</td>\n",
       "      <td>1.87</td>\n",
       "      <td>8.33</td>\n",
       "      <td>...</td>\n",
       "      <td>0.0</td>\n",
       "      <td>1.89</td>\n",
       "      <td>0.0</td>\n",
       "      <td>None</td>\n",
       "      <td>0.3</td>\n",
       "      <td>10.52</td>\n",
       "      <td>NaN</td>\n",
       "      <td>NaN</td>\n",
       "      <td>NaN</td>\n",
       "      <td>9.000000</td>\n",
       "    </tr>\n",
       "    <tr>\n",
       "      <th>64569</th>\n",
       "      <td>2</td>\n",
       "      <td>2021-02-28 23:44:00</td>\n",
       "      <td>2021-02-28 23:58:00</td>\n",
       "      <td>None</td>\n",
       "      <td>NaN</td>\n",
       "      <td>74</td>\n",
       "      <td>151</td>\n",
       "      <td>NaN</td>\n",
       "      <td>2.40</td>\n",
       "      <td>12.61</td>\n",
       "      <td>...</td>\n",
       "      <td>0.0</td>\n",
       "      <td>0.00</td>\n",
       "      <td>0.0</td>\n",
       "      <td>None</td>\n",
       "      <td>0.3</td>\n",
       "      <td>12.91</td>\n",
       "      <td>NaN</td>\n",
       "      <td>NaN</td>\n",
       "      <td>NaN</td>\n",
       "      <td>14.000000</td>\n",
       "    </tr>\n",
       "    <tr>\n",
       "      <th>64570</th>\n",
       "      <td>2</td>\n",
       "      <td>2021-02-28 23:07:00</td>\n",
       "      <td>2021-02-28 23:14:00</td>\n",
       "      <td>None</td>\n",
       "      <td>NaN</td>\n",
       "      <td>42</td>\n",
       "      <td>42</td>\n",
       "      <td>NaN</td>\n",
       "      <td>1.11</td>\n",
       "      <td>11.95</td>\n",
       "      <td>...</td>\n",
       "      <td>0.0</td>\n",
       "      <td>0.00</td>\n",
       "      <td>0.0</td>\n",
       "      <td>None</td>\n",
       "      <td>0.3</td>\n",
       "      <td>15.00</td>\n",
       "      <td>NaN</td>\n",
       "      <td>NaN</td>\n",
       "      <td>NaN</td>\n",
       "      <td>7.000000</td>\n",
       "    </tr>\n",
       "    <tr>\n",
       "      <th>64571</th>\n",
       "      <td>2</td>\n",
       "      <td>2021-02-28 23:43:00</td>\n",
       "      <td>2021-02-28 23:50:00</td>\n",
       "      <td>None</td>\n",
       "      <td>NaN</td>\n",
       "      <td>42</td>\n",
       "      <td>41</td>\n",
       "      <td>NaN</td>\n",
       "      <td>1.40</td>\n",
       "      <td>8.21</td>\n",
       "      <td>...</td>\n",
       "      <td>0.0</td>\n",
       "      <td>0.00</td>\n",
       "      <td>0.0</td>\n",
       "      <td>None</td>\n",
       "      <td>0.3</td>\n",
       "      <td>8.51</td>\n",
       "      <td>NaN</td>\n",
       "      <td>NaN</td>\n",
       "      <td>NaN</td>\n",
       "      <td>7.000000</td>\n",
       "    </tr>\n",
       "  </tbody>\n",
       "</table>\n",
       "<p>64572 rows × 21 columns</p>\n",
       "</div>"
      ],
      "text/plain": [
       "       VendorID lpep_pickup_datetime lpep_dropoff_datetime store_and_fwd_flag  \\\n",
       "0             2  2021-02-01 00:34:03   2021-02-01 00:51:58                  N   \n",
       "1             2  2021-02-01 00:04:00   2021-02-01 00:10:30                  N   \n",
       "2             2  2021-02-01 00:18:51   2021-02-01 00:34:06                  N   \n",
       "3             2  2021-02-01 00:53:27   2021-02-01 01:11:41                  N   \n",
       "4             2  2021-02-01 00:57:46   2021-02-01 01:06:44                  N   \n",
       "...         ...                  ...                   ...                ...   \n",
       "64567         2  2021-02-28 22:19:00   2021-02-28 22:29:00               None   \n",
       "64568         2  2021-02-28 23:18:00   2021-02-28 23:27:00               None   \n",
       "64569         2  2021-02-28 23:44:00   2021-02-28 23:58:00               None   \n",
       "64570         2  2021-02-28 23:07:00   2021-02-28 23:14:00               None   \n",
       "64571         2  2021-02-28 23:43:00   2021-02-28 23:50:00               None   \n",
       "\n",
       "       RatecodeID  PULocationID  DOLocationID  passenger_count  trip_distance  \\\n",
       "0             1.0           130           205              5.0           3.66   \n",
       "1             1.0           152           244              1.0           1.10   \n",
       "2             1.0           152            48              1.0           4.93   \n",
       "3             1.0           152           241              1.0           6.70   \n",
       "4             1.0            75            42              1.0           1.89   \n",
       "...           ...           ...           ...              ...            ...   \n",
       "64567         NaN           129             7              NaN           2.63   \n",
       "64568         NaN           116           166              NaN           1.87   \n",
       "64569         NaN            74           151              NaN           2.40   \n",
       "64570         NaN            42            42              NaN           1.11   \n",
       "64571         NaN            42            41              NaN           1.40   \n",
       "\n",
       "       fare_amount  ...  mta_tax  tip_amount  tolls_amount  ehail_fee  \\\n",
       "0            14.00  ...      0.5       10.00           0.0       None   \n",
       "1             6.50  ...      0.5        0.00           0.0       None   \n",
       "2            16.50  ...      0.5        0.00           0.0       None   \n",
       "3            21.00  ...      0.5        0.00           0.0       None   \n",
       "4             8.50  ...      0.5        2.45           0.0       None   \n",
       "...            ...  ...      ...         ...           ...        ...   \n",
       "64567        10.04  ...      0.0        0.00           0.0       None   \n",
       "64568         8.33  ...      0.0        1.89           0.0       None   \n",
       "64569        12.61  ...      0.0        0.00           0.0       None   \n",
       "64570        11.95  ...      0.0        0.00           0.0       None   \n",
       "64571         8.21  ...      0.0        0.00           0.0       None   \n",
       "\n",
       "      improvement_surcharge  total_amount  payment_type  trip_type  \\\n",
       "0                       0.3         25.30           1.0        1.0   \n",
       "1                       0.3          7.80           2.0        1.0   \n",
       "2                       0.3         20.55           2.0        1.0   \n",
       "3                       0.3         22.30           2.0        1.0   \n",
       "4                       0.3         12.25           1.0        1.0   \n",
       "...                     ...           ...           ...        ...   \n",
       "64567                   0.3         10.34           NaN        NaN   \n",
       "64568                   0.3         10.52           NaN        NaN   \n",
       "64569                   0.3         12.91           NaN        NaN   \n",
       "64570                   0.3         15.00           NaN        NaN   \n",
       "64571                   0.3          8.51           NaN        NaN   \n",
       "\n",
       "       congestion_surcharge   Duration  \n",
       "0                      0.00  17.916667  \n",
       "1                      0.00   6.500000  \n",
       "2                      2.75  15.250000  \n",
       "3                      0.00  18.233333  \n",
       "4                      0.00   8.966667  \n",
       "...                     ...        ...  \n",
       "64567                   NaN  10.000000  \n",
       "64568                   NaN   9.000000  \n",
       "64569                   NaN  14.000000  \n",
       "64570                   NaN   7.000000  \n",
       "64571                   NaN   7.000000  \n",
       "\n",
       "[64572 rows x 21 columns]"
      ]
     },
     "execution_count": 11,
     "metadata": {},
     "output_type": "execute_result"
    }
   ],
   "source": [
    "df['Duration'] = (df['lpep_dropoff_datetime'] - df['lpep_pickup_datetime']) / pd.Timedelta(minutes=1)\n",
    "df"
   ]
  },
  {
   "cell_type": "code",
   "execution_count": 14,
   "id": "d269549b-ec70-4f17-a8a4-29e08fabf15d",
   "metadata": {},
   "outputs": [
    {
     "data": {
      "text/html": [
       "<div>\n",
       "<style scoped>\n",
       "    .dataframe tbody tr th:only-of-type {\n",
       "        vertical-align: middle;\n",
       "    }\n",
       "\n",
       "    .dataframe tbody tr th {\n",
       "        vertical-align: top;\n",
       "    }\n",
       "\n",
       "    .dataframe thead th {\n",
       "        text-align: right;\n",
       "    }\n",
       "</style>\n",
       "<table border=\"1\" class=\"dataframe\">\n",
       "  <thead>\n",
       "    <tr style=\"text-align: right;\">\n",
       "      <th></th>\n",
       "      <th>VendorID</th>\n",
       "      <th>lpep_pickup_datetime</th>\n",
       "      <th>lpep_dropoff_datetime</th>\n",
       "      <th>store_and_fwd_flag</th>\n",
       "      <th>RatecodeID</th>\n",
       "      <th>PULocationID</th>\n",
       "      <th>DOLocationID</th>\n",
       "      <th>passenger_count</th>\n",
       "      <th>trip_distance</th>\n",
       "      <th>fare_amount</th>\n",
       "      <th>...</th>\n",
       "      <th>tip_amount</th>\n",
       "      <th>tolls_amount</th>\n",
       "      <th>ehail_fee</th>\n",
       "      <th>improvement_surcharge</th>\n",
       "      <th>total_amount</th>\n",
       "      <th>payment_type</th>\n",
       "      <th>trip_type</th>\n",
       "      <th>congestion_surcharge</th>\n",
       "      <th>Duration</th>\n",
       "      <th>duration</th>\n",
       "    </tr>\n",
       "  </thead>\n",
       "  <tbody>\n",
       "    <tr>\n",
       "      <th>0</th>\n",
       "      <td>2</td>\n",
       "      <td>2021-02-01 00:34:03</td>\n",
       "      <td>2021-02-01 00:51:58</td>\n",
       "      <td>N</td>\n",
       "      <td>1.0</td>\n",
       "      <td>130</td>\n",
       "      <td>205</td>\n",
       "      <td>5.0</td>\n",
       "      <td>3.66</td>\n",
       "      <td>14.00</td>\n",
       "      <td>...</td>\n",
       "      <td>10.00</td>\n",
       "      <td>0.0</td>\n",
       "      <td>None</td>\n",
       "      <td>0.3</td>\n",
       "      <td>25.30</td>\n",
       "      <td>1.0</td>\n",
       "      <td>1.0</td>\n",
       "      <td>0.00</td>\n",
       "      <td>17.916667</td>\n",
       "      <td>17.916667</td>\n",
       "    </tr>\n",
       "    <tr>\n",
       "      <th>1</th>\n",
       "      <td>2</td>\n",
       "      <td>2021-02-01 00:04:00</td>\n",
       "      <td>2021-02-01 00:10:30</td>\n",
       "      <td>N</td>\n",
       "      <td>1.0</td>\n",
       "      <td>152</td>\n",
       "      <td>244</td>\n",
       "      <td>1.0</td>\n",
       "      <td>1.10</td>\n",
       "      <td>6.50</td>\n",
       "      <td>...</td>\n",
       "      <td>0.00</td>\n",
       "      <td>0.0</td>\n",
       "      <td>None</td>\n",
       "      <td>0.3</td>\n",
       "      <td>7.80</td>\n",
       "      <td>2.0</td>\n",
       "      <td>1.0</td>\n",
       "      <td>0.00</td>\n",
       "      <td>6.500000</td>\n",
       "      <td>6.500000</td>\n",
       "    </tr>\n",
       "    <tr>\n",
       "      <th>2</th>\n",
       "      <td>2</td>\n",
       "      <td>2021-02-01 00:18:51</td>\n",
       "      <td>2021-02-01 00:34:06</td>\n",
       "      <td>N</td>\n",
       "      <td>1.0</td>\n",
       "      <td>152</td>\n",
       "      <td>48</td>\n",
       "      <td>1.0</td>\n",
       "      <td>4.93</td>\n",
       "      <td>16.50</td>\n",
       "      <td>...</td>\n",
       "      <td>0.00</td>\n",
       "      <td>0.0</td>\n",
       "      <td>None</td>\n",
       "      <td>0.3</td>\n",
       "      <td>20.55</td>\n",
       "      <td>2.0</td>\n",
       "      <td>1.0</td>\n",
       "      <td>2.75</td>\n",
       "      <td>15.250000</td>\n",
       "      <td>15.250000</td>\n",
       "    </tr>\n",
       "    <tr>\n",
       "      <th>3</th>\n",
       "      <td>2</td>\n",
       "      <td>2021-02-01 00:53:27</td>\n",
       "      <td>2021-02-01 01:11:41</td>\n",
       "      <td>N</td>\n",
       "      <td>1.0</td>\n",
       "      <td>152</td>\n",
       "      <td>241</td>\n",
       "      <td>1.0</td>\n",
       "      <td>6.70</td>\n",
       "      <td>21.00</td>\n",
       "      <td>...</td>\n",
       "      <td>0.00</td>\n",
       "      <td>0.0</td>\n",
       "      <td>None</td>\n",
       "      <td>0.3</td>\n",
       "      <td>22.30</td>\n",
       "      <td>2.0</td>\n",
       "      <td>1.0</td>\n",
       "      <td>0.00</td>\n",
       "      <td>18.233333</td>\n",
       "      <td>18.233333</td>\n",
       "    </tr>\n",
       "    <tr>\n",
       "      <th>4</th>\n",
       "      <td>2</td>\n",
       "      <td>2021-02-01 00:57:46</td>\n",
       "      <td>2021-02-01 01:06:44</td>\n",
       "      <td>N</td>\n",
       "      <td>1.0</td>\n",
       "      <td>75</td>\n",
       "      <td>42</td>\n",
       "      <td>1.0</td>\n",
       "      <td>1.89</td>\n",
       "      <td>8.50</td>\n",
       "      <td>...</td>\n",
       "      <td>2.45</td>\n",
       "      <td>0.0</td>\n",
       "      <td>None</td>\n",
       "      <td>0.3</td>\n",
       "      <td>12.25</td>\n",
       "      <td>1.0</td>\n",
       "      <td>1.0</td>\n",
       "      <td>0.00</td>\n",
       "      <td>8.966667</td>\n",
       "      <td>8.966667</td>\n",
       "    </tr>\n",
       "    <tr>\n",
       "      <th>...</th>\n",
       "      <td>...</td>\n",
       "      <td>...</td>\n",
       "      <td>...</td>\n",
       "      <td>...</td>\n",
       "      <td>...</td>\n",
       "      <td>...</td>\n",
       "      <td>...</td>\n",
       "      <td>...</td>\n",
       "      <td>...</td>\n",
       "      <td>...</td>\n",
       "      <td>...</td>\n",
       "      <td>...</td>\n",
       "      <td>...</td>\n",
       "      <td>...</td>\n",
       "      <td>...</td>\n",
       "      <td>...</td>\n",
       "      <td>...</td>\n",
       "      <td>...</td>\n",
       "      <td>...</td>\n",
       "      <td>...</td>\n",
       "      <td>...</td>\n",
       "    </tr>\n",
       "    <tr>\n",
       "      <th>64567</th>\n",
       "      <td>2</td>\n",
       "      <td>2021-02-28 22:19:00</td>\n",
       "      <td>2021-02-28 22:29:00</td>\n",
       "      <td>None</td>\n",
       "      <td>NaN</td>\n",
       "      <td>129</td>\n",
       "      <td>7</td>\n",
       "      <td>NaN</td>\n",
       "      <td>2.63</td>\n",
       "      <td>10.04</td>\n",
       "      <td>...</td>\n",
       "      <td>0.00</td>\n",
       "      <td>0.0</td>\n",
       "      <td>None</td>\n",
       "      <td>0.3</td>\n",
       "      <td>10.34</td>\n",
       "      <td>NaN</td>\n",
       "      <td>NaN</td>\n",
       "      <td>NaN</td>\n",
       "      <td>10.000000</td>\n",
       "      <td>10.000000</td>\n",
       "    </tr>\n",
       "    <tr>\n",
       "      <th>64568</th>\n",
       "      <td>2</td>\n",
       "      <td>2021-02-28 23:18:00</td>\n",
       "      <td>2021-02-28 23:27:00</td>\n",
       "      <td>None</td>\n",
       "      <td>NaN</td>\n",
       "      <td>116</td>\n",
       "      <td>166</td>\n",
       "      <td>NaN</td>\n",
       "      <td>1.87</td>\n",
       "      <td>8.33</td>\n",
       "      <td>...</td>\n",
       "      <td>1.89</td>\n",
       "      <td>0.0</td>\n",
       "      <td>None</td>\n",
       "      <td>0.3</td>\n",
       "      <td>10.52</td>\n",
       "      <td>NaN</td>\n",
       "      <td>NaN</td>\n",
       "      <td>NaN</td>\n",
       "      <td>9.000000</td>\n",
       "      <td>9.000000</td>\n",
       "    </tr>\n",
       "    <tr>\n",
       "      <th>64569</th>\n",
       "      <td>2</td>\n",
       "      <td>2021-02-28 23:44:00</td>\n",
       "      <td>2021-02-28 23:58:00</td>\n",
       "      <td>None</td>\n",
       "      <td>NaN</td>\n",
       "      <td>74</td>\n",
       "      <td>151</td>\n",
       "      <td>NaN</td>\n",
       "      <td>2.40</td>\n",
       "      <td>12.61</td>\n",
       "      <td>...</td>\n",
       "      <td>0.00</td>\n",
       "      <td>0.0</td>\n",
       "      <td>None</td>\n",
       "      <td>0.3</td>\n",
       "      <td>12.91</td>\n",
       "      <td>NaN</td>\n",
       "      <td>NaN</td>\n",
       "      <td>NaN</td>\n",
       "      <td>14.000000</td>\n",
       "      <td>14.000000</td>\n",
       "    </tr>\n",
       "    <tr>\n",
       "      <th>64570</th>\n",
       "      <td>2</td>\n",
       "      <td>2021-02-28 23:07:00</td>\n",
       "      <td>2021-02-28 23:14:00</td>\n",
       "      <td>None</td>\n",
       "      <td>NaN</td>\n",
       "      <td>42</td>\n",
       "      <td>42</td>\n",
       "      <td>NaN</td>\n",
       "      <td>1.11</td>\n",
       "      <td>11.95</td>\n",
       "      <td>...</td>\n",
       "      <td>0.00</td>\n",
       "      <td>0.0</td>\n",
       "      <td>None</td>\n",
       "      <td>0.3</td>\n",
       "      <td>15.00</td>\n",
       "      <td>NaN</td>\n",
       "      <td>NaN</td>\n",
       "      <td>NaN</td>\n",
       "      <td>7.000000</td>\n",
       "      <td>7.000000</td>\n",
       "    </tr>\n",
       "    <tr>\n",
       "      <th>64571</th>\n",
       "      <td>2</td>\n",
       "      <td>2021-02-28 23:43:00</td>\n",
       "      <td>2021-02-28 23:50:00</td>\n",
       "      <td>None</td>\n",
       "      <td>NaN</td>\n",
       "      <td>42</td>\n",
       "      <td>41</td>\n",
       "      <td>NaN</td>\n",
       "      <td>1.40</td>\n",
       "      <td>8.21</td>\n",
       "      <td>...</td>\n",
       "      <td>0.00</td>\n",
       "      <td>0.0</td>\n",
       "      <td>None</td>\n",
       "      <td>0.3</td>\n",
       "      <td>8.51</td>\n",
       "      <td>NaN</td>\n",
       "      <td>NaN</td>\n",
       "      <td>NaN</td>\n",
       "      <td>7.000000</td>\n",
       "      <td>7.000000</td>\n",
       "    </tr>\n",
       "  </tbody>\n",
       "</table>\n",
       "<p>64572 rows × 22 columns</p>\n",
       "</div>"
      ],
      "text/plain": [
       "       VendorID lpep_pickup_datetime lpep_dropoff_datetime store_and_fwd_flag  \\\n",
       "0             2  2021-02-01 00:34:03   2021-02-01 00:51:58                  N   \n",
       "1             2  2021-02-01 00:04:00   2021-02-01 00:10:30                  N   \n",
       "2             2  2021-02-01 00:18:51   2021-02-01 00:34:06                  N   \n",
       "3             2  2021-02-01 00:53:27   2021-02-01 01:11:41                  N   \n",
       "4             2  2021-02-01 00:57:46   2021-02-01 01:06:44                  N   \n",
       "...         ...                  ...                   ...                ...   \n",
       "64567         2  2021-02-28 22:19:00   2021-02-28 22:29:00               None   \n",
       "64568         2  2021-02-28 23:18:00   2021-02-28 23:27:00               None   \n",
       "64569         2  2021-02-28 23:44:00   2021-02-28 23:58:00               None   \n",
       "64570         2  2021-02-28 23:07:00   2021-02-28 23:14:00               None   \n",
       "64571         2  2021-02-28 23:43:00   2021-02-28 23:50:00               None   \n",
       "\n",
       "       RatecodeID  PULocationID  DOLocationID  passenger_count  trip_distance  \\\n",
       "0             1.0           130           205              5.0           3.66   \n",
       "1             1.0           152           244              1.0           1.10   \n",
       "2             1.0           152            48              1.0           4.93   \n",
       "3             1.0           152           241              1.0           6.70   \n",
       "4             1.0            75            42              1.0           1.89   \n",
       "...           ...           ...           ...              ...            ...   \n",
       "64567         NaN           129             7              NaN           2.63   \n",
       "64568         NaN           116           166              NaN           1.87   \n",
       "64569         NaN            74           151              NaN           2.40   \n",
       "64570         NaN            42            42              NaN           1.11   \n",
       "64571         NaN            42            41              NaN           1.40   \n",
       "\n",
       "       fare_amount  ...  tip_amount  tolls_amount  ehail_fee  \\\n",
       "0            14.00  ...       10.00           0.0       None   \n",
       "1             6.50  ...        0.00           0.0       None   \n",
       "2            16.50  ...        0.00           0.0       None   \n",
       "3            21.00  ...        0.00           0.0       None   \n",
       "4             8.50  ...        2.45           0.0       None   \n",
       "...            ...  ...         ...           ...        ...   \n",
       "64567        10.04  ...        0.00           0.0       None   \n",
       "64568         8.33  ...        1.89           0.0       None   \n",
       "64569        12.61  ...        0.00           0.0       None   \n",
       "64570        11.95  ...        0.00           0.0       None   \n",
       "64571         8.21  ...        0.00           0.0       None   \n",
       "\n",
       "       improvement_surcharge total_amount  payment_type  trip_type  \\\n",
       "0                        0.3        25.30           1.0        1.0   \n",
       "1                        0.3         7.80           2.0        1.0   \n",
       "2                        0.3        20.55           2.0        1.0   \n",
       "3                        0.3        22.30           2.0        1.0   \n",
       "4                        0.3        12.25           1.0        1.0   \n",
       "...                      ...          ...           ...        ...   \n",
       "64567                    0.3        10.34           NaN        NaN   \n",
       "64568                    0.3        10.52           NaN        NaN   \n",
       "64569                    0.3        12.91           NaN        NaN   \n",
       "64570                    0.3        15.00           NaN        NaN   \n",
       "64571                    0.3         8.51           NaN        NaN   \n",
       "\n",
       "       congestion_surcharge   Duration   duration  \n",
       "0                      0.00  17.916667  17.916667  \n",
       "1                      0.00   6.500000   6.500000  \n",
       "2                      2.75  15.250000  15.250000  \n",
       "3                      0.00  18.233333  18.233333  \n",
       "4                      0.00   8.966667   8.966667  \n",
       "...                     ...        ...        ...  \n",
       "64567                   NaN  10.000000  10.000000  \n",
       "64568                   NaN   9.000000   9.000000  \n",
       "64569                   NaN  14.000000  14.000000  \n",
       "64570                   NaN   7.000000   7.000000  \n",
       "64571                   NaN   7.000000   7.000000  \n",
       "\n",
       "[64572 rows x 22 columns]"
      ]
     },
     "execution_count": 14,
     "metadata": {},
     "output_type": "execute_result"
    }
   ],
   "source": [
    "df['duration'] = df.lpep_dropoff_datetime - df.lpep_pickup_datetime  # duration column vs Duration column\n",
    "df.duration = df.duration.apply(lambda td: td.total_seconds() / 60) \n",
    "df"
   ]
  },
  {
   "cell_type": "markdown",
   "id": "ad63c3a2-4df6-488c-a689-3c5139848219",
   "metadata": {},
   "source": [
    "### Q3. Dropping outliers"
   ]
  },
  {
   "cell_type": "code",
   "execution_count": 16,
   "id": "f56342e4-c5a1-49ee-b4b1-27177e926ec8",
   "metadata": {},
   "outputs": [
    {
     "data": {
      "text/plain": [
       "<Axes: >"
      ]
     },
     "execution_count": 16,
     "metadata": {},
     "output_type": "execute_result"
    },
    {
     "data": {
      "image/png": "[encoded data removed]",
      "text/plain": [
       "<Figure size 640x480 with 1 Axes>"
      ]
     },
     "metadata": {},
     "output_type": "display_data"
    }
   ],
   "source": [
    "df.boxplot(column='duration')"
   ]
  },
  {
   "cell_type": "code",
   "execution_count": 15,
   "id": "572385b4-c38f-43f0-96b7-28e267d96eef",
   "metadata": {},
   "outputs": [
    {
     "data": {
      "text/plain": [
       "20.978723750232298"
      ]
     },
     "execution_count": 15,
     "metadata": {},
     "output_type": "execute_result"
    }
   ],
   "source": [
    "df.duration.mean()"
   ]
  },
  {
   "cell_type": "code",
   "execution_count": 39,
   "id": "d44a74f6-01e5-4fa3-b280-120b9bac839d",
   "metadata": {},
   "outputs": [
    {
     "name": "stdout",
     "output_type": "stream",
     "text": [
      "The standard deviation of trip duration in January is 12.172528994581938\n"
     ]
    }
   ],
   "source": [
    "print(f\"The standard deviation of trip duration in January is {df['duration'].std()}\")\n"
   ]
  },
  {
   "cell_type": "raw",
   "id": "fb898b8a-8d40-4e86-81b3-5865ccf647ac",
   "metadata": {},
   "source": [
    "# Is this std very large!"
   ]
  },
  {
   "cell_type": "code",
   "execution_count": 38,
   "id": "f77e3495-41d7-43ca-9798-436f481a9c83",
   "metadata": {},
   "outputs": [
    {
     "name": "stderr",
     "output_type": "stream",
     "text": [
      "/tmp/ipykernel_20006/3097839625.py:1: UserWarning: \n",
      "\n",
      "`distplot` is a deprecated function and will be removed in seaborn v0.14.0.\n",
      "\n",
      "Please adapt your code to use either `displot` (a figure-level function with\n",
      "similar flexibility) or `histplot` (an axes-level function for histograms).\n",
      "\n",
      "For a guide to updating your code to use the new functions, please see\n",
      "https://gist.github.com/mwaskom/de44147ed2974457ad6372750bbe5751\n",
      "\n",
      "  sns.distplot(df['duration'])  # It shows that The tail is enormous lets see how big with numbers\n"
     ]
    },
    {
     "data": {
      "text/plain": [
       "<Axes: xlabel='duration', ylabel='Count'>"
      ]
     },
     "execution_count": 38,
     "metadata": {},
     "output_type": "execute_result"
    }
   ],
   "source": [
    "sns.distplot(df['duration'])  # It shows that The tail is enormous lets see how big with numbers"
   ]
  },
  {
   "cell_type": "code",
   "execution_count": 18,
   "id": "6f6280d0-3dc4-4362-a46a-39ea858a6a07",
   "metadata": {},
   "outputs": [
    {
     "data": {
      "text/plain": [
       "22.46401032781929"
      ]
     },
     "execution_count": 18,
     "metadata": {},
     "output_type": "execute_result"
    }
   ],
   "source": [
    "df.duration.skew()"
   ]
  },
  {
   "cell_type": "code",
   "execution_count": 19,
   "id": "32e94797-fab9-47ed-8087-54e5787bf8a4",
   "metadata": {},
   "outputs": [
    {
     "data": {
      "text/plain": [
       "count    64572.000000\n",
       "mean        20.978724\n",
       "std         53.167437\n",
       "min          0.000000\n",
       "25%          8.516667\n",
       "50%         14.825000\n",
       "75%         24.950000\n",
       "max       1439.616667\n",
       "Name: duration, dtype: float64"
      ]
     },
     "execution_count": 19,
     "metadata": {},
     "output_type": "execute_result"
    }
   ],
   "source": [
    "df['duration'].describe()  # Some errors are here, e.g in fhv data how can a ride be negative, and the largest ride is 10,000 minutes!\n",
    "# 50% trip less than the mean 14 mins\n",
    "#  maximum 24.95 hour trip"
   ]
  },
  {
   "cell_type": "code",
   "execution_count": 20,
   "id": "7f3facc4-3c31-471d-9a77-530797470a9c",
   "metadata": {},
   "outputs": [
    {
     "data": {
      "text/plain": [
       "38.3"
      ]
     },
     "execution_count": 20,
     "metadata": {},
     "output_type": "execute_result"
    }
   ],
   "source": [
    "df['duration'].quantile(0.90)\n",
    "\n",
    "# OR you can use\n",
    "# #Identify which extreme values to remove\n",
    "# df['duration'].describe(percentiles=[0.01, 0.05, 0.95, 0.98, 0.99])\n",
    "# We can be more selective in this manner but we're asked to find out the proportion of values between 1 and 60 minutes. So that is what we will do\n",
    "\n",
    "# #Filter between 1 and 60 minutes\n",
    "# print(f\"The percentage of values remaining is: {((df_jan['duration'] >=1) & (df_jan['duration']<=60)).mean()*100}%\")\n",
    "\n",
    "# #Create a filtered version for future work\n",
    "# df_jan_filt = df_jan[(df_jan['duration'] >=1) & (df_jan['duration']<=60)]\n",
    "# df_jan_filt['duration'].describe()"
   ]
  },
  {
   "cell_type": "raw",
   "id": "a3b9b9ad-0248-41aa-8ecf-8143ca8f85e2",
   "metadata": {},
   "source": [
    "Almost 75% of Duration values are within 24.95 minutes and 90% of data are having values less than 38.36 minutes."
   ]
  },
  {
   "cell_type": "code",
   "execution_count": 21,
   "id": "787a5c32-c74f-4aa4-991c-c195c598e823",
   "metadata": {},
   "outputs": [
    {
     "data": {
      "text/plain": [
       "8.516666666666667"
      ]
     },
     "execution_count": 21,
     "metadata": {},
     "output_type": "execute_result"
    }
   ],
   "source": [
    "df['duration'].quantile(0.25)"
   ]
  },
  {
   "cell_type": "code",
   "execution_count": 22,
   "id": "a7889b5b-37a3-442b-9f75-0ba9b7fc8f6a",
   "metadata": {},
   "outputs": [
    {
     "data": {
      "text/plain": [
       "49.599999999999994"
      ]
     },
     "execution_count": 22,
     "metadata": {},
     "output_type": "execute_result"
    }
   ],
   "source": [
    "Q1 = df['Duration'].quantile(0.25)\n",
    "Q3 = df['Duration'].quantile(0.75)\n",
    "IQR = Q3 - Q1\n",
    "\n",
    "Q3 + 1.5 * IQR"
   ]
  },
  {
   "cell_type": "raw",
   "id": "4a01e66e-c122-4721-83ea-3f391b6e6583",
   "metadata": {},
   "source": [
    "Upper limit of the inter quartile range is also capped at 49.6.\n",
    "\n",
    "Let us consider the data with Duration between 1 and 60 minutes inclusive and see the distribution."
   ]
  },
  {
   "cell_type": "code",
   "execution_count": 25,
   "id": "25ecc147-597a-400a-92d3-1d581867e278",
   "metadata": {},
   "outputs": [
    {
     "data": {
      "text/plain": [
       "64572"
      ]
     },
     "execution_count": 25,
     "metadata": {},
     "output_type": "execute_result"
    }
   ],
   "source": [
    "initial_rec_count = df.shape[0]\n",
    "initial_rec_count     # (64572, 20)"
   ]
  },
  {
   "cell_type": "code",
   "execution_count": 29,
   "id": "e937b8b9-7eae-4722-9d6b-6f79335f5312",
   "metadata": {},
   "outputs": [
    {
     "data": {
      "text/plain": [
       "(61921, 22)"
      ]
     },
     "execution_count": 29,
     "metadata": {},
     "output_type": "execute_result"
    }
   ],
   "source": [
    "df = df[(df['Duration'] >= 1) & (df['Duration'] <= 60)]\n",
    "df.shape"
   ]
  },
  {
   "cell_type": "code",
   "execution_count": null,
   "id": "6e8f248e-a637-4fe4-92f4-10bb02b72a25",
   "metadata": {},
   "outputs": [],
   "source": [
    " ### before removing Outliers = (61921, 22)   vs After# (64572, 20)"
   ]
  },
  {
   "cell_type": "markdown",
   "id": "0c54eb54-4f0e-439a-95a7-7540ba85d550",
   "metadata": {},
   "source": [
    "### Q3: How many records did you drop?"
   ]
  },
  {
   "cell_type": "code",
   "execution_count": 30,
   "id": "06b00c0f-a16b-4d82-93c9-f55502162c43",
   "metadata": {},
   "outputs": [
    {
     "data": {
      "text/plain": [
       "2651"
      ]
     },
     "execution_count": 30,
     "metadata": {},
     "output_type": "execute_result"
    }
   ],
   "source": [
    "initial_rec_count - df.shape[0]"
   ]
  },
  {
   "cell_type": "code",
   "execution_count": null,
   "id": "1225f81d-f0e6-4102-b605-320ccd38779c",
   "metadata": {},
   "outputs": [],
   "source": []
  },
  {
   "cell_type": "code",
   "execution_count": 31,
   "id": "494e00fd-541f-452f-9439-0119b1308977",
   "metadata": {},
   "outputs": [
    {
     "data": {
      "image/png": "[encoded data removed]",
      "text/plain": [
       "<Figure size 640x480 with 1 Axes>"
      ]
     },
     "metadata": {},
     "output_type": "display_data"
    }
   ],
   "source": [
    "df.Duration.plot.density(color='green')\n",
    "plt.title('Density plot for Duration')\n",
    "plt.show()\n",
    "\n",
    "# Long Tail with most trips around 10 mins\n",
    "\n",
    "\n",
    "# OTHER PLOTTING OPTIONS\n",
    "# #sns.distplot(y_pred, label='prediction')\n",
    "# sns.histplot(y_pred, label=\"prediction\", kde=True, stat=\"density\", linewidth=0)\n",
    "\n",
    "# #sns.distplot(y_train, label='actual')\n",
    "# sns.histplot(y_train, label=\"actual\", kde=True, stat=\"density\", linewidth=0)\n",
    "\n",
    "\n",
    "# plt.legend()"
   ]
  },
  {
   "cell_type": "code",
   "execution_count": 32,
   "id": "f5999b88-40e1-4780-9afe-fe7aa0543d31",
   "metadata": {},
   "outputs": [
    {
     "data": {
      "text/plain": [
       "1.1433849316885567"
      ]
     },
     "execution_count": 32,
     "metadata": {},
     "output_type": "execute_result"
    }
   ],
   "source": [
    "df.Duration.skew()"
   ]
  },
  {
   "cell_type": "raw",
   "id": "a830b1f2-deb4-4951-aefa-18b9cb5796c2",
   "metadata": {},
   "source": [
    "Although the data is now a little bit right skewed, we will still go ahead with this dataset without any transformation.\n",
    "\n"
   ]
  },
  {
   "cell_type": "code",
   "execution_count": 44,
   "id": "27a8979b-e0df-4098-a5ff-8a6720091e1e",
   "metadata": {},
   "outputs": [
    {
     "data": {
      "text/html": [
       "<div>\n",
       "<style scoped>\n",
       "    .dataframe tbody tr th:only-of-type {\n",
       "        vertical-align: middle;\n",
       "    }\n",
       "\n",
       "    .dataframe tbody tr th {\n",
       "        vertical-align: top;\n",
       "    }\n",
       "\n",
       "    .dataframe thead th {\n",
       "        text-align: right;\n",
       "    }\n",
       "</style>\n",
       "<table border=\"1\" class=\"dataframe\">\n",
       "  <thead>\n",
       "    <tr style=\"text-align: right;\">\n",
       "      <th></th>\n",
       "      <th>VendorID</th>\n",
       "      <th>lpep_pickup_datetime</th>\n",
       "      <th>lpep_dropoff_datetime</th>\n",
       "      <th>store_and_fwd_flag</th>\n",
       "      <th>RatecodeID</th>\n",
       "      <th>PULocationID</th>\n",
       "      <th>DOLocationID</th>\n",
       "      <th>passenger_count</th>\n",
       "      <th>trip_distance</th>\n",
       "      <th>fare_amount</th>\n",
       "      <th>...</th>\n",
       "      <th>tip_amount</th>\n",
       "      <th>tolls_amount</th>\n",
       "      <th>ehail_fee</th>\n",
       "      <th>improvement_surcharge</th>\n",
       "      <th>total_amount</th>\n",
       "      <th>payment_type</th>\n",
       "      <th>trip_type</th>\n",
       "      <th>congestion_surcharge</th>\n",
       "      <th>Duration</th>\n",
       "      <th>duration</th>\n",
       "    </tr>\n",
       "  </thead>\n",
       "  <tbody>\n",
       "    <tr>\n",
       "      <th>0</th>\n",
       "      <td>2</td>\n",
       "      <td>2021-02-01 00:34:03</td>\n",
       "      <td>2021-02-01 00:51:58</td>\n",
       "      <td>N</td>\n",
       "      <td>1.0</td>\n",
       "      <td>130</td>\n",
       "      <td>205</td>\n",
       "      <td>5.0</td>\n",
       "      <td>3.66</td>\n",
       "      <td>14.0</td>\n",
       "      <td>...</td>\n",
       "      <td>10.00</td>\n",
       "      <td>0.0</td>\n",
       "      <td>None</td>\n",
       "      <td>0.3</td>\n",
       "      <td>25.30</td>\n",
       "      <td>1.0</td>\n",
       "      <td>1.0</td>\n",
       "      <td>0.00</td>\n",
       "      <td>17.916667</td>\n",
       "      <td>17.916667</td>\n",
       "    </tr>\n",
       "    <tr>\n",
       "      <th>1</th>\n",
       "      <td>2</td>\n",
       "      <td>2021-02-01 00:04:00</td>\n",
       "      <td>2021-02-01 00:10:30</td>\n",
       "      <td>N</td>\n",
       "      <td>1.0</td>\n",
       "      <td>152</td>\n",
       "      <td>244</td>\n",
       "      <td>1.0</td>\n",
       "      <td>1.10</td>\n",
       "      <td>6.5</td>\n",
       "      <td>...</td>\n",
       "      <td>0.00</td>\n",
       "      <td>0.0</td>\n",
       "      <td>None</td>\n",
       "      <td>0.3</td>\n",
       "      <td>7.80</td>\n",
       "      <td>2.0</td>\n",
       "      <td>1.0</td>\n",
       "      <td>0.00</td>\n",
       "      <td>6.500000</td>\n",
       "      <td>6.500000</td>\n",
       "    </tr>\n",
       "    <tr>\n",
       "      <th>2</th>\n",
       "      <td>2</td>\n",
       "      <td>2021-02-01 00:18:51</td>\n",
       "      <td>2021-02-01 00:34:06</td>\n",
       "      <td>N</td>\n",
       "      <td>1.0</td>\n",
       "      <td>152</td>\n",
       "      <td>48</td>\n",
       "      <td>1.0</td>\n",
       "      <td>4.93</td>\n",
       "      <td>16.5</td>\n",
       "      <td>...</td>\n",
       "      <td>0.00</td>\n",
       "      <td>0.0</td>\n",
       "      <td>None</td>\n",
       "      <td>0.3</td>\n",
       "      <td>20.55</td>\n",
       "      <td>2.0</td>\n",
       "      <td>1.0</td>\n",
       "      <td>2.75</td>\n",
       "      <td>15.250000</td>\n",
       "      <td>15.250000</td>\n",
       "    </tr>\n",
       "    <tr>\n",
       "      <th>3</th>\n",
       "      <td>2</td>\n",
       "      <td>2021-02-01 00:53:27</td>\n",
       "      <td>2021-02-01 01:11:41</td>\n",
       "      <td>N</td>\n",
       "      <td>1.0</td>\n",
       "      <td>152</td>\n",
       "      <td>241</td>\n",
       "      <td>1.0</td>\n",
       "      <td>6.70</td>\n",
       "      <td>21.0</td>\n",
       "      <td>...</td>\n",
       "      <td>0.00</td>\n",
       "      <td>0.0</td>\n",
       "      <td>None</td>\n",
       "      <td>0.3</td>\n",
       "      <td>22.30</td>\n",
       "      <td>2.0</td>\n",
       "      <td>1.0</td>\n",
       "      <td>0.00</td>\n",
       "      <td>18.233333</td>\n",
       "      <td>18.233333</td>\n",
       "    </tr>\n",
       "    <tr>\n",
       "      <th>4</th>\n",
       "      <td>2</td>\n",
       "      <td>2021-02-01 00:57:46</td>\n",
       "      <td>2021-02-01 01:06:44</td>\n",
       "      <td>N</td>\n",
       "      <td>1.0</td>\n",
       "      <td>75</td>\n",
       "      <td>42</td>\n",
       "      <td>1.0</td>\n",
       "      <td>1.89</td>\n",
       "      <td>8.5</td>\n",
       "      <td>...</td>\n",
       "      <td>2.45</td>\n",
       "      <td>0.0</td>\n",
       "      <td>None</td>\n",
       "      <td>0.3</td>\n",
       "      <td>12.25</td>\n",
       "      <td>1.0</td>\n",
       "      <td>1.0</td>\n",
       "      <td>0.00</td>\n",
       "      <td>8.966667</td>\n",
       "      <td>8.966667</td>\n",
       "    </tr>\n",
       "  </tbody>\n",
       "</table>\n",
       "<p>5 rows × 22 columns</p>\n",
       "</div>"
      ],
      "text/plain": [
       "   VendorID lpep_pickup_datetime lpep_dropoff_datetime store_and_fwd_flag  \\\n",
       "0         2  2021-02-01 00:34:03   2021-02-01 00:51:58                  N   \n",
       "1         2  2021-02-01 00:04:00   2021-02-01 00:10:30                  N   \n",
       "2         2  2021-02-01 00:18:51   2021-02-01 00:34:06                  N   \n",
       "3         2  2021-02-01 00:53:27   2021-02-01 01:11:41                  N   \n",
       "4         2  2021-02-01 00:57:46   2021-02-01 01:06:44                  N   \n",
       "\n",
       "   RatecodeID PULocationID DOLocationID  passenger_count  trip_distance  \\\n",
       "0         1.0          130          205              5.0           3.66   \n",
       "1         1.0          152          244              1.0           1.10   \n",
       "2         1.0          152           48              1.0           4.93   \n",
       "3         1.0          152          241              1.0           6.70   \n",
       "4         1.0           75           42              1.0           1.89   \n",
       "\n",
       "   fare_amount  ...  tip_amount  tolls_amount  ehail_fee  \\\n",
       "0         14.0  ...       10.00           0.0       None   \n",
       "1          6.5  ...        0.00           0.0       None   \n",
       "2         16.5  ...        0.00           0.0       None   \n",
       "3         21.0  ...        0.00           0.0       None   \n",
       "4          8.5  ...        2.45           0.0       None   \n",
       "\n",
       "   improvement_surcharge total_amount  payment_type  trip_type  \\\n",
       "0                    0.3        25.30           1.0        1.0   \n",
       "1                    0.3         7.80           2.0        1.0   \n",
       "2                    0.3        20.55           2.0        1.0   \n",
       "3                    0.3        22.30           2.0        1.0   \n",
       "4                    0.3        12.25           1.0        1.0   \n",
       "\n",
       "   congestion_surcharge   Duration   duration  \n",
       "0                  0.00  17.916667  17.916667  \n",
       "1                  0.00   6.500000   6.500000  \n",
       "2                  2.75  15.250000  15.250000  \n",
       "3                  0.00  18.233333  18.233333  \n",
       "4                  0.00   8.966667   8.966667  \n",
       "\n",
       "[5 rows x 22 columns]"
      ]
     },
     "execution_count": 44,
     "metadata": {},
     "output_type": "execute_result"
    }
   ],
   "source": [
    "df.head()"
   ]
  },
  {
   "cell_type": "raw",
   "id": "4a5687a0-2c46-46b4-9bf7-74b2b960cdd3",
   "metadata": {},
   "source": [
    "What's the fractions of missing values for the pickup location ID? I.e. fraction of \"-1\"s after you filled the NAs."
   ]
  },
  {
   "cell_type": "markdown",
   "id": "44beb113-b403-433d-a323-a8660a5e2137",
   "metadata": {},
   "source": [
    "### Q4. One-hot encoding"
   ]
  },
  {
   "cell_type": "code",
   "execution_count": 43,
   "id": "3b0155ae-c042-4b54-b5bf-a3f6ca7b00f4",
   "metadata": {},
   "outputs": [],
   "source": [
    "categorical = ['PULocationID', 'DOLocationID']\n",
    "numerical = ['trip_distance']\n",
    "\n",
    "df[categorical] = df[categorical].astype(str)"
   ]
  },
  {
   "cell_type": "code",
   "execution_count": 47,
   "id": "f5ec481c-95b7-4640-a9fd-f1c3a44f715a",
   "metadata": {},
   "outputs": [],
   "source": [
    "#df.PUlocationID.isna().sum() / df.shape[0]\n",
    "#df['PUlocationID'].fillna(-1, inplace=True)\n",
    "#df['DOlocationID'].fillna(-1, inplace=True)\n",
    "#sum(df_jan.PUlocationID == -1) / df_jan.shape[0]\n",
    "\n",
    "\n",
    "# We will be using Pick up and Drop location IDs for our model training.\n",
    "# import warnings\n",
    "# warnings.filterwarnings('ignore')\n",
    "\n",
    "# categorical_cols = ['PUlocationID', 'DOlocationID']\n",
    "# df_jan = df_jan[categorical_cols + ['Duration']]         df_jan = df_jan[categorical_cols + ['Duration']]       \n",
    "# df_jan[categorical_cols] = df_jan[categorical_cols].astype(str)\n",
    "# df_jan.info()                                                               "
   ]
  },
  {
   "cell_type": "markdown",
   "id": "ac8575d7-5478-43b0-b68c-be89fe7ea4b4",
   "metadata": {},
   "source": [
    "### Q5: What's the dimensionality of this matrix? (The number of columns)."
   ]
  },
  {
   "cell_type": "markdown",
   "id": "b3c100fc-68b4-4e99-ad66-4383c18b45e1",
   "metadata": {},
   "source": [
    "### Q5. Training a model"
   ]
  },
  {
   "cell_type": "code",
   "execution_count": 54,
   "id": "7a6c0aff-ce4f-4b66-9b90-0e36c551cb81",
   "metadata": {},
   "outputs": [
    {
     "data": {
      "text/plain": [
       "(61921, 499)"
      ]
     },
     "execution_count": 54,
     "metadata": {},
     "output_type": "execute_result"
    }
   ],
   "source": [
    "X_train.shape"
   ]
  },
  {
   "cell_type": "code",
   "execution_count": 59,
   "id": "b58841e1-2f04-4f1b-93f4-323e895d3261",
   "metadata": {},
   "outputs": [
    {
     "data": {
      "text/plain": [
       "[{'PULocationID': '130', 'DOLocationID': '205', 'trip_distance': 3.66},\n",
       " {'PULocationID': '152', 'DOLocationID': '244', 'trip_distance': 1.1},\n",
       " {'PULocationID': '152', 'DOLocationID': '48', 'trip_distance': 4.93},\n",
       " {'PULocationID': '152', 'DOLocationID': '241', 'trip_distance': 6.7},\n",
       " {'PULocationID': '75', 'DOLocationID': '42', 'trip_distance': 1.89},\n",
       " {'PULocationID': '197', 'DOLocationID': '219', 'trip_distance': 3.3},\n",
       " {'PULocationID': '82', 'DOLocationID': '223', 'trip_distance': 2.51},\n",
       " {'PULocationID': '130', 'DOLocationID': '130', 'trip_distance': 1.68},\n",
       " {'PULocationID': '94', 'DOLocationID': '241', 'trip_distance': 1.44},\n",
       " {'PULocationID': '78', 'DOLocationID': '78', 'trip_distance': 0.0}]"
      ]
     },
     "execution_count": 59,
     "metadata": {},
     "output_type": "execute_result"
    }
   ],
   "source": [
    "df[categorical + numerical].iloc[:10].to_dict(orient='records')\n"
   ]
  },
  {
   "cell_type": "code",
   "execution_count": 50,
   "id": "9627f352-6bb9-4460-a0c9-fb069a97587f",
   "metadata": {},
   "outputs": [],
   "source": [
    "train_dicts = df[categorical].to_dict(orient='records')\n",
    "\n",
    "dv = DictVectorizer()\n",
    "X_train = dv.fit_transform(train_dicts)"
   ]
  },
  {
   "cell_type": "code",
   "execution_count": 52,
   "id": "d0a86be7-83e7-4af1-8082-7eaf38fece75",
   "metadata": {},
   "outputs": [],
   "source": [
    "y_train = df['Duration'].values\n"
   ]
  },
  {
   "cell_type": "markdown",
   "id": "91de006a-82a0-44dc-b5bd-72a97e5a1f09",
   "metadata": {},
   "source": [
    "## Q6: What's the RMSE on train?"
   ]
  },
  {
   "cell_type": "code",
   "execution_count": 65,
   "id": "6c085155-f5e9-443b-a67c-427ade4d8f04",
   "metadata": {},
   "outputs": [
    {
     "data": {
      "text/plain": [
       "105.73906837100269"
      ]
     },
     "execution_count": 65,
     "metadata": {},
     "output_type": "execute_result"
    }
   ],
   "source": [
    "lr = LinearRegression()\n",
    "lr.fit(X_train, y_train)\n",
    "\n",
    "y_pred = lr.predict(X_train)\n",
    "\n",
    "mse = mean_squared_error(y_train, y_pred)\n",
    "mse"
   ]
  },
  {
   "cell_type": "code",
   "execution_count": 76,
   "id": "2bdabb8d-2040-417e-b3fe-2798124685be",
   "metadata": {},
   "outputs": [],
   "source": [
    "rmse = np.sqrt(mse)"
   ]
  },
  {
   "cell_type": "code",
   "execution_count": 77,
   "id": "4c2044a8-14f9-404e-94e2-63b5cfbc2b68",
   "metadata": {},
   "outputs": [
    {
     "name": "stderr",
     "output_type": "stream",
     "text": [
      "/home/ubuntu/anaconda3/lib/python3.12/site-packages/sklearn/metrics/_regression.py:492: FutureWarning: 'squared' is deprecated in version 1.4 and will be removed in 1.6. To calculate the root mean squared error, use the function'root_mean_squared_error'.\n",
      "  warnings.warn(\n"
     ]
    },
    {
     "data": {
      "text/plain": [
       "7.758715206128955"
      ]
     },
     "execution_count": 77,
     "metadata": {},
     "output_type": "execute_result"
    }
   ],
   "source": [
    "mean_squared_error(y_val, y_pred, squared=False)"
   ]
  },
  {
   "cell_type": "markdown",
   "id": "63b3c002-9ca0-4458-a85a-fcd304ea5aea",
   "metadata": {},
   "source": [
    "### VALIDATIOn STEPS"
   ]
  },
  {
   "cell_type": "code",
   "execution_count": 56,
   "id": "30c85509-98a1-4d09-8382-cb74e5be0359",
   "metadata": {},
   "outputs": [],
   "source": [
    "#  Now, let's put data preprocssing steps in a function so that we can process the validation set in the same way as well."
   ]
  },
  {
   "cell_type": "code",
   "execution_count": 68,
   "id": "8325b0e3-ab9f-45f3-866d-c220ac70362a",
   "metadata": {},
   "outputs": [],
   "source": [
    "### This function is not correct right?\n",
    "# def read_data(filename, cat_cols):\n",
    "#     if filename.endswith('.parquet'):\n",
    "#         df = pd.read_parquet(filename)\n",
    "        \n",
    "#         df['Duration'] = (df['dropOff_datetime'] - df['pickup_datetime']) / pd.Timedelta(minutes=1)\n",
    "        \n",
    "#         df = df[(df.Duration >= 1) & (df.Duration <= 60)]\n",
    "        \n",
    "#         df[cat_cols] = df[cat_cols].astype(str)\n",
    "        \n",
    "#         print(filename, '\\n', df.shape)\n",
    "        \n",
    "#         return df\n",
    "\n",
    "\n",
    "def read_dataframe(filename):\n",
    "    if filename.endswith('.csv'):\n",
    "        df = pd.read_csv(filename)\n",
    "\n",
    "        df.lpep_dropoff_datetime = pd.to_datetime(df.lpep_dropoff_datetime)\n",
    "        df.lpep_pickup_datetime = pd.to_datetime(df.lpep_pickup_datetime)\n",
    "    elif filename.endswith('.parquet'):\n",
    "        df = pd.read_parquet(filename)\n",
    "\n",
    "    df['duration'] = df.lpep_dropoff_datetime - df.lpep_pickup_datetime\n",
    "    df.duration = df.duration.apply(lambda td: td.total_seconds() / 60)\n",
    "\n",
    "    df = df[(df.duration >= 1) & (df.duration <= 60)]\n",
    "\n",
    "    categorical = ['PULocationID', 'DOLocationID']\n",
    "    df[categorical] = df[categorical].astype(str)\n",
    "    \n",
    "    return df"
   ]
  },
  {
   "cell_type": "code",
   "execution_count": 79,
   "id": "b26168c9-7041-4ff6-b3c3-d924a8b0ce3c",
   "metadata": {},
   "outputs": [],
   "source": [
    "### Read Jan & Feb dataset\n",
    "\n",
    "df_train = read_dataframe('./data/green_tripdata_2021-01.parquet')\n",
    "df_val = read_dataframe('./data/green_tripdata_2021-02.parquet')"
   ]
  },
  {
   "cell_type": "code",
   "execution_count": 70,
   "id": "645f01e1-31ef-4fd5-9197-33aa8b561dd1",
   "metadata": {},
   "outputs": [
    {
     "data": {
      "text/plain": [
       "(73908, 61921)"
      ]
     },
     "execution_count": 70,
     "metadata": {},
     "output_type": "execute_result"
    }
   ],
   "source": [
    "### Compare Jan & Feb dataset\n",
    "\n",
    "len(df_train), len(df_val)"
   ]
  },
  {
   "cell_type": "code",
   "execution_count": 71,
   "id": "715a9473-52da-4c0a-9b56-8517e930475b",
   "metadata": {},
   "outputs": [],
   "source": [
    "# Concatenate the pickup and dropoff location as categorial value\n",
    "\n",
    "df_train['PU_DO'] = df_train['PULocationID'] + '_' + df_train['DOLocationID']\n",
    "df_val['PU_DO'] = df_val['PULocationID'] + '_' + df_val['DOLocationID']"
   ]
  },
  {
   "cell_type": "code",
   "execution_count": 72,
   "id": "73d42d7a-75cb-484a-b2fc-f2c2b775774b",
   "metadata": {},
   "outputs": [],
   "source": [
    "# Assign dependent variables, Location pair and distance\n",
    "\n",
    "categorical = ['PU_DO'] #'PULocationID', 'DOLocationID']\n",
    "numerical = ['trip_distance']\n",
    "\n",
    "dv = DictVectorizer()\n",
    "\n",
    "train_dicts = df_train[categorical + numerical].to_dict(orient='records')\n",
    "X_train = dv.fit_transform(train_dicts)\n",
    "\n",
    "val_dicts = df_val[categorical + numerical].to_dict(orient='records')\n",
    "X_val = dv.transform(val_dicts)"
   ]
  },
  {
   "cell_type": "code",
   "execution_count": 73,
   "id": "1b193400-3412-4c00-9df0-c19616d3a8d8",
   "metadata": {},
   "outputs": [],
   "source": [
    "# Assign target variable, Duration\n",
    "\n",
    "target = 'duration'\n",
    "y_train = df_train[target].values\n",
    "y_val = df_val[target].values"
   ]
  },
  {
   "cell_type": "code",
   "execution_count": 75,
   "id": "694d7141-23be-44b1-8d99-6c3440fe93b8",
   "metadata": {},
   "outputs": [
    {
     "name": "stderr",
     "output_type": "stream",
     "text": [
      "/home/ubuntu/anaconda3/lib/python3.12/site-packages/sklearn/metrics/_regression.py:492: FutureWarning: 'squared' is deprecated in version 1.4 and will be removed in 1.6. To calculate the root mean squared error, use the function'root_mean_squared_error'.\n",
      "  warnings.warn(\n"
     ]
    },
    {
     "data": {
      "text/plain": [
       "7.758715206128955"
      ]
     },
     "execution_count": 75,
     "metadata": {},
     "output_type": "execute_result"
    }
   ],
   "source": [
    "# Use LinearRegression\n",
    "\n",
    "lr = LinearRegression()\n",
    "lr.fit(X_train, y_train)\n",
    "\n",
    "y_pred = lr.predict(X_val)\n",
    "\n",
    "mean_squared_error(y_val, y_pred, squared=False)"
   ]
  },
  {
   "cell_type": "raw",
   "id": "41c565a7-05e3-455a-a3d3-52ac6a2c2293",
   "metadata": {},
   "source": [
    "mean_squared_error indicates, the model is wrong by 7 mins"
   ]
  },
  {
   "cell_type": "code",
   "execution_count": 86,
   "id": "ff609b62-5e6f-4be8-8603-47c4dfc4cc11",
   "metadata": {},
   "outputs": [
    {
     "data": {
      "image/png": "[encoded data removed]",
      "text/plain": [
       "<Figure size 640x480 with 1 Axes>"
      ]
     },
     "metadata": {},
     "output_type": "display_data"
    },
    {
     "data": {
      "image/png": "[encoded data removed]",
      "text/plain": [
       "<Figure size 500x500 with 1 Axes>"
      ]
     },
     "metadata": {},
     "output_type": "display_data"
    },
    {
     "data": {
      "image/png": "[encoded data removed]",
      "text/plain": [
       "<Figure size 500x500 with 1 Axes>"
      ]
     },
     "metadata": {},
     "output_type": "display_data"
    }
   ],
   "source": [
    "# Deprecated distplot\n",
    "# sns.distplot(y_pred, label= 'Prediction')\n",
    "# sns.distplot(y_train, label= 'Actual')\n",
    "# plt.legend()\n",
    "\n",
    "# Use sns.histplot(data, kde=True) OR sns.kdeplot(data)\n",
    "sns.histplot(y_pred, label= 'Prediction', kde=True)\n",
    "sns.histplot(y_train, label= 'Prediction', kde=True)\n",
    "plt.legend()\n",
    "plt.show()"
   ]
  },
  {
   "cell_type": "raw",
   "id": "8808fc75-1779-4989-860f-f06e895619ab",
   "metadata": {},
   "source": [
    "Write Model to a binary file"
   ]
  },
  {
   "cell_type": "code",
   "execution_count": null,
   "id": "5c3427e7-3a02-4bbd-8ec6-987543bc77ce",
   "metadata": {},
   "outputs": [],
   "source": [
    "with open('linear_regression_0520.bin', 'wb') as f_out:\n",
    "    pickle.dump((dv, lr), f_out)"
   ]
  },
  {
   "cell_type": "code",
   "execution_count": 87,
   "id": "8b81ccf9-69ba-4122-ba15-2c0bbd2df25d",
   "metadata": {},
   "outputs": [
    {
     "name": "stderr",
     "output_type": "stream",
     "text": [
      "/home/ubuntu/anaconda3/lib/python3.12/site-packages/sklearn/metrics/_regression.py:492: FutureWarning: 'squared' is deprecated in version 1.4 and will be removed in 1.6. To calculate the root mean squared error, use the function'root_mean_squared_error'.\n",
      "  warnings.warn(\n"
     ]
    },
    {
     "data": {
      "text/plain": [
       "11.167275941179728"
      ]
     },
     "execution_count": 87,
     "metadata": {},
     "output_type": "execute_result"
    }
   ],
   "source": [
    "#Use Lasso\n",
    "\n",
    "lr = Lasso(alpha=0.01)\n",
    "lr.fit(X_train, y_train)\n",
    "\n",
    "y_pred = lr.predict(X_val)\n",
    "\n",
    "mean_squared_error(y_val, y_pred, squared=False)"
   ]
  },
  {
   "cell_type": "code",
   "execution_count": 88,
   "id": "af4da27a-198f-45a8-88ec-44d6dcd7876d",
   "metadata": {},
   "outputs": [
    {
     "name": "stderr",
     "output_type": "stream",
     "text": [
      "/home/ubuntu/anaconda3/lib/python3.12/site-packages/sklearn/metrics/_regression.py:492: FutureWarning: 'squared' is deprecated in version 1.4 and will be removed in 1.6. To calculate the root mean squared error, use the function'root_mean_squared_error'.\n",
      "  warnings.warn(\n"
     ]
    },
    {
     "data": {
      "text/plain": [
       "7.510875483815628"
      ]
     },
     "execution_count": 88,
     "metadata": {},
     "output_type": "execute_result"
    }
   ],
   "source": [
    "# Use Ridge\n",
    "\n",
    "lr = Ridge(alpha=0.01)\n",
    "lr.fit(X_train, y_train)\n",
    "\n",
    "y_pred = lr.predict(X_val)\n",
    "\n",
    "mean_squared_error(y_val, y_pred, squared=False)"
   ]
  },
  {
   "cell_type": "code",
   "execution_count": null,
   "id": "02bc30d7-11ec-4906-9af5-598efaebd712",
   "metadata": {},
   "outputs": [],
   "source": [
    "# ### OTHER APPROACHES\n",
    "# ## Obtaining X test and y test\n",
    "# #duration should be the time difference between tpep_pickup_datetime and tpep_dropoff_datetime\n",
    "# df_feb['duration'] = df_feb['tpep_dropoff_datetime'] - df_feb['tpep_pickup_datetime']\n",
    "# # Convert from timedelta to minutes\n",
    "# df_feb['duration'] = df_feb['duration'].apply(lambda td: td.total_seconds() / 60)\n",
    "# # filter\n",
    "# df_feb_filt = df_feb[(df_feb['duration'] >=1) & (df_feb['duration']<=60)]\n",
    "# #Convert to string for OHE\n",
    "# df_feb_filt[CategoricalColumns] = df_feb_filt[CategoricalColumns].astype(str)\n",
    "# #Dictionary Vectorizer\n",
    "# test_dict = df_feb_filt[CategoricalColumns].to_dict(orient='records')\n",
    "# X_test = dv.transform(test_dict)\n",
    "# #Get y_test\n",
    "# y_test = df_feb_filt['duration']"
   ]
  },
  {
   "cell_type": "code",
   "execution_count": null,
   "id": "28560295-c018-4fde-bbea-f00599270e04",
   "metadata": {},
   "outputs": [],
   "source": []
  },
  {
   "cell_type": "code",
   "execution_count": null,
   "id": "d40a1fae-5324-4206-a574-3fee7e4bba46",
   "metadata": {},
   "outputs": [],
   "source": []
  },
  {
   "cell_type": "code",
   "execution_count": null,
   "id": "2eca27f4-6f22-4f3f-b913-3647ec0fa185",
   "metadata": {},
   "outputs": [],
   "source": []
  },
  {
   "cell_type": "code",
   "execution_count": null,
   "id": "c6c1bb13-652a-483f-8430-6a640563ea76",
   "metadata": {},
   "outputs": [],
   "source": []
  },
  {
   "cell_type": "code",
   "execution_count": null,
   "id": "37128fba-ac48-4a5c-9895-a2e1e7308f5f",
   "metadata": {},
   "outputs": [],
   "source": []
  },
  {
   "cell_type": "code",
   "execution_count": null,
   "id": "4dea3852-be8a-43b7-b855-38c5fb91cddd",
   "metadata": {},
   "outputs": [],
   "source": []
  },
  {
   "cell_type": "code",
   "execution_count": null,
   "id": "4ae355c0-669d-4167-8db9-1b0287c4646f",
   "metadata": {},
   "outputs": [],
   "source": []
  },
  {
   "cell_type": "code",
   "execution_count": null,
   "id": "bac24e1f-5e8e-4293-a640-939dc73775e2",
   "metadata": {},
   "outputs": [],
   "source": []
  },
  {
   "cell_type": "code",
   "execution_count": 89,
   "id": "d4173611-1097-471a-be37-34cae6f7cd87",
   "metadata": {},
   "outputs": [
    {
     "data": {
      "text/plain": [
       "<73908x507 sparse matrix of type '<class 'numpy.float64'>'\n",
       "\twith 221724 stored elements in Compressed Sparse Row format>"
      ]
     },
     "execution_count": 89,
     "metadata": {},
     "output_type": "execute_result"
    }
   ],
   "source": [
    "# Let’s also convert the PULocationID, DOLocationID columns from int64 to strings :\n",
    "\n",
    "categorical = ['PULocationID', 'DOLocationID']   #Pickup (PU) and Drop off (DO) location Ids\n",
    "numerical = ['trip_distance']   #the distance of the trip not used in this model\n",
    "\n",
    "### This turns the categorical columns into a list of dictionaries\n",
    "df[categorical] = df[categorical].astype(str)  ## # Convert to string as it is required in string format for sklearn requirement\n",
    "\n",
    "train_dicts = df[categorical + numerical].to_dict(orient='records')\n",
    "\n",
    "dv = DictVectorizer()   # Instantiate a dictionary vectorizer\n",
    "dv.fit_transform(train_dicts) # # Fit the vectorizer and transform the data into a feature matrix\n",
    "\n",
    "\n",
    "# You can Convert the feature matrix above into an array\n",
    "fm_array = fm.toarray() # where fm = dv.fit_transform(train_dicts)\n",
    "\n",
    "# Print the dimensionality of the feature matrix\n",
    "dimensionality = fm_array.shape\n",
    "print(\"Dimensionality:\", dimensionality)\n",
    "\n",
    "\n",
    "# # And look at our updated dataframe :\n",
    "# df.info()below\n",
    "\n",
    "# df.dtypes"
   ]
  },
  {
   "cell_type": "raw",
   "id": "427ac677-83a8-4e5f-a1f1-52136daab1a0",
   "metadata": {},
   "source": []
  },
  {
   "cell_type": "code",
   "execution_count": 28,
   "id": "22bac6cc-ed15-4765-bb32-035a3e39e5d1",
   "metadata": {},
   "outputs": [],
   "source": [
    "# # Transfor str to datetime\n",
    "# df.lpep_dropoff_datetime = pd.to_datetime(df.lpep_dropoff_datetime) \n",
    "# df.lpep_pickup_datetime = pd.to_datetime(df.lpep_pickup_datetime)"
   ]
  },
  {
   "cell_type": "code",
   "execution_count": 29,
   "id": "50218bbe-58c2-432a-a65b-b922c9dc849b",
   "metadata": {},
   "outputs": [
    {
     "name": "stdout",
     "output_type": "stream",
     "text": [
      "<class 'pandas.core.frame.DataFrame'>\n",
      "RangeIndex: 76518 entries, 0 to 76517\n",
      "Data columns (total 20 columns):\n",
      " #   Column                 Non-Null Count  Dtype         \n",
      "---  ------                 --------------  -----         \n",
      " 0   VendorID               76518 non-null  int64         \n",
      " 1   lpep_pickup_datetime   76518 non-null  datetime64[us]\n",
      " 2   lpep_dropoff_datetime  76518 non-null  datetime64[us]\n",
      " 3   store_and_fwd_flag     40471 non-null  object        \n",
      " 4   RatecodeID             40471 non-null  float64       \n",
      " 5   PULocationID           76518 non-null  int64         \n",
      " 6   DOLocationID           76518 non-null  int64         \n",
      " 7   passenger_count        40471 non-null  float64       \n",
      " 8   trip_distance          76518 non-null  float64       \n",
      " 9   fare_amount            76518 non-null  float64       \n",
      " 10  extra                  76518 non-null  float64       \n",
      " 11  mta_tax                76518 non-null  float64       \n",
      " 12  tip_amount             76518 non-null  float64       \n",
      " 13  tolls_amount           76518 non-null  float64       \n",
      " 14  ehail_fee              0 non-null      object        \n",
      " 15  improvement_surcharge  76518 non-null  float64       \n",
      " 16  total_amount           76518 non-null  float64       \n",
      " 17  payment_type           40471 non-null  float64       \n",
      " 18  trip_type              40471 non-null  float64       \n",
      " 19  congestion_surcharge   40471 non-null  float64       \n",
      "dtypes: datetime64[us](2), float64(13), int64(3), object(2)\n",
      "memory usage: 11.7+ MB\n"
     ]
    }
   ],
   "source": [
    "# And look at our updated dataframe for the 3rd time:\n",
    "#df.info()"
   ]
  },
  {
   "cell_type": "code",
   "execution_count": null,
   "id": "0737c8e1-bb54-4372-ab22-61014e14eab0",
   "metadata": {},
   "outputs": [],
   "source": [
    "### Great, we now have a duration column and PULocationID and DOLocationID are now correctly showing as datatype object \n",
    "# (categorical data, which includes strings).\n"
   ]
  },
  {
   "cell_type": "code",
   "execution_count": 19,
   "id": "95c8768e-70a2-4585-a0dd-95ddaa6c645f",
   "metadata": {},
   "outputs": [
    {
     "data": {
      "text/plain": [
       "(76518, 22)"
      ]
     },
     "execution_count": 19,
     "metadata": {},
     "output_type": "execute_result"
    }
   ],
   "source": [
    "# Read the data for January. How many records are there?\n",
    "\n",
    "\n",
    "df.shape"
   ]
  },
  {
   "cell_type": "code",
   "execution_count": 16,
   "id": "1d17418b-7d3c-4375-96cd-d18b94266042",
   "metadata": {},
   "outputs": [
    {
     "data": {
      "text/plain": [
       "0       0 days 00:03:56\n",
       "1       0 days 00:08:45\n",
       "2       0 days 00:05:58\n",
       "3       0 days 00:07:05\n",
       "4       0 days 00:00:04\n",
       "              ...      \n",
       "76513   0 days 00:38:00\n",
       "76514   0 days 00:38:00\n",
       "76515   0 days 00:11:00\n",
       "76516   0 days 00:27:00\n",
       "76517   0 days 00:10:00\n",
       "Length: 76518, dtype: timedelta64[us]"
      ]
     },
     "execution_count": 16,
     "metadata": {},
     "output_type": "execute_result"
    }
   ],
   "source": [
    "# Calculate the duration of each trips in minutes\n",
    "# df['Duration'] = (df['lpep_dropoff_datetime'] - df['lpep_pickup_datetime']) / pd.Timedelta(minutes=1)\n",
    "\n",
    "\n",
    "\n",
    "# df.lpep_dropoff_datetime - df.lpep_pickup_datetime"
   ]
  },
  {
   "cell_type": "code",
   "execution_count": 17,
   "id": "0c9747e4-966f-480e-a8f4-7a2b0bcc8786",
   "metadata": {},
   "outputs": [
    {
     "data": {
      "text/html": [
       "<div>\n",
       "<style scoped>\n",
       "    .dataframe tbody tr th:only-of-type {\n",
       "        vertical-align: middle;\n",
       "    }\n",
       "\n",
       "    .dataframe tbody tr th {\n",
       "        vertical-align: top;\n",
       "    }\n",
       "\n",
       "    .dataframe thead th {\n",
       "        text-align: right;\n",
       "    }\n",
       "</style>\n",
       "<table border=\"1\" class=\"dataframe\">\n",
       "  <thead>\n",
       "    <tr style=\"text-align: right;\">\n",
       "      <th></th>\n",
       "      <th>VendorID</th>\n",
       "      <th>lpep_pickup_datetime</th>\n",
       "      <th>lpep_dropoff_datetime</th>\n",
       "      <th>store_and_fwd_flag</th>\n",
       "      <th>RatecodeID</th>\n",
       "      <th>PULocationID</th>\n",
       "      <th>DOLocationID</th>\n",
       "      <th>passenger_count</th>\n",
       "      <th>trip_distance</th>\n",
       "      <th>fare_amount</th>\n",
       "      <th>...</th>\n",
       "      <th>tip_amount</th>\n",
       "      <th>tolls_amount</th>\n",
       "      <th>ehail_fee</th>\n",
       "      <th>improvement_surcharge</th>\n",
       "      <th>total_amount</th>\n",
       "      <th>payment_type</th>\n",
       "      <th>trip_type</th>\n",
       "      <th>congestion_surcharge</th>\n",
       "      <th>duration</th>\n",
       "      <th>duration_mins</th>\n",
       "    </tr>\n",
       "  </thead>\n",
       "  <tbody>\n",
       "    <tr>\n",
       "      <th>0</th>\n",
       "      <td>2</td>\n",
       "      <td>2021-01-01 00:15:56</td>\n",
       "      <td>2021-01-01 00:19:52</td>\n",
       "      <td>N</td>\n",
       "      <td>1.0</td>\n",
       "      <td>43</td>\n",
       "      <td>151</td>\n",
       "      <td>1.0</td>\n",
       "      <td>1.01</td>\n",
       "      <td>5.50</td>\n",
       "      <td>...</td>\n",
       "      <td>0.00</td>\n",
       "      <td>0.00</td>\n",
       "      <td>None</td>\n",
       "      <td>0.3</td>\n",
       "      <td>6.80</td>\n",
       "      <td>2.0</td>\n",
       "      <td>1.0</td>\n",
       "      <td>0.00</td>\n",
       "      <td>3.933333</td>\n",
       "      <td>3.933333</td>\n",
       "    </tr>\n",
       "    <tr>\n",
       "      <th>1</th>\n",
       "      <td>2</td>\n",
       "      <td>2021-01-01 00:25:59</td>\n",
       "      <td>2021-01-01 00:34:44</td>\n",
       "      <td>N</td>\n",
       "      <td>1.0</td>\n",
       "      <td>166</td>\n",
       "      <td>239</td>\n",
       "      <td>1.0</td>\n",
       "      <td>2.53</td>\n",
       "      <td>10.00</td>\n",
       "      <td>...</td>\n",
       "      <td>2.81</td>\n",
       "      <td>0.00</td>\n",
       "      <td>None</td>\n",
       "      <td>0.3</td>\n",
       "      <td>16.86</td>\n",
       "      <td>1.0</td>\n",
       "      <td>1.0</td>\n",
       "      <td>2.75</td>\n",
       "      <td>8.750000</td>\n",
       "      <td>8.750000</td>\n",
       "    </tr>\n",
       "    <tr>\n",
       "      <th>2</th>\n",
       "      <td>2</td>\n",
       "      <td>2021-01-01 00:45:57</td>\n",
       "      <td>2021-01-01 00:51:55</td>\n",
       "      <td>N</td>\n",
       "      <td>1.0</td>\n",
       "      <td>41</td>\n",
       "      <td>42</td>\n",
       "      <td>1.0</td>\n",
       "      <td>1.12</td>\n",
       "      <td>6.00</td>\n",
       "      <td>...</td>\n",
       "      <td>1.00</td>\n",
       "      <td>0.00</td>\n",
       "      <td>None</td>\n",
       "      <td>0.3</td>\n",
       "      <td>8.30</td>\n",
       "      <td>1.0</td>\n",
       "      <td>1.0</td>\n",
       "      <td>0.00</td>\n",
       "      <td>5.966667</td>\n",
       "      <td>5.966667</td>\n",
       "    </tr>\n",
       "    <tr>\n",
       "      <th>3</th>\n",
       "      <td>2</td>\n",
       "      <td>2020-12-31 23:57:51</td>\n",
       "      <td>2021-01-01 00:04:56</td>\n",
       "      <td>N</td>\n",
       "      <td>1.0</td>\n",
       "      <td>168</td>\n",
       "      <td>75</td>\n",
       "      <td>1.0</td>\n",
       "      <td>1.99</td>\n",
       "      <td>8.00</td>\n",
       "      <td>...</td>\n",
       "      <td>0.00</td>\n",
       "      <td>0.00</td>\n",
       "      <td>None</td>\n",
       "      <td>0.3</td>\n",
       "      <td>9.30</td>\n",
       "      <td>2.0</td>\n",
       "      <td>1.0</td>\n",
       "      <td>0.00</td>\n",
       "      <td>7.083333</td>\n",
       "      <td>7.083333</td>\n",
       "    </tr>\n",
       "    <tr>\n",
       "      <th>4</th>\n",
       "      <td>2</td>\n",
       "      <td>2021-01-01 00:16:36</td>\n",
       "      <td>2021-01-01 00:16:40</td>\n",
       "      <td>N</td>\n",
       "      <td>2.0</td>\n",
       "      <td>265</td>\n",
       "      <td>265</td>\n",
       "      <td>3.0</td>\n",
       "      <td>0.00</td>\n",
       "      <td>-52.00</td>\n",
       "      <td>...</td>\n",
       "      <td>0.00</td>\n",
       "      <td>0.00</td>\n",
       "      <td>None</td>\n",
       "      <td>-0.3</td>\n",
       "      <td>-52.80</td>\n",
       "      <td>3.0</td>\n",
       "      <td>1.0</td>\n",
       "      <td>0.00</td>\n",
       "      <td>0.066667</td>\n",
       "      <td>0.066667</td>\n",
       "    </tr>\n",
       "    <tr>\n",
       "      <th>...</th>\n",
       "      <td>...</td>\n",
       "      <td>...</td>\n",
       "      <td>...</td>\n",
       "      <td>...</td>\n",
       "      <td>...</td>\n",
       "      <td>...</td>\n",
       "      <td>...</td>\n",
       "      <td>...</td>\n",
       "      <td>...</td>\n",
       "      <td>...</td>\n",
       "      <td>...</td>\n",
       "      <td>...</td>\n",
       "      <td>...</td>\n",
       "      <td>...</td>\n",
       "      <td>...</td>\n",
       "      <td>...</td>\n",
       "      <td>...</td>\n",
       "      <td>...</td>\n",
       "      <td>...</td>\n",
       "      <td>...</td>\n",
       "      <td>...</td>\n",
       "    </tr>\n",
       "    <tr>\n",
       "      <th>76513</th>\n",
       "      <td>2</td>\n",
       "      <td>2021-01-31 21:38:00</td>\n",
       "      <td>2021-01-31 22:16:00</td>\n",
       "      <td>None</td>\n",
       "      <td>NaN</td>\n",
       "      <td>81</td>\n",
       "      <td>90</td>\n",
       "      <td>NaN</td>\n",
       "      <td>17.63</td>\n",
       "      <td>56.23</td>\n",
       "      <td>...</td>\n",
       "      <td>0.00</td>\n",
       "      <td>6.12</td>\n",
       "      <td>None</td>\n",
       "      <td>0.3</td>\n",
       "      <td>65.40</td>\n",
       "      <td>NaN</td>\n",
       "      <td>NaN</td>\n",
       "      <td>NaN</td>\n",
       "      <td>38.000000</td>\n",
       "      <td>38.000000</td>\n",
       "    </tr>\n",
       "    <tr>\n",
       "      <th>76514</th>\n",
       "      <td>2</td>\n",
       "      <td>2021-01-31 22:43:00</td>\n",
       "      <td>2021-01-31 23:21:00</td>\n",
       "      <td>None</td>\n",
       "      <td>NaN</td>\n",
       "      <td>35</td>\n",
       "      <td>213</td>\n",
       "      <td>NaN</td>\n",
       "      <td>18.36</td>\n",
       "      <td>46.66</td>\n",
       "      <td>...</td>\n",
       "      <td>12.20</td>\n",
       "      <td>6.12</td>\n",
       "      <td>None</td>\n",
       "      <td>0.3</td>\n",
       "      <td>65.28</td>\n",
       "      <td>NaN</td>\n",
       "      <td>NaN</td>\n",
       "      <td>NaN</td>\n",
       "      <td>38.000000</td>\n",
       "      <td>38.000000</td>\n",
       "    </tr>\n",
       "    <tr>\n",
       "      <th>76515</th>\n",
       "      <td>2</td>\n",
       "      <td>2021-01-31 22:16:00</td>\n",
       "      <td>2021-01-31 22:27:00</td>\n",
       "      <td>None</td>\n",
       "      <td>NaN</td>\n",
       "      <td>74</td>\n",
       "      <td>69</td>\n",
       "      <td>NaN</td>\n",
       "      <td>2.50</td>\n",
       "      <td>18.95</td>\n",
       "      <td>...</td>\n",
       "      <td>0.00</td>\n",
       "      <td>0.00</td>\n",
       "      <td>None</td>\n",
       "      <td>0.3</td>\n",
       "      <td>22.00</td>\n",
       "      <td>NaN</td>\n",
       "      <td>NaN</td>\n",
       "      <td>NaN</td>\n",
       "      <td>11.000000</td>\n",
       "      <td>11.000000</td>\n",
       "    </tr>\n",
       "    <tr>\n",
       "      <th>76516</th>\n",
       "      <td>2</td>\n",
       "      <td>2021-01-31 23:10:00</td>\n",
       "      <td>2021-01-31 23:37:00</td>\n",
       "      <td>None</td>\n",
       "      <td>NaN</td>\n",
       "      <td>168</td>\n",
       "      <td>215</td>\n",
       "      <td>NaN</td>\n",
       "      <td>14.48</td>\n",
       "      <td>48.87</td>\n",
       "      <td>...</td>\n",
       "      <td>0.00</td>\n",
       "      <td>6.12</td>\n",
       "      <td>None</td>\n",
       "      <td>0.3</td>\n",
       "      <td>58.04</td>\n",
       "      <td>NaN</td>\n",
       "      <td>NaN</td>\n",
       "      <td>NaN</td>\n",
       "      <td>27.000000</td>\n",
       "      <td>27.000000</td>\n",
       "    </tr>\n",
       "    <tr>\n",
       "      <th>76517</th>\n",
       "      <td>2</td>\n",
       "      <td>2021-01-31 23:25:00</td>\n",
       "      <td>2021-01-31 23:35:00</td>\n",
       "      <td>None</td>\n",
       "      <td>NaN</td>\n",
       "      <td>119</td>\n",
       "      <td>244</td>\n",
       "      <td>NaN</td>\n",
       "      <td>1.81</td>\n",
       "      <td>15.45</td>\n",
       "      <td>...</td>\n",
       "      <td>0.00</td>\n",
       "      <td>0.00</td>\n",
       "      <td>None</td>\n",
       "      <td>0.3</td>\n",
       "      <td>18.50</td>\n",
       "      <td>NaN</td>\n",
       "      <td>NaN</td>\n",
       "      <td>NaN</td>\n",
       "      <td>10.000000</td>\n",
       "      <td>10.000000</td>\n",
       "    </tr>\n",
       "  </tbody>\n",
       "</table>\n",
       "<p>76518 rows × 22 columns</p>\n",
       "</div>"
      ],
      "text/plain": [
       "       VendorID lpep_pickup_datetime lpep_dropoff_datetime store_and_fwd_flag  \\\n",
       "0             2  2021-01-01 00:15:56   2021-01-01 00:19:52                  N   \n",
       "1             2  2021-01-01 00:25:59   2021-01-01 00:34:44                  N   \n",
       "2             2  2021-01-01 00:45:57   2021-01-01 00:51:55                  N   \n",
       "3             2  2020-12-31 23:57:51   2021-01-01 00:04:56                  N   \n",
       "4             2  2021-01-01 00:16:36   2021-01-01 00:16:40                  N   \n",
       "...         ...                  ...                   ...                ...   \n",
       "76513         2  2021-01-31 21:38:00   2021-01-31 22:16:00               None   \n",
       "76514         2  2021-01-31 22:43:00   2021-01-31 23:21:00               None   \n",
       "76515         2  2021-01-31 22:16:00   2021-01-31 22:27:00               None   \n",
       "76516         2  2021-01-31 23:10:00   2021-01-31 23:37:00               None   \n",
       "76517         2  2021-01-31 23:25:00   2021-01-31 23:35:00               None   \n",
       "\n",
       "       RatecodeID  PULocationID  DOLocationID  passenger_count  trip_distance  \\\n",
       "0             1.0            43           151              1.0           1.01   \n",
       "1             1.0           166           239              1.0           2.53   \n",
       "2             1.0            41            42              1.0           1.12   \n",
       "3             1.0           168            75              1.0           1.99   \n",
       "4             2.0           265           265              3.0           0.00   \n",
       "...           ...           ...           ...              ...            ...   \n",
       "76513         NaN            81            90              NaN          17.63   \n",
       "76514         NaN            35           213              NaN          18.36   \n",
       "76515         NaN            74            69              NaN           2.50   \n",
       "76516         NaN           168           215              NaN          14.48   \n",
       "76517         NaN           119           244              NaN           1.81   \n",
       "\n",
       "       fare_amount  ...  tip_amount  tolls_amount  ehail_fee  \\\n",
       "0             5.50  ...        0.00          0.00       None   \n",
       "1            10.00  ...        2.81          0.00       None   \n",
       "2             6.00  ...        1.00          0.00       None   \n",
       "3             8.00  ...        0.00          0.00       None   \n",
       "4           -52.00  ...        0.00          0.00       None   \n",
       "...            ...  ...         ...           ...        ...   \n",
       "76513        56.23  ...        0.00          6.12       None   \n",
       "76514        46.66  ...       12.20          6.12       None   \n",
       "76515        18.95  ...        0.00          0.00       None   \n",
       "76516        48.87  ...        0.00          6.12       None   \n",
       "76517        15.45  ...        0.00          0.00       None   \n",
       "\n",
       "       improvement_surcharge total_amount  payment_type  trip_type  \\\n",
       "0                        0.3         6.80           2.0        1.0   \n",
       "1                        0.3        16.86           1.0        1.0   \n",
       "2                        0.3         8.30           1.0        1.0   \n",
       "3                        0.3         9.30           2.0        1.0   \n",
       "4                       -0.3       -52.80           3.0        1.0   \n",
       "...                      ...          ...           ...        ...   \n",
       "76513                    0.3        65.40           NaN        NaN   \n",
       "76514                    0.3        65.28           NaN        NaN   \n",
       "76515                    0.3        22.00           NaN        NaN   \n",
       "76516                    0.3        58.04           NaN        NaN   \n",
       "76517                    0.3        18.50           NaN        NaN   \n",
       "\n",
       "       congestion_surcharge   duration  duration_mins  \n",
       "0                      0.00   3.933333       3.933333  \n",
       "1                      2.75   8.750000       8.750000  \n",
       "2                      0.00   5.966667       5.966667  \n",
       "3                      0.00   7.083333       7.083333  \n",
       "4                      0.00   0.066667       0.066667  \n",
       "...                     ...        ...            ...  \n",
       "76513                   NaN  38.000000      38.000000  \n",
       "76514                   NaN  38.000000      38.000000  \n",
       "76515                   NaN  11.000000      11.000000  \n",
       "76516                   NaN  27.000000      27.000000  \n",
       "76517                   NaN  10.000000      10.000000  \n",
       "\n",
       "[76518 rows x 22 columns]"
      ]
     },
     "execution_count": 17,
     "metadata": {},
     "output_type": "execute_result"
    }
   ],
   "source": [
    "# df['duration'] = df.lpep_dropoff_datetime - df.lpep_pickup_datetime\n",
    "# df.duration = df.duration.apply(lambda td: td.total_seconds() / 60) \n",
    "### df_jan['Duration'] = (df_jan['dropOff_datetime'] - df_jan['pickup_datetime']) / pd.Timedelta(minutes=1)\n",
    "# df"
   ]
  },
  {
   "cell_type": "code",
   "execution_count": 67,
   "id": "c6846603-6656-4e2b-b5a2-c8e40a4e3aaa",
   "metadata": {},
   "outputs": [
    {
     "name": "stderr",
     "output_type": "stream",
     "text": [
      "/tmp/ipykernel_2457/3447682981.py:5: UserWarning: \n",
      "\n",
      "`distplot` is a deprecated function and will be removed in seaborn v0.14.0.\n",
      "\n",
      "Please adapt your code to use either `displot` (a figure-level function with\n",
      "similar flexibility) or `histplot` (an axes-level function for histograms).\n",
      "\n",
      "For a guide to updating your code to use the new functions, please see\n",
      "https://gist.github.com/mwaskom/de44147ed2974457ad6372750bbe5751\n",
      "\n",
      "  sns.distplot(df['duration'])\n"
     ]
    },
    {
     "data": {
      "text/plain": [
       "<Axes: xlabel='duration', ylabel='Density'>"
      ]
     },
     "execution_count": 67,
     "metadata": {},
     "output_type": "execute_result"
    },
    {
     "data": {
      "image/png": "[encoded data removed]",
      "text/plain": [
       "<Figure size 640x480 with 1 Axes>"
      ]
     },
     "metadata": {},
     "output_type": "display_data"
    }
   ],
   "source": [
    "# Filtering\n",
    "\n",
    "\n",
    "# First look at the distribution of the duration values using seaborn.\n",
    "sns.distplot(df['duration'])\n",
    "\n"
   ]
  },
  {
   "cell_type": "code",
   "execution_count": 68,
   "id": "b766ae51-482a-49cf-9260-0755c98f24ae",
   "metadata": {},
   "outputs": [
    {
     "data": {
      "text/plain": [
       "count    73908.000000\n",
       "mean        16.852578\n",
       "std         11.563163\n",
       "min          1.000000\n",
       "1%           2.000000\n",
       "5%           3.816667\n",
       "50%         14.000000\n",
       "95%         41.000000\n",
       "98%         48.781000\n",
       "99%         53.000000\n",
       "max         60.000000\n",
       "Name: duration, dtype: float64"
      ]
     },
     "execution_count": 68,
     "metadata": {},
     "output_type": "execute_result"
    }
   ],
   "source": [
    "# Clearly we need some means of filtering the data. One good way is by removing the extreme percentiles at either end. \n",
    "# We can determine the percentile cutoffs with the describe function to see where extreme values lie.\n",
    "\n",
    "df['duration'].describe(percentiles=[0.01, 0.05, 0.95, 0.98, 0.99])\n"
   ]
  },
  {
   "cell_type": "markdown",
   "id": "6a29c881-fd68-4472-b2c8-46188b0e199a",
   "metadata": {},
   "source": [
    "### Marcu Note; https://github.com/mleiwe/mlops-zoomcamp/blob/Ch1_Marcus/cohorts/2024/01-intro/Ch1_Notes.md\n"
   ]
  },
  {
   "cell_type": "code",
   "execution_count": null,
   "id": "e3212b17-1b06-41af-a064-7c035d6ba45e",
   "metadata": {},
   "outputs": [],
   "source": [
    "### Data Prep\n",
    "# SUMMARY we are simply tring to convert all str, categorical, code etc into NUMERICALs\n",
    "\n",
    "# # One-hot - int to object\n",
    "# df[categorical] = df[categorical].astype(str)\n",
    "\n",
    "# Prediction features: Basically what are our X values. In the demo we are using PULocationID and DOLocationID which are the pick up \n",
    "# and drop off location IDs respectively. Because these are not really numbers but ID codes, these should be reformatted into str rather \n",
    "#than float or int or whichever numerical data type. Additionally these then need to be encoded in some machine readable form.\n",
    "\n",
    "\n",
    "# One-hot encoding creates new columns for each category and fills them either with a 1 if the category is present or a 0 if it is a different value. \n",
    "# The advantage is that it is simple and easy to use. The downside is that you can greatly expand your data size by creating large numbers of columns \n",
    "# that are mostly filled with 0s (known as creating data sparsity).\n",
    "\n",
    "# Method 1: Change the type of your pandas series\n",
    "\n",
    "##   df_jan_filt[CategoricalColumns] = df_jan_filt[CategoricalColumns].astype(str)\n",
    "\n",
    "# Method 2: One hot encoding\n",
    "## There are two ways to do this. You can use the OneHotEnoder by scikit-learn which can work with arrays or you can use the dictionary vectoriser, \n",
    "# DictVectorizer.\n",
    "\n",
    "\n",
    "# OneHotEncoder uses fewer lines of code as you don't need to convert your dataframe into a dictionary. And you can specify which columns you want to \n",
    "# encode\n",
    "# DictVectorizer feels like a lower level code. And it will only one-hot encode columns with string values\n",
    "\n",
    "### There is not one correct answer for all use cases. Above all remember don't us pd.get_dummies() as if a value is not in your test data but in your \n",
    "# train data (or vice versa) then you will induce an error as the inputs won't have the same shape.\n",
    "\n",
    "### In this example we used the DictVectorizer\n",
    "\n",
    "  # from sklearn.feature_extraction import DictVectorizer\n",
    "\n",
    "  # train_dict = df_jan_filt[CategoricalColumns].to_dict(orient='records')\n",
    "  # dv = DictVectorizer()\n",
    "  # X_train = dv.fit_transform(train_dict)\n",
    "\n",
    "### Target feature: This is simply the duration variable so we can just use\n",
    "\n",
    "# y_train = df_jan_filt['duration']\n",
    "\n",
    "# NB You can use y_train = df_jan_filt['duration'].values if you need an array instead.\n",
    "\n",
    "### According to OK Transform from ZooomCamp as in here # https://particle1331.github.io/ok-transformer/nb/mlops/01-intro.html\n",
    "\n",
    "# To encode categorical features, we use DictVectorizer. This performs one-hot encoding of categorical features while the numerical features are \n",
    "# simply passed. Consider a dataset with categorical features f1 with unique values [a, b, c] and f2 with unique values [d, e], and a numerical \n",
    "# feature t. The transformed dataset gets features [f1=a, f1=b, f1=c, f2=d, f2=e, t]. For example, {f1: a, f2: e, t: 1.3} is transformed to\n",
    "# [1, 0, 0, 0, 1, 1.3]. One nice thing about this is that this will not fail with new categories (i.e. these are simply mapped to all zeros).\n",
    "\n",
    "\n",
    "### According to Steven from ZoomCamp as in here # https://stephen137.github.io/posts/MLOps_Zoomcamp_Week_1/MLOps_Zoomcamp_Week_1.html\n",
    "\n",
    "# One-hot encoding allows machine learning models to effectively capture categorical information and handle it as numerical input. However, it increases \n",
    "# the dimensionality of the data, especially when dealing with variables with many unique categories. This can impact computational efficiency and model \n",
    "# performance, especially in cases where the number of categories is large relative to the number of observations."
   ]
  },
  {
   "cell_type": "code",
   "execution_count": null,
   "id": "71d65b1d-bf87-440e-b929-a759b1a2ef3f",
   "metadata": {},
   "outputs": [],
   "source": [
    "### Training/Model fitting\n",
    "# From here we can just do simple sk-learn model fitting. NB in this example we will use a different dataset as the test data, there is no need to do \n",
    "# any cross-validation. In this case we can run the following code\n",
    "\n",
    "# from sklearn.linear_model import LinearRegression\n",
    "# from sklearn.metrics import mean_squared_error\n",
    "\n",
    "# lin_reg = LinearRegression()\n",
    "\n",
    "# lin_reg.fit(X_train,y_train)\n",
    "# y_pred = lin_reg.predict(X_train)\n",
    "\n",
    "# rmse = mean_squared_error(y_train, y_pred, squared=False)\n",
    "\n",
    "# print(f\"The RMSE is: {rmse}\")\n",
    "\n",
    "\n",
    "\n",
    "# #To produce a simple visualisation you can use seaborn too\n",
    "\n",
    "# import seaborn as sns\n",
    "\n",
    "# sns.distplot(y_pred, label='prediction')\n",
    "# sns.distplot(y_train, label='ground truth')\n",
    "\n",
    "### `This will not be a really good fit because we are only using categorical values to eastimate a numerical feature`\n",
    "\n"
   ]
  },
  {
   "cell_type": "code",
   "execution_count": 54,
   "id": "17b2e560-0400-4e14-aae0-ce3064f479dd",
   "metadata": {},
   "outputs": [
    {
     "name": "stderr",
     "output_type": "stream",
     "text": [
      "/tmp/ipykernel_2457/3056548181.py:1: UserWarning: \n",
      "\n",
      "`distplot` is a deprecated function and will be removed in seaborn v0.14.0.\n",
      "\n",
      "Please adapt your code to use either `displot` (a figure-level function with\n",
      "similar flexibility) or `histplot` (an axes-level function for histograms).\n",
      "\n",
      "For a guide to updating your code to use the new functions, please see\n",
      "https://gist.github.com/mwaskom/de44147ed2974457ad6372750bbe5751\n",
      "\n",
      "  sns.distplot(df.duration)\n"
     ]
    },
    {
     "data": {
      "text/plain": [
       "<Axes: xlabel='duration', ylabel='Density'>"
      ]
     },
     "execution_count": 54,
     "metadata": {},
     "output_type": "execute_result"
    },
    {
     "data": {
      "image/png": "[encoded data removed]",
      "text/plain": [
       "<Figure size 640x480 with 1 Axes>"
      ]
     },
     "metadata": {},
     "output_type": "display_data"
    }
   ],
   "source": [
    "# sns.distplot(df.duration)\n",
    "\n",
    "# Long Tail with most trips around 10 mins\n",
    "\n",
    "### How about \n",
    "#sns.histplot(df.duration)"
   ]
  },
  {
   "cell_type": "code",
   "execution_count": 51,
   "id": "0f55af17-12bb-463a-bb24-6d450e5d518b",
   "metadata": {},
   "outputs": [],
   "source": [
    "# Filtering dataset\n",
    "\n",
    "# Filter trips between 1 and 60 mins\n",
    "\n",
    "#df.duration.describe()"
   ]
  },
  {
   "cell_type": "code",
   "execution_count": 34,
   "id": "fa1cdf40-f527-45a4-9cd2-59e9a1b3ed1f",
   "metadata": {},
   "outputs": [],
   "source": [
    "#df['duration'].mean() # it is for fhv data only, not for green data\n",
    "\n",
    "\n",
    "# df = df[df.trip_type == 2 ]\n",
    "# df\n",
    "\n",
    "# df.duration.describe(percentiles = [0.95, 0.98, 0.99]) # Does not apply here\n",
    "\n",
    "#((df.duration >= 1) & (df.duration <= 60)).mean()\n",
    "# 0.5169628432956381\n",
    "\n",
    "# df = df[(df.duration >= 1) & (df.duration <= 60)]\n",
    "\n",
    "# categorical = ['PULocationID', 'DOLocationID']\n",
    "# numerical = ['trip_distance']\n",
    "\n",
    "#td = df.duration.iloc[0]\n",
    "#td.total_seconds()/60"
   ]
  },
  {
   "cell_type": "markdown",
   "id": "8a1c00bd-e2cd-4503-b1f7-d4f539f798a2",
   "metadata": {},
   "source": [
    "### Training/Model fitting"
   ]
  },
  {
   "cell_type": "code",
   "execution_count": 60,
   "id": "8cc2f454-6dbc-4822-956f-5dbd9f464f47",
   "metadata": {},
   "outputs": [
    {
     "data": {
      "text/html": [
       "<div>\n",
       "<style scoped>\n",
       "    .dataframe tbody tr th:only-of-type {\n",
       "        vertical-align: middle;\n",
       "    }\n",
       "\n",
       "    .dataframe tbody tr th {\n",
       "        vertical-align: top;\n",
       "    }\n",
       "\n",
       "    .dataframe thead th {\n",
       "        text-align: right;\n",
       "    }\n",
       "</style>\n",
       "<table border=\"1\" class=\"dataframe\">\n",
       "  <thead>\n",
       "    <tr style=\"text-align: right;\">\n",
       "      <th></th>\n",
       "      <th>VendorID</th>\n",
       "      <th>lpep_pickup_datetime</th>\n",
       "      <th>lpep_dropoff_datetime</th>\n",
       "      <th>store_and_fwd_flag</th>\n",
       "      <th>RatecodeID</th>\n",
       "      <th>PULocationID</th>\n",
       "      <th>DOLocationID</th>\n",
       "      <th>passenger_count</th>\n",
       "      <th>trip_distance</th>\n",
       "      <th>fare_amount</th>\n",
       "      <th>...</th>\n",
       "      <th>mta_tax</th>\n",
       "      <th>tip_amount</th>\n",
       "      <th>tolls_amount</th>\n",
       "      <th>ehail_fee</th>\n",
       "      <th>improvement_surcharge</th>\n",
       "      <th>total_amount</th>\n",
       "      <th>payment_type</th>\n",
       "      <th>trip_type</th>\n",
       "      <th>congestion_surcharge</th>\n",
       "      <th>duration</th>\n",
       "    </tr>\n",
       "  </thead>\n",
       "  <tbody>\n",
       "    <tr>\n",
       "      <th>0</th>\n",
       "      <td>2</td>\n",
       "      <td>2021-01-01 00:15:56</td>\n",
       "      <td>2021-01-01 00:19:52</td>\n",
       "      <td>N</td>\n",
       "      <td>1.0</td>\n",
       "      <td>43</td>\n",
       "      <td>151</td>\n",
       "      <td>1.0</td>\n",
       "      <td>1.01</td>\n",
       "      <td>5.50</td>\n",
       "      <td>...</td>\n",
       "      <td>0.5</td>\n",
       "      <td>0.00</td>\n",
       "      <td>0.00</td>\n",
       "      <td>None</td>\n",
       "      <td>0.3</td>\n",
       "      <td>6.80</td>\n",
       "      <td>2.0</td>\n",
       "      <td>1.0</td>\n",
       "      <td>0.00</td>\n",
       "      <td>3.933333</td>\n",
       "    </tr>\n",
       "    <tr>\n",
       "      <th>1</th>\n",
       "      <td>2</td>\n",
       "      <td>2021-01-01 00:25:59</td>\n",
       "      <td>2021-01-01 00:34:44</td>\n",
       "      <td>N</td>\n",
       "      <td>1.0</td>\n",
       "      <td>166</td>\n",
       "      <td>239</td>\n",
       "      <td>1.0</td>\n",
       "      <td>2.53</td>\n",
       "      <td>10.00</td>\n",
       "      <td>...</td>\n",
       "      <td>0.5</td>\n",
       "      <td>2.81</td>\n",
       "      <td>0.00</td>\n",
       "      <td>None</td>\n",
       "      <td>0.3</td>\n",
       "      <td>16.86</td>\n",
       "      <td>1.0</td>\n",
       "      <td>1.0</td>\n",
       "      <td>2.75</td>\n",
       "      <td>8.750000</td>\n",
       "    </tr>\n",
       "    <tr>\n",
       "      <th>2</th>\n",
       "      <td>2</td>\n",
       "      <td>2021-01-01 00:45:57</td>\n",
       "      <td>2021-01-01 00:51:55</td>\n",
       "      <td>N</td>\n",
       "      <td>1.0</td>\n",
       "      <td>41</td>\n",
       "      <td>42</td>\n",
       "      <td>1.0</td>\n",
       "      <td>1.12</td>\n",
       "      <td>6.00</td>\n",
       "      <td>...</td>\n",
       "      <td>0.5</td>\n",
       "      <td>1.00</td>\n",
       "      <td>0.00</td>\n",
       "      <td>None</td>\n",
       "      <td>0.3</td>\n",
       "      <td>8.30</td>\n",
       "      <td>1.0</td>\n",
       "      <td>1.0</td>\n",
       "      <td>0.00</td>\n",
       "      <td>5.966667</td>\n",
       "    </tr>\n",
       "    <tr>\n",
       "      <th>3</th>\n",
       "      <td>2</td>\n",
       "      <td>2020-12-31 23:57:51</td>\n",
       "      <td>2021-01-01 00:04:56</td>\n",
       "      <td>N</td>\n",
       "      <td>1.0</td>\n",
       "      <td>168</td>\n",
       "      <td>75</td>\n",
       "      <td>1.0</td>\n",
       "      <td>1.99</td>\n",
       "      <td>8.00</td>\n",
       "      <td>...</td>\n",
       "      <td>0.5</td>\n",
       "      <td>0.00</td>\n",
       "      <td>0.00</td>\n",
       "      <td>None</td>\n",
       "      <td>0.3</td>\n",
       "      <td>9.30</td>\n",
       "      <td>2.0</td>\n",
       "      <td>1.0</td>\n",
       "      <td>0.00</td>\n",
       "      <td>7.083333</td>\n",
       "    </tr>\n",
       "    <tr>\n",
       "      <th>7</th>\n",
       "      <td>2</td>\n",
       "      <td>2021-01-01 00:26:31</td>\n",
       "      <td>2021-01-01 00:28:50</td>\n",
       "      <td>N</td>\n",
       "      <td>1.0</td>\n",
       "      <td>75</td>\n",
       "      <td>75</td>\n",
       "      <td>6.0</td>\n",
       "      <td>0.45</td>\n",
       "      <td>3.50</td>\n",
       "      <td>...</td>\n",
       "      <td>0.5</td>\n",
       "      <td>0.96</td>\n",
       "      <td>0.00</td>\n",
       "      <td>None</td>\n",
       "      <td>0.3</td>\n",
       "      <td>5.76</td>\n",
       "      <td>1.0</td>\n",
       "      <td>1.0</td>\n",
       "      <td>0.00</td>\n",
       "      <td>2.316667</td>\n",
       "    </tr>\n",
       "    <tr>\n",
       "      <th>...</th>\n",
       "      <td>...</td>\n",
       "      <td>...</td>\n",
       "      <td>...</td>\n",
       "      <td>...</td>\n",
       "      <td>...</td>\n",
       "      <td>...</td>\n",
       "      <td>...</td>\n",
       "      <td>...</td>\n",
       "      <td>...</td>\n",
       "      <td>...</td>\n",
       "      <td>...</td>\n",
       "      <td>...</td>\n",
       "      <td>...</td>\n",
       "      <td>...</td>\n",
       "      <td>...</td>\n",
       "      <td>...</td>\n",
       "      <td>...</td>\n",
       "      <td>...</td>\n",
       "      <td>...</td>\n",
       "      <td>...</td>\n",
       "      <td>...</td>\n",
       "    </tr>\n",
       "    <tr>\n",
       "      <th>76513</th>\n",
       "      <td>2</td>\n",
       "      <td>2021-01-31 21:38:00</td>\n",
       "      <td>2021-01-31 22:16:00</td>\n",
       "      <td>None</td>\n",
       "      <td>NaN</td>\n",
       "      <td>81</td>\n",
       "      <td>90</td>\n",
       "      <td>NaN</td>\n",
       "      <td>17.63</td>\n",
       "      <td>56.23</td>\n",
       "      <td>...</td>\n",
       "      <td>0.0</td>\n",
       "      <td>0.00</td>\n",
       "      <td>6.12</td>\n",
       "      <td>None</td>\n",
       "      <td>0.3</td>\n",
       "      <td>65.40</td>\n",
       "      <td>NaN</td>\n",
       "      <td>NaN</td>\n",
       "      <td>NaN</td>\n",
       "      <td>38.000000</td>\n",
       "    </tr>\n",
       "    <tr>\n",
       "      <th>76514</th>\n",
       "      <td>2</td>\n",
       "      <td>2021-01-31 22:43:00</td>\n",
       "      <td>2021-01-31 23:21:00</td>\n",
       "      <td>None</td>\n",
       "      <td>NaN</td>\n",
       "      <td>35</td>\n",
       "      <td>213</td>\n",
       "      <td>NaN</td>\n",
       "      <td>18.36</td>\n",
       "      <td>46.66</td>\n",
       "      <td>...</td>\n",
       "      <td>0.0</td>\n",
       "      <td>12.20</td>\n",
       "      <td>6.12</td>\n",
       "      <td>None</td>\n",
       "      <td>0.3</td>\n",
       "      <td>65.28</td>\n",
       "      <td>NaN</td>\n",
       "      <td>NaN</td>\n",
       "      <td>NaN</td>\n",
       "      <td>38.000000</td>\n",
       "    </tr>\n",
       "    <tr>\n",
       "      <th>76515</th>\n",
       "      <td>2</td>\n",
       "      <td>2021-01-31 22:16:00</td>\n",
       "      <td>2021-01-31 22:27:00</td>\n",
       "      <td>None</td>\n",
       "      <td>NaN</td>\n",
       "      <td>74</td>\n",
       "      <td>69</td>\n",
       "      <td>NaN</td>\n",
       "      <td>2.50</td>\n",
       "      <td>18.95</td>\n",
       "      <td>...</td>\n",
       "      <td>0.0</td>\n",
       "      <td>0.00</td>\n",
       "      <td>0.00</td>\n",
       "      <td>None</td>\n",
       "      <td>0.3</td>\n",
       "      <td>22.00</td>\n",
       "      <td>NaN</td>\n",
       "      <td>NaN</td>\n",
       "      <td>NaN</td>\n",
       "      <td>11.000000</td>\n",
       "    </tr>\n",
       "    <tr>\n",
       "      <th>76516</th>\n",
       "      <td>2</td>\n",
       "      <td>2021-01-31 23:10:00</td>\n",
       "      <td>2021-01-31 23:37:00</td>\n",
       "      <td>None</td>\n",
       "      <td>NaN</td>\n",
       "      <td>168</td>\n",
       "      <td>215</td>\n",
       "      <td>NaN</td>\n",
       "      <td>14.48</td>\n",
       "      <td>48.87</td>\n",
       "      <td>...</td>\n",
       "      <td>0.0</td>\n",
       "      <td>0.00</td>\n",
       "      <td>6.12</td>\n",
       "      <td>None</td>\n",
       "      <td>0.3</td>\n",
       "      <td>58.04</td>\n",
       "      <td>NaN</td>\n",
       "      <td>NaN</td>\n",
       "      <td>NaN</td>\n",
       "      <td>27.000000</td>\n",
       "    </tr>\n",
       "    <tr>\n",
       "      <th>76517</th>\n",
       "      <td>2</td>\n",
       "      <td>2021-01-31 23:25:00</td>\n",
       "      <td>2021-01-31 23:35:00</td>\n",
       "      <td>None</td>\n",
       "      <td>NaN</td>\n",
       "      <td>119</td>\n",
       "      <td>244</td>\n",
       "      <td>NaN</td>\n",
       "      <td>1.81</td>\n",
       "      <td>15.45</td>\n",
       "      <td>...</td>\n",
       "      <td>0.0</td>\n",
       "      <td>0.00</td>\n",
       "      <td>0.00</td>\n",
       "      <td>None</td>\n",
       "      <td>0.3</td>\n",
       "      <td>18.50</td>\n",
       "      <td>NaN</td>\n",
       "      <td>NaN</td>\n",
       "      <td>NaN</td>\n",
       "      <td>10.000000</td>\n",
       "    </tr>\n",
       "  </tbody>\n",
       "</table>\n",
       "<p>73908 rows × 21 columns</p>\n",
       "</div>"
      ],
      "text/plain": [
       "       VendorID lpep_pickup_datetime lpep_dropoff_datetime store_and_fwd_flag  \\\n",
       "0             2  2021-01-01 00:15:56   2021-01-01 00:19:52                  N   \n",
       "1             2  2021-01-01 00:25:59   2021-01-01 00:34:44                  N   \n",
       "2             2  2021-01-01 00:45:57   2021-01-01 00:51:55                  N   \n",
       "3             2  2020-12-31 23:57:51   2021-01-01 00:04:56                  N   \n",
       "7             2  2021-01-01 00:26:31   2021-01-01 00:28:50                  N   \n",
       "...         ...                  ...                   ...                ...   \n",
       "76513         2  2021-01-31 21:38:00   2021-01-31 22:16:00               None   \n",
       "76514         2  2021-01-31 22:43:00   2021-01-31 23:21:00               None   \n",
       "76515         2  2021-01-31 22:16:00   2021-01-31 22:27:00               None   \n",
       "76516         2  2021-01-31 23:10:00   2021-01-31 23:37:00               None   \n",
       "76517         2  2021-01-31 23:25:00   2021-01-31 23:35:00               None   \n",
       "\n",
       "       RatecodeID PULocationID DOLocationID  passenger_count  trip_distance  \\\n",
       "0             1.0           43          151              1.0           1.01   \n",
       "1             1.0          166          239              1.0           2.53   \n",
       "2             1.0           41           42              1.0           1.12   \n",
       "3             1.0          168           75              1.0           1.99   \n",
       "7             1.0           75           75              6.0           0.45   \n",
       "...           ...          ...          ...              ...            ...   \n",
       "76513         NaN           81           90              NaN          17.63   \n",
       "76514         NaN           35          213              NaN          18.36   \n",
       "76515         NaN           74           69              NaN           2.50   \n",
       "76516         NaN          168          215              NaN          14.48   \n",
       "76517         NaN          119          244              NaN           1.81   \n",
       "\n",
       "       fare_amount  ...  mta_tax  tip_amount  tolls_amount  ehail_fee  \\\n",
       "0             5.50  ...      0.5        0.00          0.00       None   \n",
       "1            10.00  ...      0.5        2.81          0.00       None   \n",
       "2             6.00  ...      0.5        1.00          0.00       None   \n",
       "3             8.00  ...      0.5        0.00          0.00       None   \n",
       "7             3.50  ...      0.5        0.96          0.00       None   \n",
       "...            ...  ...      ...         ...           ...        ...   \n",
       "76513        56.23  ...      0.0        0.00          6.12       None   \n",
       "76514        46.66  ...      0.0       12.20          6.12       None   \n",
       "76515        18.95  ...      0.0        0.00          0.00       None   \n",
       "76516        48.87  ...      0.0        0.00          6.12       None   \n",
       "76517        15.45  ...      0.0        0.00          0.00       None   \n",
       "\n",
       "      improvement_surcharge  total_amount  payment_type  trip_type  \\\n",
       "0                       0.3          6.80           2.0        1.0   \n",
       "1                       0.3         16.86           1.0        1.0   \n",
       "2                       0.3          8.30           1.0        1.0   \n",
       "3                       0.3          9.30           2.0        1.0   \n",
       "7                       0.3          5.76           1.0        1.0   \n",
       "...                     ...           ...           ...        ...   \n",
       "76513                   0.3         65.40           NaN        NaN   \n",
       "76514                   0.3         65.28           NaN        NaN   \n",
       "76515                   0.3         22.00           NaN        NaN   \n",
       "76516                   0.3         58.04           NaN        NaN   \n",
       "76517                   0.3         18.50           NaN        NaN   \n",
       "\n",
       "       congestion_surcharge   duration  \n",
       "0                      0.00   3.933333  \n",
       "1                      2.75   8.750000  \n",
       "2                      0.00   5.966667  \n",
       "3                      0.00   7.083333  \n",
       "7                      0.00   2.316667  \n",
       "...                     ...        ...  \n",
       "76513                   NaN  38.000000  \n",
       "76514                   NaN  38.000000  \n",
       "76515                   NaN  11.000000  \n",
       "76516                   NaN  27.000000  \n",
       "76517                   NaN  10.000000  \n",
       "\n",
       "[73908 rows x 21 columns]"
      ]
     },
     "execution_count": 60,
     "metadata": {},
     "output_type": "execute_result"
    }
   ],
   "source": [
    "# Let's start building a model\n",
    "# Remember: This will not be a really good fit because we are only using categorical values to eastimate a numerical feature but here we are converting\n",
    "#them into \n",
    "\n",
    "\n",
    "\n",
    "df = pd.read_parquet('./data/green_tripdata_2021-01.parquet')\n",
    "\n",
    "df['duration'] = df.lpep_dropoff_datetime - df.lpep_pickup_datetime\n",
    "df.duration = df.duration.apply(lambda td: td.total_seconds() / 60)\n",
    "\n",
    "df = df[(df.duration >= 1) & (df.duration <= 60)]\n",
    "\n",
    "categorical = ['PULocationID', 'DOLocationID']\n",
    "numerical = ['trip_distance']\n",
    "\n",
    "# Convert to string, sklearn requirement\n",
    "df[categorical] = df[categorical].astype(str) ## For One Hot encoding, values must be passed as string to be converted into numerical \n",
    "\n",
    "df                        "
   ]
  },
  {
   "cell_type": "code",
   "execution_count": 61,
   "id": "dddca6cc-bb32-4456-9765-1b577df055cb",
   "metadata": {},
   "outputs": [
    {
     "name": "stdout",
     "output_type": "stream",
     "text": [
      "<class 'pandas.core.frame.DataFrame'>\n",
      "Index: 73908 entries, 0 to 76517\n",
      "Data columns (total 21 columns):\n",
      " #   Column                 Non-Null Count  Dtype         \n",
      "---  ------                 --------------  -----         \n",
      " 0   VendorID               73908 non-null  int64         \n",
      " 1   lpep_pickup_datetime   73908 non-null  datetime64[us]\n",
      " 2   lpep_dropoff_datetime  73908 non-null  datetime64[us]\n",
      " 3   store_and_fwd_flag     38175 non-null  object        \n",
      " 4   RatecodeID             38175 non-null  float64       \n",
      " 5   PULocationID           73908 non-null  object        \n",
      " 6   DOLocationID           73908 non-null  object        \n",
      " 7   passenger_count        38175 non-null  float64       \n",
      " 8   trip_distance          73908 non-null  float64       \n",
      " 9   fare_amount            73908 non-null  float64       \n",
      " 10  extra                  73908 non-null  float64       \n",
      " 11  mta_tax                73908 non-null  float64       \n",
      " 12  tip_amount             73908 non-null  float64       \n",
      " 13  tolls_amount           73908 non-null  float64       \n",
      " 14  ehail_fee              0 non-null      object        \n",
      " 15  improvement_surcharge  73908 non-null  float64       \n",
      " 16  total_amount           73908 non-null  float64       \n",
      " 17  payment_type           38175 non-null  float64       \n",
      " 18  trip_type              38175 non-null  float64       \n",
      " 19  congestion_surcharge   38175 non-null  float64       \n",
      " 20  duration               73908 non-null  float64       \n",
      "dtypes: datetime64[us](2), float64(14), int64(1), object(4)\n",
      "memory usage: 12.4+ MB\n"
     ]
    }
   ],
   "source": [
    "df.info()"
   ]
  },
  {
   "cell_type": "code",
   "execution_count": 80,
   "id": "c422a6fa-ba88-45e6-bb24-f1a97e6bc035",
   "metadata": {},
   "outputs": [],
   "source": [
    "# # Apply DictVectorizer ==> Assign dependent variables, Location pair and distance\n",
    "\n",
    "# ### First, Concatenate the pickup and dropoff location as categorial value\n",
    "#         # Concatenate the pickup and dropoff location as categorial value\n",
    "#         # Better prediction than Individual categorial values \n",
    "\n",
    "# # df_train['PU_DO'] = df_train['PULocationID'] + '_' + df_train['DOLocationID']\n",
    "# # df_val['PU_DO'] = df_val['PULocationID'] + '_' + df_val['DOLocationID']\n",
    "\n",
    "\n",
    "# # categorical = ['PU_DO']\n",
    "# # # categotical = ['PULocationID', 'DOLocationID']\n",
    "# # # mean_squared_error ~ 10\n",
    "# # numerical = ['trip_distance']\n",
    "\n",
    "\n",
    "\n",
    "# dv = DictVectorizer()\n",
    "\n",
    "# train_dicts = df[categorical + numerical].to_dict(orient='records') ##One hot encoding\n",
    "# X_train = dv.fit_transform(train_dicts)  ### codes for pickup and dropoff are converted to numerical or sparse matrix\n",
    "\n",
    "# val_dicts = df_val[categotical + numerical].to_dict(orient='records')   ##One hot encoding\n",
    "# X_val = dv.transform(val_dicts)   ### codes for pickup and dropoff are converted to numerical or sparse matrix\n",
    "\n",
    "# ### Assign target variable, Duration\n",
    "# #Extract target variable ==>y_train = df[TargetColumn].values\n",
    "# target = 'duration'\n",
    "# y_train = df_train[target].values\n",
    "# y_val = df_val[target].values\n",
    "\n",
    "\n",
    "# ### Use LinearRegression to fit Model as in \n",
    "# # FIT model: ==> model.fit(X_train, y_train)\n",
    "# lr = LinearRegression()\n",
    "# lr.fit(X_train, y_train)\n",
    "\n",
    "\n",
    "# # PREDICT Model:  y_pred = model.predict(X_train)\n",
    "# y_pred = lr.predict(X_val)\n",
    "\n",
    "# #Measure goodness of fit ==> rmse = mean_squared_error(y_train, y_pred, squared=False)\n",
    "# mean_squared_error(y_val, y_pred)  #, squared=False)"
   ]
  },
  {
   "cell_type": "code",
   "execution_count": 82,
   "id": "b6c75d90-5788-4318-8f61-2d90da36b8ce",
   "metadata": {},
   "outputs": [],
   "source": [
    "# ### First, Concatenate the pickup and dropoff location as categorial value\n",
    "#     # Concatenate the pickup and dropoff location as categorial value because it is a Better prediction than Individual categorial values \n",
    "\n",
    "# ###  WHY???  Remember: This will not be a really good fit because we are only using categorical values to eastimate a numerical feature but \n",
    "# #here we are converting them into \n",
    "\n",
    "# df_train['PU_DO'] = df_train['PULocationID'] + '_' + df_train['DOLocationID']\n",
    "# df_val['PU_DO'] = df_val['PULocationID'] + '_' + df_val['DOLocationID']\n",
    "\n",
    "\n",
    "\n",
    "# categorical = ['PU_DO']   # categotical = ['PULocationID', 'DOLocationID']\n",
    "# # mean_squared_error ~ 10\n",
    "# numerical = ['trip_distance']"
   ]
  },
  {
   "cell_type": "code",
   "execution_count": null,
   "id": "70ee44b3-58e8-4d44-807d-b290993527d5",
   "metadata": {},
   "outputs": [],
   "source": [
    "### Use LinearRegression\n",
    "\n",
    "target = 'duration'\n",
    "y_train = df[target].values\n",
    "\n",
    "lr = LinearRegression()\n",
    "lr.fit(X_train, y_train)\n",
    "\n",
    "y_pred = lr.predict(X_train)\n",
    "\n",
    "mean_squared_error(y_train, y_pred)"
   ]
  },
  {
   "cell_type": "code",
   "execution_count": null,
   "id": "bcf83ace-d091-4db0-bf4a-0176cca4f8f7",
   "metadata": {},
   "outputs": [],
   "source": []
  },
  {
   "cell_type": "code",
   "execution_count": 81,
   "id": "7cd70537-bde7-46ab-a6b9-5687f2a66b9c",
   "metadata": {},
   "outputs": [
    {
     "ename": "KeyError",
     "evalue": "\"['PU_DO'] not in index\"",
     "output_type": "error",
     "traceback": [
      "\u001b[0;31m---------------------------------------------------------------------------\u001b[0m",
      "\u001b[0;31mKeyError\u001b[0m                                  Traceback (most recent call last)",
      "Cell \u001b[0;32mIn[81], line 1\u001b[0m\n\u001b[0;32m----> 1\u001b[0m train_dicts \u001b[38;5;241m=\u001b[39m df[categorical \u001b[38;5;241m+\u001b[39m numerical]\u001b[38;5;241m.\u001b[39mto_dict(orient\u001b[38;5;241m=\u001b[39m\u001b[38;5;124m'\u001b[39m\u001b[38;5;124mrecords\u001b[39m\u001b[38;5;124m'\u001b[39m)\n\u001b[1;32m      3\u001b[0m dv \u001b[38;5;241m=\u001b[39m DictVectorizer()\n\u001b[1;32m      4\u001b[0m dv\u001b[38;5;241m.\u001b[39mfit_transform(train_dicts)\n",
      "File \u001b[0;32m~/anaconda3/lib/python3.12/site-packages/pandas/core/frame.py:4108\u001b[0m, in \u001b[0;36mDataFrame.__getitem__\u001b[0;34m(self, key)\u001b[0m\n\u001b[1;32m   4106\u001b[0m     \u001b[38;5;28;01mif\u001b[39;00m is_iterator(key):\n\u001b[1;32m   4107\u001b[0m         key \u001b[38;5;241m=\u001b[39m \u001b[38;5;28mlist\u001b[39m(key)\n\u001b[0;32m-> 4108\u001b[0m     indexer \u001b[38;5;241m=\u001b[39m \u001b[38;5;28mself\u001b[39m\u001b[38;5;241m.\u001b[39mcolumns\u001b[38;5;241m.\u001b[39m_get_indexer_strict(key, \u001b[38;5;124m\"\u001b[39m\u001b[38;5;124mcolumns\u001b[39m\u001b[38;5;124m\"\u001b[39m)[\u001b[38;5;241m1\u001b[39m]\n\u001b[1;32m   4110\u001b[0m \u001b[38;5;66;03m# take() does not accept boolean indexers\u001b[39;00m\n\u001b[1;32m   4111\u001b[0m \u001b[38;5;28;01mif\u001b[39;00m \u001b[38;5;28mgetattr\u001b[39m(indexer, \u001b[38;5;124m\"\u001b[39m\u001b[38;5;124mdtype\u001b[39m\u001b[38;5;124m\"\u001b[39m, \u001b[38;5;28;01mNone\u001b[39;00m) \u001b[38;5;241m==\u001b[39m \u001b[38;5;28mbool\u001b[39m:\n",
      "File \u001b[0;32m~/anaconda3/lib/python3.12/site-packages/pandas/core/indexes/base.py:6200\u001b[0m, in \u001b[0;36mIndex._get_indexer_strict\u001b[0;34m(self, key, axis_name)\u001b[0m\n\u001b[1;32m   6197\u001b[0m \u001b[38;5;28;01melse\u001b[39;00m:\n\u001b[1;32m   6198\u001b[0m     keyarr, indexer, new_indexer \u001b[38;5;241m=\u001b[39m \u001b[38;5;28mself\u001b[39m\u001b[38;5;241m.\u001b[39m_reindex_non_unique(keyarr)\n\u001b[0;32m-> 6200\u001b[0m \u001b[38;5;28mself\u001b[39m\u001b[38;5;241m.\u001b[39m_raise_if_missing(keyarr, indexer, axis_name)\n\u001b[1;32m   6202\u001b[0m keyarr \u001b[38;5;241m=\u001b[39m \u001b[38;5;28mself\u001b[39m\u001b[38;5;241m.\u001b[39mtake(indexer)\n\u001b[1;32m   6203\u001b[0m \u001b[38;5;28;01mif\u001b[39;00m \u001b[38;5;28misinstance\u001b[39m(key, Index):\n\u001b[1;32m   6204\u001b[0m     \u001b[38;5;66;03m# GH 42790 - Preserve name from an Index\u001b[39;00m\n",
      "File \u001b[0;32m~/anaconda3/lib/python3.12/site-packages/pandas/core/indexes/base.py:6252\u001b[0m, in \u001b[0;36mIndex._raise_if_missing\u001b[0;34m(self, key, indexer, axis_name)\u001b[0m\n\u001b[1;32m   6249\u001b[0m     \u001b[38;5;28;01mraise\u001b[39;00m \u001b[38;5;167;01mKeyError\u001b[39;00m(\u001b[38;5;124mf\u001b[39m\u001b[38;5;124m\"\u001b[39m\u001b[38;5;124mNone of [\u001b[39m\u001b[38;5;132;01m{\u001b[39;00mkey\u001b[38;5;132;01m}\u001b[39;00m\u001b[38;5;124m] are in the [\u001b[39m\u001b[38;5;132;01m{\u001b[39;00maxis_name\u001b[38;5;132;01m}\u001b[39;00m\u001b[38;5;124m]\u001b[39m\u001b[38;5;124m\"\u001b[39m)\n\u001b[1;32m   6251\u001b[0m not_found \u001b[38;5;241m=\u001b[39m \u001b[38;5;28mlist\u001b[39m(ensure_index(key)[missing_mask\u001b[38;5;241m.\u001b[39mnonzero()[\u001b[38;5;241m0\u001b[39m]]\u001b[38;5;241m.\u001b[39munique())\n\u001b[0;32m-> 6252\u001b[0m \u001b[38;5;28;01mraise\u001b[39;00m \u001b[38;5;167;01mKeyError\u001b[39;00m(\u001b[38;5;124mf\u001b[39m\u001b[38;5;124m\"\u001b[39m\u001b[38;5;132;01m{\u001b[39;00mnot_found\u001b[38;5;132;01m}\u001b[39;00m\u001b[38;5;124m not in index\u001b[39m\u001b[38;5;124m\"\u001b[39m)\n",
      "\u001b[0;31mKeyError\u001b[0m: \"['PU_DO'] not in index\""
     ]
    }
   ],
   "source": [
    "train_dicts = df[categorical + numerical].to_dict(orient='records')\n",
    "\n",
    "dv = DictVectorizer()\n",
    "dv.fit_transform(train_dicts)\n",
    "\n",
    "\n",
    "### Check if True or False\n",
    "dv.fit_transform(train_dicts).todense().shape[1] == df.PULocationID.nunique() + df.DOLocationID.nunique() + 1\n",
    "\n",
    "### Each trip is represented by a dictionary containing three features:\n",
    "train_dicts[:3]\n",
    "\n",
    "### The location IDs are one-hot encoded and the dataset is converted to a sparse matrix:\n",
    "\n",
    "dv.transform(train_dicts[:3]).todense()"
   ]
  },
  {
   "cell_type": "code",
   "execution_count": 65,
   "id": "fc9af8e9-6093-407d-bb25-42509a033bb1",
   "metadata": {},
   "outputs": [],
   "source": [
    "# ## Read Jan & Feb dataset\n",
    "\n",
    "# # Training dataset   - JAN\n",
    "# df_train = pd.read_parquet('./data/green_tripdata_2021-01.parquet')\n",
    "# # Validation dataset - FEB\n",
    "# df_val = pd.read_parquet('./data/green_tripdata_2021-02.parquet')"
   ]
  },
  {
   "cell_type": "raw",
   "id": "41ee7343-803a-4718-8ce1-aedd083983b6",
   "metadata": {},
   "source": [
    "Compare Jan & Feb dataset"
   ]
  },
  {
   "cell_type": "code",
   "execution_count": null,
   "id": "616f87ef-5fea-471f-b6a9-734da1b32e4a",
   "metadata": {},
   "outputs": [],
   "source": [
    "# Compare length of both dataset\n",
    "len(df_train), len(df_val)"
   ]
  },
  {
   "cell_type": "code",
   "execution_count": null,
   "id": "172168c4-708d-4770-b1dc-59621905aa3e",
   "metadata": {},
   "outputs": [],
   "source": []
  },
  {
   "cell_type": "code",
   "execution_count": null,
   "id": "b0808309-585a-4584-9e02-bc641b21eb4b",
   "metadata": {},
   "outputs": [],
   "source": []
  },
  {
   "cell_type": "markdown",
   "id": "040f63c1-c97d-4b43-8692-0bc81600940c",
   "metadata": {},
   "source": [
    "### OK TRANSFORMER https://particle1331.github.io/ok-transformer/nb/mlops/01-intro.html\n"
   ]
  },
  {
   "cell_type": "code",
   "execution_count": 46,
   "id": "b3fa4462-c311-4ec9-a70a-ace837955c7b",
   "metadata": {},
   "outputs": [
    {
     "data": {
      "image/png": "[encoded data removed]",
      "text/plain": [
       "<Figure size 640x480 with 1 Axes>"
      ]
     },
     "metadata": {},
     "output_type": "display_data"
    }
   ],
   "source": [
    "### OK TRANSFORMER https://particle1331.github.io/ok-transformer/nb/mlops/01-intro.html\n",
    "\n",
    "df['duration (min)'] = (df.lpep_dropoff_datetime - df.lpep_pickup_datetime).dt.total_seconds() / 60\n",
    "sns.histplot(df['duration (min)'].values);\n",
    "\n",
    "# sns.distplot(y_pred, label='prediction')\n",
    "# sns.distplot(y_train, label='actual')\n",
    "\n",
    "# plt.legend()"
   ]
  },
  {
   "cell_type": "code",
   "execution_count": 47,
   "id": "9fb52d90-f68e-4962-aeb9-c39ad3a76d66",
   "metadata": {},
   "outputs": [
    {
     "data": {
      "text/plain": [
       "count    1238.000000\n",
       "mean       18.305493\n",
       "std       108.364382\n",
       "min         0.000000\n",
       "50%         1.666667\n",
       "95%        35.604167\n",
       "98%        59.339333\n",
       "99%       149.837833\n",
       "max      1416.100000\n",
       "Name: duration (min), dtype: float64"
      ]
     },
     "execution_count": 47,
     "metadata": {},
     "output_type": "execute_result"
    }
   ],
   "source": [
    "df['duration (min)'].describe(percentiles=[0.95, 0.98, 0.99])"
   ]
  },
  {
   "cell_type": "code",
   "execution_count": null,
   "id": "f6ce91a2-0594-40e5-abe6-9a4f4ef45a99",
   "metadata": {},
   "outputs": [],
   "source": [
    "# Notice the longest trip took ~1400 minutes and there are trips which took <1 minute. We also see that 98% of all rides are within 1 hour. \n",
    "# From a business perspective, it makes sense to predict durations that are at least one minute, and at most an hour. \n",
    "# Checking the fraction of the dataset with duration that fall in this range:"
   ]
  },
  {
   "cell_type": "code",
   "execution_count": 48,
   "id": "64140376-3964-44d4-85c5-010bebf8bac9",
   "metadata": {},
   "outputs": [
    {
     "data": {
      "text/plain": [
       "0.5169628432956381"
      ]
     },
     "execution_count": 48,
     "metadata": {},
     "output_type": "execute_result"
    }
   ],
   "source": [
    "((df['duration (min)'] >= 1) & (df['duration (min)'] <= 60)).mean()"
   ]
  },
  {
   "cell_type": "code",
   "execution_count": 49,
   "id": "b422adca-26e5-4ec3-9cc7-e0649ea19b4e",
   "metadata": {},
   "outputs": [
    {
     "data": {
      "text/html": [
       "<div>\n",
       "<style scoped>\n",
       "    .dataframe tbody tr th:only-of-type {\n",
       "        vertical-align: middle;\n",
       "    }\n",
       "\n",
       "    .dataframe tbody tr th {\n",
       "        vertical-align: top;\n",
       "    }\n",
       "\n",
       "    .dataframe thead th {\n",
       "        text-align: right;\n",
       "    }\n",
       "</style>\n",
       "<table border=\"1\" class=\"dataframe\">\n",
       "  <thead>\n",
       "    <tr style=\"text-align: right;\">\n",
       "      <th></th>\n",
       "      <th>VendorID</th>\n",
       "      <th>lpep_pickup_datetime</th>\n",
       "      <th>lpep_dropoff_datetime</th>\n",
       "      <th>store_and_fwd_flag</th>\n",
       "      <th>RatecodeID</th>\n",
       "      <th>PULocationID</th>\n",
       "      <th>DOLocationID</th>\n",
       "      <th>passenger_count</th>\n",
       "      <th>trip_distance</th>\n",
       "      <th>fare_amount</th>\n",
       "      <th>...</th>\n",
       "      <th>tolls_amount</th>\n",
       "      <th>ehail_fee</th>\n",
       "      <th>improvement_surcharge</th>\n",
       "      <th>total_amount</th>\n",
       "      <th>payment_type</th>\n",
       "      <th>trip_type</th>\n",
       "      <th>congestion_surcharge</th>\n",
       "      <th>duration</th>\n",
       "      <th>duration_mins</th>\n",
       "      <th>duration (min)</th>\n",
       "    </tr>\n",
       "  </thead>\n",
       "  <tbody>\n",
       "    <tr>\n",
       "      <th>30</th>\n",
       "      <td>2</td>\n",
       "      <td>2021-01-01 00:35:29</td>\n",
       "      <td>2021-01-01 00:55:15</td>\n",
       "      <td>N</td>\n",
       "      <td>5.0</td>\n",
       "      <td>74</td>\n",
       "      <td>247</td>\n",
       "      <td>1.0</td>\n",
       "      <td>3.64</td>\n",
       "      <td>13.0</td>\n",
       "      <td>...</td>\n",
       "      <td>0.0</td>\n",
       "      <td>None</td>\n",
       "      <td>0.3</td>\n",
       "      <td>13.3</td>\n",
       "      <td>2.0</td>\n",
       "      <td>2.0</td>\n",
       "      <td>0.0</td>\n",
       "      <td>0 days 00:19:46</td>\n",
       "      <td>19.766667</td>\n",
       "      <td>19.766667</td>\n",
       "    </tr>\n",
       "    <tr>\n",
       "      <th>53</th>\n",
       "      <td>2</td>\n",
       "      <td>2021-01-01 01:54:51</td>\n",
       "      <td>2021-01-01 02:15:35</td>\n",
       "      <td>N</td>\n",
       "      <td>5.0</td>\n",
       "      <td>74</td>\n",
       "      <td>94</td>\n",
       "      <td>1.0</td>\n",
       "      <td>5.82</td>\n",
       "      <td>18.0</td>\n",
       "      <td>...</td>\n",
       "      <td>0.0</td>\n",
       "      <td>None</td>\n",
       "      <td>0.3</td>\n",
       "      <td>18.3</td>\n",
       "      <td>2.0</td>\n",
       "      <td>2.0</td>\n",
       "      <td>0.0</td>\n",
       "      <td>0 days 00:20:44</td>\n",
       "      <td>20.733333</td>\n",
       "      <td>20.733333</td>\n",
       "    </tr>\n",
       "    <tr>\n",
       "      <th>69</th>\n",
       "      <td>2</td>\n",
       "      <td>2021-01-01 02:42:49</td>\n",
       "      <td>2021-01-01 02:50:59</td>\n",
       "      <td>N</td>\n",
       "      <td>5.0</td>\n",
       "      <td>136</td>\n",
       "      <td>241</td>\n",
       "      <td>1.0</td>\n",
       "      <td>0.57</td>\n",
       "      <td>9.0</td>\n",
       "      <td>...</td>\n",
       "      <td>0.0</td>\n",
       "      <td>None</td>\n",
       "      <td>0.3</td>\n",
       "      <td>9.3</td>\n",
       "      <td>2.0</td>\n",
       "      <td>2.0</td>\n",
       "      <td>0.0</td>\n",
       "      <td>0 days 00:08:10</td>\n",
       "      <td>8.166667</td>\n",
       "      <td>8.166667</td>\n",
       "    </tr>\n",
       "    <tr>\n",
       "      <th>88</th>\n",
       "      <td>2</td>\n",
       "      <td>2021-01-01 04:52:02</td>\n",
       "      <td>2021-01-01 05:05:01</td>\n",
       "      <td>N</td>\n",
       "      <td>5.0</td>\n",
       "      <td>247</td>\n",
       "      <td>75</td>\n",
       "      <td>1.0</td>\n",
       "      <td>3.43</td>\n",
       "      <td>15.0</td>\n",
       "      <td>...</td>\n",
       "      <td>0.0</td>\n",
       "      <td>None</td>\n",
       "      <td>0.3</td>\n",
       "      <td>15.3</td>\n",
       "      <td>2.0</td>\n",
       "      <td>2.0</td>\n",
       "      <td>0.0</td>\n",
       "      <td>0 days 00:12:59</td>\n",
       "      <td>12.983333</td>\n",
       "      <td>12.983333</td>\n",
       "    </tr>\n",
       "    <tr>\n",
       "      <th>96</th>\n",
       "      <td>2</td>\n",
       "      <td>2021-01-01 05:52:43</td>\n",
       "      <td>2021-01-01 05:58:02</td>\n",
       "      <td>N</td>\n",
       "      <td>5.0</td>\n",
       "      <td>7</td>\n",
       "      <td>7</td>\n",
       "      <td>1.0</td>\n",
       "      <td>0.65</td>\n",
       "      <td>50.0</td>\n",
       "      <td>...</td>\n",
       "      <td>0.0</td>\n",
       "      <td>None</td>\n",
       "      <td>0.3</td>\n",
       "      <td>57.3</td>\n",
       "      <td>1.0</td>\n",
       "      <td>2.0</td>\n",
       "      <td>0.0</td>\n",
       "      <td>0 days 00:05:19</td>\n",
       "      <td>5.316667</td>\n",
       "      <td>5.316667</td>\n",
       "    </tr>\n",
       "  </tbody>\n",
       "</table>\n",
       "<p>5 rows × 23 columns</p>\n",
       "</div>"
      ],
      "text/plain": [
       "    VendorID lpep_pickup_datetime lpep_dropoff_datetime store_and_fwd_flag  \\\n",
       "30         2  2021-01-01 00:35:29   2021-01-01 00:55:15                  N   \n",
       "53         2  2021-01-01 01:54:51   2021-01-01 02:15:35                  N   \n",
       "69         2  2021-01-01 02:42:49   2021-01-01 02:50:59                  N   \n",
       "88         2  2021-01-01 04:52:02   2021-01-01 05:05:01                  N   \n",
       "96         2  2021-01-01 05:52:43   2021-01-01 05:58:02                  N   \n",
       "\n",
       "    RatecodeID  PULocationID  DOLocationID  passenger_count  trip_distance  \\\n",
       "30         5.0            74           247              1.0           3.64   \n",
       "53         5.0            74            94              1.0           5.82   \n",
       "69         5.0           136           241              1.0           0.57   \n",
       "88         5.0           247            75              1.0           3.43   \n",
       "96         5.0             7             7              1.0           0.65   \n",
       "\n",
       "    fare_amount  ...  tolls_amount  ehail_fee  improvement_surcharge  \\\n",
       "30         13.0  ...           0.0       None                    0.3   \n",
       "53         18.0  ...           0.0       None                    0.3   \n",
       "69          9.0  ...           0.0       None                    0.3   \n",
       "88         15.0  ...           0.0       None                    0.3   \n",
       "96         50.0  ...           0.0       None                    0.3   \n",
       "\n",
       "    total_amount payment_type  trip_type  congestion_surcharge  \\\n",
       "30          13.3          2.0        2.0                   0.0   \n",
       "53          18.3          2.0        2.0                   0.0   \n",
       "69           9.3          2.0        2.0                   0.0   \n",
       "88          15.3          2.0        2.0                   0.0   \n",
       "96          57.3          1.0        2.0                   0.0   \n",
       "\n",
       "          duration  duration_mins  duration (min)  \n",
       "30 0 days 00:19:46      19.766667       19.766667  \n",
       "53 0 days 00:20:44      20.733333       20.733333  \n",
       "69 0 days 00:08:10       8.166667        8.166667  \n",
       "88 0 days 00:12:59      12.983333       12.983333  \n",
       "96 0 days 00:05:19       5.316667        5.316667  \n",
       "\n",
       "[5 rows x 23 columns]"
      ]
     },
     "execution_count": 49,
     "metadata": {},
     "output_type": "execute_result"
    }
   ],
   "source": [
    "df = df[(df['duration (min)'] >= 1) & (df['duration (min)'] <= 60)]\n",
    "df.head()"
   ]
  },
  {
   "cell_type": "code",
   "execution_count": 50,
   "id": "7a187a64-1f32-44ea-ad06-f3b0bdac5233",
   "metadata": {},
   "outputs": [
    {
     "data": {
      "image/png": "[encoded data removed]",
      "text/plain": [
       "<Figure size 640x480 with 1 Axes>"
      ]
     },
     "metadata": {},
     "output_type": "display_data"
    }
   ],
   "source": [
    "sns.histplot(df['duration (min)'].values)\n",
    "plt.xlabel(\"duration (min)\");"
   ]
  },
  {
   "cell_type": "code",
   "execution_count": null,
   "id": "80becbf7-848b-40e6-a334-116e6c6c3025",
   "metadata": {},
   "outputs": [],
   "source": [
    "### Feature encoding\n",
    "For the first iteration of the model, we choose only a few variables. In particular, we exclude datetime features which can be relevant. Is it a weekend,\n",
    "### or a holiday? From experience, we know that these factors can have a large effect on ride duration. But for a first iteration, we only choose the \n",
    "### following three features:\n",
    "\n",
    "# categorical = ['PULocationID', 'DOLocationID']\n",
    "# numerical = ['trip_distance']\n",
    "\n",
    "# # Convert to string, sklearn requirement\n",
    "# df[categorical] = df[categorical].astype(str)\n",
    "\n",
    "### According to OK Transform as in here # https://particle1331.github.io/ok-transformer/nb/mlops/01-intro.html\n",
    "\n",
    "# To encode categorical features, we use DictVectorizer. This performs one-hot encoding of categorical features while the numerical features are \n",
    "# simply passed. Consider a dataset with categorical features f1 with unique values [a, b, c] and f2 with unique values [d, e], and a numerical \n",
    "# feature t. The transformed dataset gets features [f1=a, f1=b, f1=c, f2=d, f2=e, t]. For example, {f1: a, f2: e, t: 1.3} is transformed to\n",
    "# [1, 0, 0, 0, 1, 1.3]. One nice thing about this is that this will not fail with new categories (i.e. these are simply mapped to all zeros)."
   ]
  },
  {
   "cell_type": "code",
   "execution_count": null,
   "id": "038b5eb4-aeb2-408f-8af3-5b25fed43126",
   "metadata": {},
   "outputs": [],
   "source": []
  },
  {
   "cell_type": "code",
   "execution_count": 85,
   "id": "c366cfe6-a086-4fa0-8fd7-3f2d147af083",
   "metadata": {},
   "outputs": [
    {
     "data": {
      "text/plain": [
       "<73908x507 sparse matrix of type '<class 'numpy.float64'>'\n",
       "\twith 221724 stored elements in Compressed Sparse Row format>"
      ]
     },
     "execution_count": 85,
     "metadata": {},
     "output_type": "execute_result"
    }
   ],
   "source": [
    "# Let’s also convert the PULocationID, DOLocationID columns from int64 to strings :\n",
    "\n",
    "categorical = ['PULocationID', 'DOLocationID']\n",
    "numerical = ['trip_distance']\n",
    "\n",
    "df[categorical] = df[categorical].astype(str)  ## # Convert to string as it is required in string format for sklearn requirement\n",
    "\n",
    "train_dicts = df[categorical + numerical].to_dict(orient='records')\n",
    "\n",
    "dv = DictVectorizer()\n",
    "dv.fit_transform(train_dicts)"
   ]
  },
  {
   "cell_type": "code",
   "execution_count": 86,
   "id": "23baef73-4034-4c5f-b901-1d6f3c50b25b",
   "metadata": {},
   "outputs": [
    {
     "data": {
      "text/plain": [
       "True"
      ]
     },
     "execution_count": 86,
     "metadata": {},
     "output_type": "execute_result"
    }
   ],
   "source": [
    "dv.fit_transform(train_dicts).todense().shape[1] == df.PULocationID.nunique() + df.DOLocationID.nunique() + 1"
   ]
  },
  {
   "cell_type": "code",
   "execution_count": 87,
   "id": "0e8d56ed-20a6-48a9-85f1-8371a4e716a5",
   "metadata": {},
   "outputs": [
    {
     "data": {
      "text/plain": [
       "[{'PULocationID': '43', 'DOLocationID': '151', 'trip_distance': 1.01},\n",
       " {'PULocationID': '166', 'DOLocationID': '239', 'trip_distance': 2.53},\n",
       " {'PULocationID': '41', 'DOLocationID': '42', 'trip_distance': 1.12}]"
      ]
     },
     "execution_count": 87,
     "metadata": {},
     "output_type": "execute_result"
    }
   ],
   "source": [
    "train_dicts[:3]"
   ]
  },
  {
   "cell_type": "code",
   "execution_count": 88,
   "id": "9b5f531a-0eeb-4e7c-bc68-ec93c499713e",
   "metadata": {},
   "outputs": [
    {
     "data": {
      "text/plain": [
       "matrix([[0.  , 0.  , 0.  , ..., 0.  , 0.  , 1.01],\n",
       "        [0.  , 0.  , 0.  , ..., 0.  , 0.  , 2.53],\n",
       "        [0.  , 0.  , 0.  , ..., 0.  , 0.  , 1.12]])"
      ]
     },
     "execution_count": 88,
     "metadata": {},
     "output_type": "execute_result"
    }
   ],
   "source": [
    "dv.transform(train_dicts[:3]).todense()"
   ]
  },
  {
   "cell_type": "code",
   "execution_count": 90,
   "id": "5b1ea8e8-8249-48ee-95bb-f149eb401805",
   "metadata": {},
   "outputs": [],
   "source": [
    "### Baseline model\n",
    "\n",
    "# In this section, we will train a linear regression model. Note that the validation set consists of data one month after the training set. \n",
    "# We will define a sequence of transformations that will be applied to the dataset to get the model features. Note that the model is trained and \n",
    "# evaluated only on rides that fall between 1 to 60 minutes.\n",
    "\n",
    "def filter_ride_duration(df):\n",
    "    # Create target column and filter outliers\n",
    "    df['duration (min)'] = df.lpep_dropoff_datetime - df.lpep_pickup_datetime   # seconds\n",
    "    df['duration (min)'] = df['duration (min)'].dt.total_seconds() / 60\n",
    "    return df[(df['duration (min)'] >= 1) & (df['duration (min)'] <= 60)]\n",
    "\n",
    "def convert_to_dict(df, features):\n",
    "    # Convert dataframe to feature dicts\n",
    "    return df[features].to_dict(orient='records')\n",
    "\n",
    "def preprocess(df, cat, num):\n",
    "    df = filter_ride_duration(df)\n",
    "    df[cat] = df[cat].astype(str)\n",
    "    df[num] = df[num].astype(float)\n",
    "    return df\n",
    "\n",
    "### Note that the above preprocessing steps apply to all datasets (i.e. no concern of data leak). In the following, observe that the vectorizer only sees \n",
    "# the training data:"
   ]
  },
  {
   "cell_type": "code",
   "execution_count": 101,
   "id": "c6381f91-0872-4c88-8645-676e671bfd06",
   "metadata": {},
   "outputs": [
    {
     "data": {
      "text/plain": [
       "(73908, 21)"
      ]
     },
     "execution_count": 101,
     "metadata": {},
     "output_type": "execute_result"
    }
   ],
   "source": [
    "df.shape"
   ]
  },
  {
   "cell_type": "code",
   "execution_count": 91,
   "id": "c7c25a5d-4c73-486b-9d01-8601cd572581",
   "metadata": {},
   "outputs": [
    {
     "name": "stderr",
     "output_type": "stream",
     "text": [
      "/tmp/ipykernel_2457/961437744.py:19: SettingWithCopyWarning: \n",
      "A value is trying to be set on a copy of a slice from a DataFrame.\n",
      "Try using .loc[row_indexer,col_indexer] = value instead\n",
      "\n",
      "See the caveats in the documentation: https://pandas.pydata.org/pandas-docs/stable/user_guide/indexing.html#returning-a-view-versus-a-copy\n",
      "  df[cat] = df[cat].astype(str)\n",
      "/tmp/ipykernel_2457/961437744.py:20: SettingWithCopyWarning: \n",
      "A value is trying to be set on a copy of a slice from a DataFrame.\n",
      "Try using .loc[row_indexer,col_indexer] = value instead\n",
      "\n",
      "See the caveats in the documentation: https://pandas.pydata.org/pandas-docs/stable/user_guide/indexing.html#returning-a-view-versus-a-copy\n",
      "  df[num] = df[num].astype(float)\n",
      "/tmp/ipykernel_2457/961437744.py:19: SettingWithCopyWarning: \n",
      "A value is trying to be set on a copy of a slice from a DataFrame.\n",
      "Try using .loc[row_indexer,col_indexer] = value instead\n",
      "\n",
      "See the caveats in the documentation: https://pandas.pydata.org/pandas-docs/stable/user_guide/indexing.html#returning-a-view-versus-a-copy\n",
      "  df[cat] = df[cat].astype(str)\n",
      "/tmp/ipykernel_2457/961437744.py:20: SettingWithCopyWarning: \n",
      "A value is trying to be set on a copy of a slice from a DataFrame.\n",
      "Try using .loc[row_indexer,col_indexer] = value instead\n",
      "\n",
      "See the caveats in the documentation: https://pandas.pydata.org/pandas-docs/stable/user_guide/indexing.html#returning-a-view-versus-a-copy\n",
      "  df[num] = df[num].astype(float)\n"
     ]
    }
   ],
   "source": [
    "### In the following, observe that the vectorizer only sees the training data:\n",
    "\n",
    "\n",
    "# Load data\n",
    "df_train = pd.read_parquet('./data/green_tripdata_2021-01.parquet')\n",
    "df_valid = pd.read_parquet('./data/green_tripdata_2021-02.parquet')\n",
    "\n",
    "# Preprocessing\n",
    "cat = ['PULocationID', 'DOLocationID']\n",
    "num = ['trip_distance']\n",
    "\n",
    "df_train = preprocess(df_train, cat=cat, num=num)\n",
    "df_valid = preprocess(df_valid, cat=cat, num=num)\n",
    "\n",
    "# Preparing features\n",
    "features = ['PULocationID', 'DOLocationID', 'trip_distance']\n",
    "D_train = convert_to_dict(df_train, features=features)\n",
    "D_valid = convert_to_dict(df_valid, features=features)\n",
    "y_train = df_train['duration (min)']\n",
    "y_valid = df_valid['duration (min)']\n",
    "\n",
    "# Fit all known categories\n",
    "dv = DictVectorizer()\n",
    "dv.fit(D_train)\n",
    "X_train = dv.transform(D_train)\n",
    "X_valid = dv.transform(D_valid)\n",
    "\n"
   ]
  },
  {
   "cell_type": "code",
   "execution_count": 92,
   "id": "33930be4-348c-49ab-96e1-1bbc1cadbefc",
   "metadata": {},
   "outputs": [
    {
     "data": {
      "image/png": "[encoded data removed]",
      "text/plain": [
       "<Figure size 800x400 with 2 Axes>"
      ]
     },
     "metadata": {},
     "output_type": "display_data"
    }
   ],
   "source": [
    "### Training a linear model:\n",
    "\n",
    "def plot_duration_histograms(y_train, p_train, y_valid, p_valid):\n",
    "    \"\"\"Plot true and prediction distributions of ride duration.\"\"\"\n",
    "    \n",
    "    fig, ax = plt.subplots(1, 2, figsize=(8, 4))\n",
    "\n",
    "    sns.histplot(p_train, ax=ax[0], label='pred', color='C0', stat='density', kde=True)\n",
    "    sns.histplot(y_train, ax=ax[0], label='true', color='C1', stat='density', kde=True)\n",
    "    ax[0].set_title(\"Train\")\n",
    "    ax[0].legend()\n",
    "\n",
    "    sns.histplot(p_valid, ax=ax[1], label='pred', color='C0', stat='density', kde=True)\n",
    "    sns.histplot(y_valid, ax=ax[1], label='true', color='C1', stat='density', kde=True)\n",
    "    ax[1].set_title(\"Valid\")\n",
    "    ax[1].legend()\n",
    "\n",
    "    fig.tight_layout();\n",
    "\n",
    "\n",
    "lr = LinearRegression()\n",
    "lr.fit(X_train, y_train)\n",
    "\n",
    "p_train = lr.predict(X_train)\n",
    "p_valid = lr.predict(X_valid)\n",
    "plot_duration_histograms(y_train, p_train, y_valid, p_valid)"
   ]
  },
  {
   "cell_type": "code",
   "execution_count": 94,
   "id": "7da2580f-053d-4640-915a-fe1af01cc41c",
   "metadata": {},
   "outputs": [
    {
     "name": "stdout",
     "output_type": "stream",
     "text": [
      "RMSE (train): 96.80198150225021\n",
      "RMSE (valid): 110.23132573784106\n"
     ]
    }
   ],
   "source": [
    "print(\"RMSE (train):\", mean_squared_error(y_train, lr.predict(X_train)))\n",
    "print(\"RMSE (valid):\", mean_squared_error(y_valid, lr.predict(X_valid)))"
   ]
  },
  {
   "cell_type": "code",
   "execution_count": 95,
   "id": "c4b62b0f-a369-427c-8c1b-46502f9fe1a3",
   "metadata": {},
   "outputs": [
    {
     "name": "stderr",
     "output_type": "stream",
     "text": [
      "/tmp/ipykernel_2457/961437744.py:19: SettingWithCopyWarning: \n",
      "A value is trying to be set on a copy of a slice from a DataFrame.\n",
      "Try using .loc[row_indexer,col_indexer] = value instead\n",
      "\n",
      "See the caveats in the documentation: https://pandas.pydata.org/pandas-docs/stable/user_guide/indexing.html#returning-a-view-versus-a-copy\n",
      "  df[cat] = df[cat].astype(str)\n",
      "/tmp/ipykernel_2457/961437744.py:20: SettingWithCopyWarning: \n",
      "A value is trying to be set on a copy of a slice from a DataFrame.\n",
      "Try using .loc[row_indexer,col_indexer] = value instead\n",
      "\n",
      "See the caveats in the documentation: https://pandas.pydata.org/pandas-docs/stable/user_guide/indexing.html#returning-a-view-versus-a-copy\n",
      "  df[num] = df[num].astype(float)\n",
      "/tmp/ipykernel_2457/961437744.py:19: SettingWithCopyWarning: \n",
      "A value is trying to be set on a copy of a slice from a DataFrame.\n",
      "Try using .loc[row_indexer,col_indexer] = value instead\n",
      "\n",
      "See the caveats in the documentation: https://pandas.pydata.org/pandas-docs/stable/user_guide/indexing.html#returning-a-view-versus-a-copy\n",
      "  df[cat] = df[cat].astype(str)\n",
      "/tmp/ipykernel_2457/961437744.py:20: SettingWithCopyWarning: \n",
      "A value is trying to be set on a copy of a slice from a DataFrame.\n",
      "Try using .loc[row_indexer,col_indexer] = value instead\n",
      "\n",
      "See the caveats in the documentation: https://pandas.pydata.org/pandas-docs/stable/user_guide/indexing.html#returning-a-view-versus-a-copy\n",
      "  df[num] = df[num].astype(float)\n"
     ]
    }
   ],
   "source": [
    "### Using interaction features\n",
    "# Instead of learning separate weights for the pickup and drop off locations, we consider learning weights for combinations of pickup and drop off \n",
    "# locations. Note we can also add pick up point as additional feature since we know from experience that directionality can be important.\n",
    "\n",
    "\n",
    "def add_location_interaction(df):\n",
    "    df['PU_DO'] = df['PULocationID'] + '_' + df['DOLocationID']\n",
    "    return df\n",
    "\n",
    "# Load data\n",
    "df_train = pd.read_parquet('./data/green_tripdata_2021-01.parquet')\n",
    "df_valid = pd.read_parquet('./data/green_tripdata_2021-02.parquet')\n",
    "\n",
    "# Preprocessing\n",
    "cat = ['PULocationID', 'DOLocationID']\n",
    "num = ['trip_distance']\n",
    "df_train = preprocess(df_train, cat=cat, num=num)\n",
    "df_valid = preprocess(df_valid, cat=cat, num=num)\n",
    "\n",
    "# Preparing features\n",
    "df_train = add_location_interaction(df_train)\n",
    "df_valid = add_location_interaction(df_valid)\n",
    "\n",
    "features = ['PU_DO', 'trip_distance']\n",
    "D_train = convert_to_dict(df_train, features=features)\n",
    "D_valid = convert_to_dict(df_valid, features=features)\n",
    "y_train = df_train['duration (min)']\n",
    "y_valid = df_valid['duration (min)']\n",
    "\n",
    "# Fit all known categories\n",
    "dv = DictVectorizer()\n",
    "dv.fit(D_train)\n",
    "X_train = dv.transform(D_train)\n",
    "X_valid = dv.transform(D_valid)"
   ]
  },
  {
   "cell_type": "code",
   "execution_count": 96,
   "id": "ad673bd7-89bb-474a-8895-000748d2985c",
   "metadata": {},
   "outputs": [
    {
     "data": {
      "image/png": "[encoded data removed]",
      "text/plain": [
       "<Figure size 800x400 with 2 Axes>"
      ]
     },
     "metadata": {},
     "output_type": "display_data"
    }
   ],
   "source": [
    "### Using the same model:\n",
    "\n",
    "lr = LinearRegression()\n",
    "lr.fit(X_train, y_train)\n",
    "\n",
    "p_train = lr.predict(X_train)\n",
    "p_valid = lr.predict(X_valid)\n",
    "plot_duration_histograms(y_train, p_train, y_valid, p_valid)"
   ]
  },
  {
   "cell_type": "code",
   "execution_count": 98,
   "id": "9926a487-993e-4b22-9a5b-2b59d882c2a4",
   "metadata": {},
   "outputs": [
    {
     "name": "stdout",
     "output_type": "stream",
     "text": [
      "RMSE (train): 32.4850311374611\n",
      "RMSE (valid): 60.19766164981667\n"
     ]
    }
   ],
   "source": [
    "print(\"RMSE (train):\", mean_squared_error(y_train, lr.predict(X_train)))\n",
    "print(\"RMSE (valid):\", mean_squared_error(y_valid, lr.predict(X_valid)))"
   ]
  },
  {
   "cell_type": "code",
   "execution_count": null,
   "id": "cb623949-76e8-42db-aa90-ca4279ce7aae",
   "metadata": {},
   "outputs": [],
   "source": [
    "### Persisting the model\n",
    "\n",
    "with open('models/lin_reg.bin', 'wb') as fout:\n",
    "    pickle.dump((dv, lr), fout)"
   ]
  },
  {
   "cell_type": "code",
   "execution_count": 100,
   "id": "0b27e657-ab9e-4ea6-9f8b-f46954f7b5b0",
   "metadata": {},
   "outputs": [
    {
     "name": "stdout",
     "output_type": "stream",
     "text": [
      "Dimensionality: (73908, 13221)\n"
     ]
    }
   ],
   "source": [
    "# Print the dimensionality of the feature matrix\n",
    "dimensionality = X_train.shape\n",
    "print(\"Dimensionality:\", dimensionality)"
   ]
  },
  {
   "cell_type": "code",
   "execution_count": null,
   "id": "fd18c873-89b4-4c8e-8ca8-62574e6d755c",
   "metadata": {},
   "outputs": [],
   "source": [
    "### So our feature matrix has 73908 rows and 13221 columns (originally (76518, 22) prior to one hot encoding and \n",
    "# before removing outlier above 1 & 60min (73908, 21)).\n",
    "\n",
    "# Note: rows remianed the same for all?? Is this true??"
   ]
  },
  {
   "cell_type": "code",
   "execution_count": null,
   "id": "c137123b-0c65-4557-94a1-161eb854754f",
   "metadata": {},
   "outputs": [],
   "source": []
  },
  {
   "cell_type": "markdown",
   "id": "c89b0807-6312-4d98-94ed-83e3db11e97a",
   "metadata": {},
   "source": [
    "### Stephen from ZoomCamp : https://stephen137.github.io/posts/MLOps_Zoomcamp_Week_1/MLOps_Zoomcamp_Week_1.html"
   ]
  },
  {
   "cell_type": "code",
   "execution_count": 103,
   "id": "a884d2f4-2670-4654-8c28-a563642cdb0e",
   "metadata": {},
   "outputs": [],
   "source": [
    "# Customized pre-processing function\n",
    "# We have carried out a lot of steps to get our data fit for training. We could automate this by creating a customized function :\n",
    "\n",
    "\n",
    "def read_dataframe(filename):\n",
    "    if filename.endswith('.csv'):\n",
    "        df = pd.read_csv(filename)\n",
    "\n",
    "        df.tpep_dropoff_datetime = pd.to_datetime(df.tpep_dropoff_datetime)\n",
    "        df.tpep_pickup_datetime = pd.to_datetime(df.tpep_pickup_datetime)\n",
    "    elif filename.endswith('.parquet'):\n",
    "        df = pd.read_parquet(filename)\n",
    "\n",
    "    df['duration'] = df.tpep_dropoff_datetime - df.tpep_pickup_datetime\n",
    "    df.duration = df.duration.apply(lambda td: td.total_seconds() / 60)\n",
    "\n",
    "    df = df[(df.duration >= 1) & (df.duration <= 60)]\n",
    "\n",
    "    categorical = ['PULocationID', 'DOLocationID']\n",
    "    df[categorical] = df[categorical].astype(str)\n",
    "    \n",
    "    return df\n",
    "    "
   ]
  },
  {
   "cell_type": "code",
   "execution_count": null,
   "id": "c27e285b-df6c-4542-beea-44c3c1701d6c",
   "metadata": {},
   "outputs": [],
   "source": []
  },
  {
   "cell_type": "code",
   "execution_count": null,
   "id": "dcca9623-aa63-4422-b19d-215049809b68",
   "metadata": {},
   "outputs": [],
   "source": [
    "# Training a model\n",
    "# Let’s now let’s use the feature matrix from the previous step to train a Linear Regression model :\n",
    "\n",
    "------------------------------------------------------------------------------\n",
    "# turn the categorical columns into a list of dictionaries e.g.\n",
    "# list_of_dicts = yellow_jan_22[categorical].to_dict(orient='records')\n",
    "\n",
    "# Convert categorical columns to a dictionary\n",
    "train_dicts = yellow_jan_22[categorical].to_dict(orient='records')\n",
    "\n",
    "# Instantiate a dictionary vectorizer\n",
    "dv = DictVectorizer()\n",
    "\n",
    "-----------------------------------------------------------------------------\n",
    "# Fit the vectorizer and transform the data into a feature matrix e.g.\n",
    "# fm = dv.fit_transform(list_of_dicts)\n",
    "\n",
    "# Convert the feature matrix to an array\n",
    "fm_array = fm.toarray()\n",
    "-----------------------------------------------------------------------------\n",
    "# Print the dimensionality of the feature matrix\n",
    "dimensionality = fm_array.shape\n",
    "print(\"Dimensionality:\", dimensionality)\n",
    "\n",
    "\n",
    "# Set up trainign set\n",
    "X_train = dv.fit_transform(train_dicts)\n",
    "\n",
    "\n",
    "# define target variable and assign to y_train\n",
    "target = 'duration'\n",
    "y_train = yellow_jan_22[target].values\n",
    "\n",
    "\n",
    "# instantiate linear regression model with default parameters\n",
    "lr = LinearRegression()\n",
    "\n",
    "# fit model to training data\n",
    "lr.fit(X_train, y_train)\n",
    "\n",
    "\n",
    "### Get predictions\n",
    "# Once the model is trained, it can be used to make predictions by plugging in new values for the independent variables. The model assumes that the \n",
    "# relationship between the variables remains linear and that the underlying assumptions, such as linearity, independence, and homoscedasticity, hold true.\n",
    "\n",
    "# get predictions\n",
    "y_pred = lr.predict(X_train)\n",
    "\n",
    "\n",
    "### Loss function - RMSE\n",
    "# The process of building a linear regression model involves estimating the coefficients that minimize a chosen error metric, such as the mean squared \n",
    "# error (MSE). This is typically done using a technique called ordinary least squares (OLS), which finds the coefficients that minimize the sum of squared\n",
    "# differences between the predicted and actual values.\n",
    "\n",
    "#The RMSE is the square root of the mean squared error (MSE).\n",
    "# calculate RMSE\n",
    "mean_squared_error(y_train, y_pred, squared=False) # squared = False so this is root MSE (RMSE)"
   ]
  },
  {
   "cell_type": "markdown",
   "id": "fe7cf144-5ee3-459c-afd2-0ee7b1445b9b",
   "metadata": {},
   "source": [
    "Linear Regression\n",
    "A linear regression model is a statistical approach used to model the relationship between a dependent variable and one or more independent variables. It assumes a linear relationship between the variables and aims to find the best-fitting line that minimizes the differences between the predicted and actual values.\n",
    "\n",
    "The model assumes that the dependent variable can be expressed as a linear combination of the independent variables, where each independent variable is multiplied by a coefficient and summed together with an intercept term. The coefficients represent the effect of each independent variable on the dependent variable, and the intercept term represents the expected value of the dependent variable when all independent variables are zero.\n",
    "\n",
    "Linear regression models are widely used for various purposes, such as predicting sales based on advertising expenditure, analyzing the impact of independent variables on a dependent variable, and making forecasts.\n",
    "\n",
    "In our case we are going to used linear regression to predict the duration of taxi rides."
   ]
  },
  {
   "cell_type": "code",
   "execution_count": null,
   "id": "266eb27e-3c6a-4ccb-adc7-9b622b60733d",
   "metadata": {},
   "outputs": [],
   "source": [
    "### Evaluating our model - validation set\n",
    "\n",
    "# Let’s evaluate our model on the unseen Yellow Taxi February 2022 dataset that we downloaded earlier :\n",
    "\n",
    "# read in the validation set\n",
    "yellow_feb_22 = pd.read_parquet('yellow_tripdata_2022-02.parquet')\n",
    "\n",
    "# create a new column 'duration' in minutes\n",
    "yellow_feb_22['duration'] = yellow_feb_22.tpep_dropoff_datetime - yellow_feb_22.tpep_pickup_datetime\n",
    "# convert duration to seconds\n",
    "yellow_feb_22.duration = yellow_feb_22.duration.apply(lambda td: td.total_seconds()/60)\n",
    "\n",
    "# define categorical and numerical columns\n",
    "categorical = ['PULocationID', 'DOLocationID']\n",
    "numerical = ['trip_distance']\n",
    "\n",
    "# convert categorical columns to strings\n",
    "yellow_feb_22[categorical] = yellow_feb_22[categorical].astype(str)\n",
    "\n",
    "# remove outliers by clipping duration between 1 and 60 mins\n",
    "yellow_feb_22 = yellow_feb_22[(yellow_feb_22.duration >= 1) & (yellow_feb_22.duration <= 60)]\n",
    "\n",
    "# Instantiate a dictionary vectorizer\n",
    "dv = DictVectorizer()\n",
    "\n",
    "# reinstate our training set\n",
    "train_dicts = yellow_jan_22[categorical].to_dict(orient='records')\n",
    "X_train = dv.fit_transform(train_dicts)\n",
    "\n",
    "# turn the categorical columns into a list of dictionaries\n",
    "val_dicts = yellow_feb_22[categorical].to_dict(orient='records')\n",
    "X_val = dv.transform(val_dicts)\n",
    "\n",
    "# define target variable and assign to y_val\n",
    "target = 'duration'\n",
    "y_train = yellow_jan_22[target].values\n",
    "y_val = yellow_feb_22[target].values\n",
    "\n",
    "# instantiate & fit our model to the TRAINING set\n",
    "lr = LinearRegression()\n",
    "lr.fit(X_train,y_train)\n",
    "\n",
    "# Get predictions for the VALIDATION set\n",
    "y_pred = lr.predict(X_val)\n",
    "\n",
    "# calculate RMSE\n",
    "mean_squared_error(y_val, y_pred, squared=False) # squared = False so this is root MSE (RMSE\n",
    "\n",
    "# Visualization\n",
    "# We can visualize our predictions versus actuals using the Seaborn library :\n",
    "\n",
    "sns.distplot(y_pred, label='prediction')\n",
    "sns.distplot(y_train, label='actual')\n",
    "\n",
    "plt.legend()"
   ]
  },
  {
   "cell_type": "markdown",
   "id": "e6e1d7b7-7001-4139-a1d9-b561cf46891b",
   "metadata": {},
   "source": [
    "# Other models\n",
    "# Least Absolute Shrinkage and Selection Operator(Lasso)\n",
    "\n",
    "Lasso regularization adds the absolute value of the coefficients multiplied by a constant, called the regularization parameter or alpha, to the loss function. The main characteristic of Lasso is that it can shrink coefficients all the way to zero, effectively performing feature selection by eliminating irrelevant or less important features. This property makes Lasso useful when dealing with high-dimensional datasets or when trying to identify the most significant predictors.\n",
    "\n",
    "Lasso tends to perform well when there are many irrelevant features or a need for feature selection. However, it can struggle with highly correlated features or situations where there are more predictors than observations."
   ]
  },
  {
   "cell_type": "code",
   "execution_count": null,
   "id": "3851a09c-d268-408b-9da6-a37e0020fab8",
   "metadata": {},
   "outputs": [],
   "source": [
    "lr = Las\n",
    "so() # default parameters\n",
    "lr.fit(X_train, y_train)\n",
    "\n",
    "y_pred - lr.predict(X_val)\n",
    "\n",
    "mean_squared_error(y_val, y_pred, squared=False)\n",
    "\n",
    "\n",
    "lr = Lasso(alpha=0.01) # try using different values for alpha - this controls the speed of gradient descent\n",
    "lr.fit(X_train, y_train)\n",
    "\n",
    "y_pred - lr.predict(X_val)\n",
    "\n",
    "mean_squared_error(y_val, y_pred, squared=False)\n"
   ]
  },
  {
   "cell_type": "markdown",
   "id": "4f2ead3d-a2b8-449c-846e-d1f9f279d36e",
   "metadata": {},
   "source": [
    "### Ridge (Tikhonov regularization or L2 regularization)\n",
    "\n",
    "Ridge regularization adds the squared value of the coefficients multiplied by the regularization parameter to the loss function. Unlike Lasso, Ridge does not eliminate coefficients entirely but shrinks them towards zero without reaching zero. This leads to a reduction in the magnitude of the coefficients, effectively reducing model complexity. Ridge regularization is particularly useful when dealing with multicollinearity, a situation where predictor variables are highly correlated.\n",
    "\n",
    "The choice between Lasso and Ridge regularization depends on the specific characteristics of the dataset and the goals of the analysis. In practice, it’s common to try both techniques and select the one that yields the best results or combine them in a hybrid approach called Elastic Net regularization."
   ]
  },
  {
   "cell_type": "code",
   "execution_count": null,
   "id": "866ee0a3-ef22-4920-bb81-07109be11d5c",
   "metadata": {},
   "outputs": [],
   "source": [
    "lr = Ridge(alpha=0.01) # try using different values for alpha - this controls the speed of gradient descent\n",
    "lr.fit(X_train, y_train)\n",
    "\n",
    "y_pred - lr.predict(X_val)\n",
    "\n",
    "mean_squared_error(y_val, y_pred, squared=False)"
   ]
  },
  {
   "cell_type": "markdown",
   "id": "eb8578d0-68fd-43ae-a5ae-6cf892743dab",
   "metadata": {},
   "source": [
    "Both the Lasso and Ridge models produce the same results as our standard Linear Regresssion model. This is hardly surprising as our model is only looking at two features, PULocationID and DOLocationID. Let’s include more features."
   ]
  },
  {
   "cell_type": "markdown",
   "id": "f60c28d1-9f0a-402f-8ac3-a2136929496f",
   "metadata": {},
   "source": [
    "### Feature engineering\n",
    "Feature engineering is the process of transforming raw data into meaningful and informative features that can be used by machine learning algorithms. It involves selecting, extracting, and manipulating data attributes to enhance the performance of a model. The goal is to create features that capture relevant patterns, relationships, and insights from the data, leading to better predictive power.\n",
    "\n",
    "Feature engineering techniques include handling missing values, scaling or normalizing numerical features, encoding categorical variables, creating new features through mathematical operations or domain knowledge, and reducing dimensionality through techniques like principal component analysis (PCA).\n",
    "\n",
    "Effective feature engineering can significantly impact the performance of machine learning models by improving their accuracy, robustness, and interpretability.\n",
    "\n",
    "Let’s try Linear Regression again with our categorical columns updated for this new feature:"
   ]
  },
  {
   "cell_type": "code",
   "execution_count": null,
   "id": "aea06f1b-a002-4e81-b6c3-5cb1cfb64dfe",
   "metadata": {},
   "outputs": [],
   "source": [
    "df_train = read_dataframe('yellow_tripdata_2022-01.parquet')\n",
    "df_val = read_dataframe('yellow_tripdata_2022-02.parquet')\n",
    "\n",
    "df_train['PU_DO'] = df_train['PULocationID'] + '_' + df_train['DOLocationID']\n",
    "df_val['PU_DO'] = df_val['PULocationID'] + '_' + df_val['DOLocationID']\n",
    "\n",
    "categorical = ['PU_DO'] #'PULocationID', 'DOLocationID']\n",
    "numerical = ['trip_distance']\n",
    "\n",
    "dv = DictVectorizer()\n",
    "\n",
    "train_dicts = df_train[categorical].to_dict(orient='records')\n",
    "X_train = dv.fit_transform(train_dicts)\n",
    "\n",
    "val_dicts = df_val[categorical].to_dict(orient='records')\n",
    "X_val = dv.transform(val_dicts)\n",
    "\n",
    "target = 'duration'\n",
    "y_train = df_train[target].values\n",
    "y_val = df_val[target].values\n",
    "\n",
    "lr = LinearRegression()\n",
    "lr.fit(X_train, y_train)\n",
    "\n",
    "y_pred = lr.predict(X_val)\n",
    "\n",
    "mean_squared_error(y_val, y_pred, squared=False)"
   ]
  },
  {
   "cell_type": "markdown",
   "id": "5ddbcec4-b6f2-45ef-b7df-61d7212d0669",
   "metadata": {},
   "source": [
    "***That is a significant improvement. The average prediction error is now down to 5.42 minutes, from 7.79.***"
   ]
  },
  {
   "cell_type": "markdown",
   "id": "95a3e21c-304f-4769-8cd7-c6ef133a17de",
   "metadata": {},
   "source": [
    "### Saving our model\n",
    "Pickling is a process in Python that allows you to serialize (convert into a byte stream) and store objects, such as machine learning models, in a file. This serialized object can be saved to disk and later loaded back into memory, allowing you to preserve the model’s state for future use.\n",
    "\n",
    "The pickle module in Python provides functions for pickling and unpickling objects. When you pickle a model, it saves the model’s parameters, internal state, and other necessary information required for its operation. This allows you to save trained models and use them later without needing to retrain them every time.\n",
    "\n",
    "Pickling a model is useful for various purposes, such as:\n",
    "\n",
    "Saving trained models: You can pickle your trained model and store it as a file. Later, you can load the model from the file and use it for making predictions without the need to retrain the model.\n",
    "\n",
    "Sharing models: Pickling enables you to share models with others, allowing them to use your trained model without requiring access to the original training data or retraining the model.\n",
    "\n",
    "Deploying models in production: You can pickle a trained model and load it into a production environment for making real-time predictions.\n",
    "\n",
    "# First, let’s create a new directory to store our model :\n",
    "!mkdir models\n",
    "\n",
    "\n"
   ]
  },
  {
   "cell_type": "code",
   "execution_count": null,
   "id": "3e7858ea-a883-4d8e-a41a-c00aeb3ec4bd",
   "metadata": {},
   "outputs": [],
   "source": [
    "# And save our model :\n",
    "\n",
    "with open('./models/lin_reg.bin', 'wb') as f_out: # wb means write binary mlops-zoomcamp/week_1/models\n",
    "    try:\n",
    "        # Pickle both the dictionary vectorizer and the linear regression model\n",
    "        pickle.dump((dv, lr), f_out)\n",
    "        print(\"Model successfully pickled.\")\n",
    "    except Exception as e:\n",
    "        print(\"Error occurred while pickling the model:\", str(e))\n",
    "\n",
    "Model successfully pickled."
   ]
  }
 ],
 "metadata": {
  "kernelspec": {
   "display_name": "Python 3 (ipykernel)",
   "language": "python",
   "name": "python3"
  },
  "language_info": {
   "codemirror_mode": {
    "name": "ipython",
    "version": 3
   },
   "file_extension": ".py",
   "mimetype": "text/x-python",
   "name": "python",
   "nbconvert_exporter": "python",
   "pygments_lexer": "ipython3",
   "version": "3.12.7"
  }
 },
 "nbformat": 4,
 "nbformat_minor": 5
}
