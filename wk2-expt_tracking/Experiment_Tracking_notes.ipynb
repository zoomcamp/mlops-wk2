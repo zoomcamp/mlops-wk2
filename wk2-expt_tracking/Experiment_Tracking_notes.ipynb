{
 "cells": [
  {
   "cell_type": "markdown",
   "metadata": {},
   "source": [
    "## Experiment Tracking Notes"
   ]
  },
  {
   "cell_type": "markdown",
   "metadata": {},
   "source": [
    "## Video 1: Introduction"
   ]
  },
  {
   "cell_type": "markdown",
   "metadata": {},
   "source": [
    "### Important concepts:\n",
    "1. ML Experiment: \n",
    "    - the whole process of building an ML model\n",
    "    - different from A/B testing\n",
    "2. Experiment run: \n",
    "    - each trial in an ML experiment\n",
    "    - each trial in the modeling (changes in architecture, hyperparameters)\n",
    "3. A run artifact:\n",
    "    - Any saved file associated to that experiment run\n",
    "4. Experiment metadata:\n",
    "    - All information related to the experiment run"
   ]
  },
  {
   "cell_type": "markdown",
   "metadata": {},
   "source": [
    "### What is **Experiment Tracking**?\n",
    "The process of **keeping track** of all the ***relevant information*** from an ML experiment, which includes:\n",
    "- Source code\n",
    "- Environment\n",
    "- Data (different versions)\n",
    "- Model (different architectures)\n",
    "- Hyperparameters\n",
    "- Metrics\n",
    "- ...\n",
    "\n",
    "A lot of time it is difficult to know ahead of time what metadata you'd need, but we usually include the standard information."
   ]
  },
  {
   "cell_type": "markdown",
   "metadata": {},
   "source": [
    "### Why is Experiment Tracking so important?\n",
    "1. Reproducibility\n",
    "2. Organization\n",
    "3. Optimization"
   ]
  },
  {
   "cell_type": "markdown",
   "metadata": {},
   "source": [
    "### Why not Spreadsheets?\n",
    "1. Error prone\n",
    "2. No standard format\n",
    "3. Visibility and Collaboration"
   ]
  },
  {
   "cell_type": "markdown",
   "metadata": {},
   "source": [
    "### MLflow\n",
    "\n",
    "\"An open source platform for the ML lifecycle\"\n",
    "\n",
    "- It's a simple Python package that can be installed with `pip`\n",
    "- Contains four main modules:\n",
    "    1. Tracking\n",
    "    2. Models\n",
    "    3. Model Registry\n",
    "    4. Projects (not part of the scope of this Zoomcamp)"
   ]
  },
  {
   "cell_type": "markdown",
   "metadata": {},
   "source": [
    "### Tracking experiments with MLflow\n",
    "The MLFlow Tracking module allows you to organize your experiments into runs and to keep track of:\n",
    "1. Parameters\n",
    "2. Metrics\n",
    "3. Metadata\n",
    "4. Artifacts\n",
    "5. Models\n",
    "\n",
    "MLflow also automatically logs extra information about the run:\n",
    "1. Source code\n",
    "2. Version of the code (git commit)\n",
    "3. Start and end time\n",
    "4. Author"
   ]
  },
  {
   "cell_type": "markdown",
   "metadata": {},
   "source": [
    "### MLflow in action"
   ]
  },
  {
   "cell_type": "markdown",
   "metadata": {},
   "source": [
    "To install MLflow:\n",
    "\n",
    "``` shell\n",
    "pip install mlflow\n",
    "```"
   ]
  },
  {
   "cell_type": "markdown",
   "metadata": {},
   "source": [
    "MLflow comes with a cli:\n",
    "\n",
    "```\n",
    "$ mlflow\n",
    "```\n",
    "\n",
    "\n",
    "```\n",
    "Usage: mlflow [OPTIONS] COMMAND [ARGS]...\n",
    "\n",
    "Options:\n",
    "  --version  Show the version and exit.\n",
    "  --help     Show this message and exit.\n",
    "\n",
    "Commands:\n",
    "  artifacts    Upload, list, and download artifacts from an MLflow...\n",
    "  azureml      Serve models on Azure ML.\n",
    "  db           Commands for managing an MLflow tracking database.\n",
    "  deployments  Deploy MLflow models to custom targets.\n",
    "  experiments  Manage experiments.\n",
    "  gc           Permanently delete runs in the `deleted` lifecycle stage.\n",
    "  models       Deploy MLflow models locally.\n",
    "  run          Run an MLflow project from the given URI.\n",
    "  runs         Manage runs.\n",
    "  sagemaker    Serve models on SageMaker.\n",
    "  server       Run the MLflow tracking server.\n",
    "  ui           Launch the MLflow tracking UI for local viewing of run...\n",
    "```"
   ]
  },
  {
   "cell_type": "markdown",
   "metadata": {},
   "source": [
    "Launching MLflow ui will launch a gunicorn server:\n",
    "\n",
    "```\n",
    "$ mlflow ui\n",
    "[2022-05-24 11:47:20 +****] [14391] [INFO] Starting gunicorn 20.1.0\n",
    "[2022-05-24 11:47:20 +****] [14391] [INFO] Listening at: http://127.0.0.1:5000 (14391)\n",
    "[2022-05-24 11:47:20 +****] [14391] [INFO] Using worker: sync\n",
    "[2022-05-24 11:47:20 +****] [14392] [INFO] Booting worker with pid: 14392\n",
    "```\n",
    "\n",
    "We then go to the browser to view the page http://127.0.0.1:5000"
   ]
  },
  {
   "cell_type": "markdown",
   "metadata": {},
   "source": [
    "![\"MLflow UI: Create New Experiment\"](./img/01_mlflow_UI_create_experiment.png)\n",
    "\n",
    "MLflow UI: Create New Experiment"
   ]
  },
  {
   "cell_type": "markdown",
   "metadata": {},
   "source": [
    "![](./img/02_mlflow_UI_exp_name.png)\n",
    "\n",
    "- Experiment Name - Name of the Experiment\n",
    "- Artifact Location - Location where you'd save the files for the experiment runs\n",
    "    - Could be pickle file, local folder etc\n",
    "    - Could even be an S3 Bucket"
   ]
  },
  {
   "cell_type": "markdown",
   "metadata": {},
   "source": [
    "![](./img/03_mlflow_UI_experiments.png)\n",
    "\n",
    "- Important features on the Experiments page"
   ]
  },
  {
   "cell_type": "markdown",
   "metadata": {},
   "source": [
    "![](./img/04_mlflow_UI_model_registry_error.png)\n",
    "\n",
    "The reason that we can't view the models registry is because we will need to have a backend database such as postgresql, mysql, sqlite, mssql"
   ]
  },
  {
   "cell_type": "markdown",
   "metadata": {},
   "source": [
    "## Video 2: Getting Started with MLflow\n",
    "- Prepare local env\n",
    "- Install MLflow client and configure a backend\n",
    "- Add MLflow to the existing notebook, log the predictions and view it on MLflow UI"
   ]
  },
  {
   "cell_type": "markdown",
   "metadata": {},
   "source": [
    "### Create the environment"
   ]
  },
  {
   "cell_type": "markdown",
   "metadata": {},
   "source": [
    "First, we should create a conda environment (we'll name it `exp-tracking-env`) so that we do not disrupt our system's installation:\n",
    "\n",
    "```\n",
    "conda create -n exp-tracking-env python=3.9\n",
    "```\n",
    "\n",
    "Then, we will activate the environment\n",
    "\n",
    "```\n",
    "conda activate exp-tracking-env\n",
    "```"
   ]
  },
  {
   "cell_type": "markdown",
   "metadata": {},
   "source": [
    "#### Install the required packages\n",
    "\n",
    "Cristian has already prepared the `requirements.txt` for this section:\n",
    "\n",
    "``` shell\n",
    "$ cat requirements.txt\n",
    "\n",
    "mlflow\n",
    "jupyter\n",
    "scikit-learn\n",
    "pandas\n",
    "seaborn\n",
    "hyperopt\n",
    "xgboost\n",
    "fastparquet\n",
    "```\n",
    "\n",
    "To install these packages, we will point `pip` to our `requirements.txt` within our newly-created conda environment:\n",
    "\n",
    "```\n",
    "(exp-tracking-env) $ pip install -r requirements.txt\n",
    "```"
   ]
  },
  {
   "cell_type": "markdown",
   "metadata": {},
   "source": [
    "### Starting MLflow with sqlite backend"
   ]
  },
  {
   "cell_type": "markdown",
   "metadata": {},
   "source": [
    "In the first video, we managed to start the MLflow UI by `mlflow ui`. However, MLflow does not automatically connect itself to the backend database server. Because of this, we were not able to access the model registry function in the UI (see Video 1: Introduction section)."
   ]
  },
  {
   "cell_type": "markdown",
   "metadata": {},
   "source": [
    "To start MLflow UI with the backend connected to an sqlite database, we have to use the following command (take note of the _triple_ front-slashes):\n",
    "\n",
    "`(exp-tracking-env) $ mlflow ui --backend-store-uri sqlite:///mlflow.db`\n",
    "\n",
    "What this command does is that it tells mlflow ui to connect to a backend sqlite database `sqlite:///mlflow.db `.\n",
    "\n",
    "So, as before, this command will spin up a gunicorn server:\n",
    "\n",
    "``` shell\n",
    "2022/05/25 08:21:53 INFO mlflow.store.db.utils: Creating initial MLflow database tables...\n",
    "2022/05/25 08:21:53 INFO mlflow.store.db.utils: Updating database tables\n",
    "INFO  [alembic.runtime.migration] Context impl SQLiteImpl.\n",
    "INFO  [alembic.runtime.migration] Will assume non-transactional DDL.\n",
    "INFO  [alembic.runtime.migration] Running upgrade  -> 451aebb31d03, add metric step\n",
    "INFO  [alembic.runtime.migration] Running upgrade 451aebb31d03 -> 90e64c465722, migrate user column to tags\n",
    "INFO  [alembic.runtime.migration] Running upgrade 90e64c465722 -> 181f10493468, allow nulls for metric values\n",
    "INFO  [alembic.runtime.migration] Running upgrade 181f10493468 -> df50e92ffc5e, Add Experiment Tags Table\n",
    "INFO  [alembic.runtime.migration] Running upgrade df50e92ffc5e -> 7ac759974ad8, Update run tags with larger limit\n",
    "INFO  [alembic.runtime.migration] Running upgrade 7ac759974ad8 -> 89d4b8295536, create latest metrics table\n",
    "INFO  [89d4b8295536_create_latest_metrics_table_py] Migration complete!\n",
    "INFO  [alembic.runtime.migration] Running upgrade 89d4b8295536 -> 2b4d017a5e9b, add model registry tables to db\n",
    "INFO  [2b4d017a5e9b_add_model_registry_tables_to_db_py] Adding registered_models and model_versions tables to database.\n",
    "INFO  [2b4d017a5e9b_add_model_registry_tables_to_db_py] Migration complete!\n",
    "INFO  [alembic.runtime.migration] Running upgrade 2b4d017a5e9b -> cfd24bdc0731, Update run status constraint with killed\n",
    "INFO  [alembic.runtime.migration] Running upgrade cfd24bdc0731 -> 0a8213491aaa, drop_duplicate_killed_constraint\n",
    "INFO  [alembic.runtime.migration] Running upgrade 0a8213491aaa -> 728d730b5ebd, add registered model tags table\n",
    "INFO  [alembic.runtime.migration] Running upgrade 728d730b5ebd -> 27a6a02d2cf1, add model version tags table\n",
    "INFO  [alembic.runtime.migration] Running upgrade 27a6a02d2cf1 -> 84291f40a231, add run_link to model_version\n",
    "INFO  [alembic.runtime.migration] Running upgrade 84291f40a231 -> a8c4a736bde6, allow nulls for run_id\n",
    "INFO  [alembic.runtime.migration] Running upgrade a8c4a736bde6 -> 39d1c3be5f05, add_is_nan_constraint_for_metrics_tables_if_necessary\n",
    "INFO  [alembic.runtime.migration] Running upgrade 39d1c3be5f05 -> c48cb773bb87, reset_default_value_for_is_nan_in_metrics_table_for_mysql\n",
    "INFO  [alembic.runtime.migration] Running upgrade c48cb773bb87 -> bd07f7e963c5, create index on run_uuid\n",
    "INFO  [alembic.runtime.migration] Context impl SQLiteImpl.\n",
    "INFO  [alembic.runtime.migration] Will assume non-transactional DDL.\n",
    "[2022-05-25 08:21:54 +0800] [19279] [INFO] Starting gunicorn 20.1.0\n",
    "[2022-05-25 08:21:54 +0800] [19279] [INFO] Listening at: http://127.0.0.1:5000 (19279)\n",
    "[2022-05-25 08:21:54 +0800] [19279] [INFO] Using worker: sync\n",
    "[2022-05-25 08:21:54 +0800] [19280] [INFO] Booting worker with pid: 19280\n",
    "```\n",
    "\n",
    "Just like in Video 1, we can access the UI on the browser via http://127.0.0.1:5000"
   ]
  },
  {
   "cell_type": "markdown",
   "metadata": {},
   "source": [
    "At this point, since we have just started this, we won't have any experiment runs yet.\n",
    "\n",
    "![](./img/05_mlflow_UI_empty.png)"
   ]
  },
  {
   "cell_type": "markdown",
   "metadata": {},
   "source": [
    "However, this time, we will be able to access the \"Models\" tab (Model Registry) with no error:\n",
    "![](./img/06_mlflow_UI_model_registry_noprob.png)"
   ]
  },
  {
   "cell_type": "markdown",
   "metadata": {},
   "source": [
    "### Add MLflow to Existing Notebook"
   ]
  },
  {
   "cell_type": "markdown",
   "metadata": {},
   "source": [
    "#### Copy Code from Module 1\n",
    "\n",
    "We can now bring in the code from Module 1 (either `duration-prediction.ipynb` or our homework solution) as well as the data\n",
    "\n",
    "In my case, I copied my version of the homework solution:\n",
    "\n",
    "<center>\n",
    "\n",
    "![](./img/07_copy_module1_to_folder.png)\n",
    "</center>\n"
   ]
  },
  {
   "cell_type": "markdown",
   "metadata": {},
   "source": [
    "We also need to create a `models` folder, where we will save all the model artifacts, otherwise we will see an error.\n",
    "\n",
    "<center>\n",
    "\n",
    "![](./img/08_create_models_folder.png)\n",
    "\n",
    "</center>"
   ]
  },
  {
   "cell_type": "markdown",
   "metadata": {},
   "source": [
    "#### Python Notebook with MLflow\n",
    "\n",
    "Let's open up our Python notebook (in my case it would be `homework1_solutions.ipynb`)."
   ]
  },
  {
   "cell_type": "markdown",
   "metadata": {},
   "source": [
    "First we have to ensure that the required Python libraries can be imported and that the Python version is the same as when we previously trained the model."
   ]
  },
  {
   "cell_type": "markdown",
   "metadata": {},
   "source": [
    "Then we need to import the MLflow library:\n",
    "\n",
    "``` python\n",
    "    import mlflow\n",
    "```\n"
   ]
  },
  {
   "cell_type": "markdown",
   "metadata": {},
   "source": [
    "We also need to set tracking URI to point the library to the SQLite backend database for MLFlow. The URI is the one parameter in the mlflow ui cli:\n",
    "\n",
    "<center>\n",
    "\n",
    "![](./img/09_tracking_uri.png)\n",
    "</center>\n",
    "\n",
    "``` Python\n",
    "    mlflow.set_tracking_uri(\"sqlite:///mlflow.db\")\n",
    "```"
   ]
  },
  {
   "cell_type": "markdown",
   "metadata": {},
   "source": [
    "We also need to set the experiment. If the experiment does not exist, MLflow will automatically create the experiment for us.\n",
    "\n",
    "``` python\n",
    "    mlflow.set_experiment(\"nyc_taxi_experiment\")\n",
    "```"
   ]
  },
  {
   "cell_type": "markdown",
   "metadata": {},
   "source": [
    "```\n",
    "        2022/05/25 11:20:29 INFO mlflow.tracking.fluent: Experiment with name 'nyc-taxi-experiment' does not exist. Creating a new experiment.\n",
    "        <Experiment: artifact_location='./mlruns/2', experiment_id='2', lifecycle_stage='active', name='nyc-taxi-experiment', tags={}\n",
    "```"
   ]
  },
  {
   "cell_type": "markdown",
   "metadata": {},
   "source": [
    "![](./img/10_mlflow_experiment_created.png)\n",
    "\n",
    "You can see that the `nyc_taxi_experiment` has been created on MLflow UI"
   ]
  },
  {
   "cell_type": "markdown",
   "metadata": {},
   "source": [
    "To start tracking our runs, need to append a `with mlflow.start_run()` on our training cell. \n",
    "\n",
    "``` python\n",
    "\n",
    "# start logging with mlflow\n",
    "with mlflow.start_run():\n",
    "    ...\n",
    "```"
   ]
  },
  {
   "cell_type": "markdown",
   "metadata": {},
   "source": [
    "We will first log a tag called \"developer\"\n",
    "``` python\n",
    "    # set tag for mlflow\n",
    "    mlflow.set_tag(\"developer\", \"Bengsoon\")\n",
    "```"
   ]
  },
  {
   "cell_type": "markdown",
   "metadata": {},
   "source": [
    "We can then start logging the parameters as we wish. In our case, we are going to save the source of the data for both training and validation:\n",
    "\n",
    "``` python\n",
    "    # set data path param\n",
    "    mlflow.log_param(\"train-data-path\", \"./data/fhv_tripdata_2021-01.parquet\")\n",
    "    mlflow.log_param(\"valid-data-path\", \"./data/fhv_tripdata_2021-02.parquet\")\n",
    "```"
   ]
  },
  {
   "cell_type": "markdown",
   "metadata": {},
   "source": [
    "Let's say we are going to train a Lasso() model, and for this run we will set our hyperparameter `alpha` = 0.01. We should log this as a parameter in mlflow:\n",
    "``` python\n",
    "    # set hyper parameter for Lasso\n",
    "    alpha = 0.001\n",
    "    mlflow.log_param(\"alpha\", alpha)\n",
    "    lr = Lasso(alpha = alpha)\n",
    "```"
   ]
  },
  {
   "cell_type": "markdown",
   "metadata": {},
   "source": [
    "Once we have trained the model, we will calculate its `rmse` score against our validation set. We should also log this as a parameter:\n",
    "``` python\n",
    "    # get RMSE and record on mlflow\n",
    "    rmse = round(mean_squared_error(y_val, y_pred, squared=False),2)\n",
    "    print(\"RMSE for training data:\", rmse)\n",
    "    mlflow.log_metric(\"rmse\", rmse)\n",
    "```"
   ]
  },
  {
   "cell_type": "markdown",
   "metadata": {},
   "source": [
    "Here is the whole code block for training the model, validating its performance and recording the run information on mlflow:\n",
    "\n",
    "``` python\n",
    "# start logging with mlflow\n",
    "with mlflow.start_run():\n",
    "    # set tag for mlflow\n",
    "    mlflow.set_tag(\"developer\", \"Bengsoon\")\n",
    "\n",
    "    # set data path param\n",
    "    mlflow.log_param(\"train-data-path\", \"./data/fhv_tripdata_2021-01.parquet\")\n",
    "    mlflow.log_param(\"valid-data-path\", \"./data/fhv_tripdata_2021-02.parquet\")\n",
    "\n",
    "    # set hyper parameter for Lasso\n",
    "    alpha = 0.01\n",
    "    mlflow.log_param(\"alpha\", alpha)\n",
    "    lr = Lasso(alpha = alpha)\n",
    "    \n",
    "    # train the model\n",
    "    lr.fit(X_train, y_train)\n",
    "\n",
    "    # get the y_pred from X_train\n",
    "    y_pred = lr.predict(X_val)\n",
    "\n",
    "    # get RMSE and record on mlflow\n",
    "    rmse = round(mean_squared_error(y_val, y_pred, squared=False),2)\n",
    "    print(\"RMSE for training data:\", rmse)\n",
    "    mlflow.log_metric(\"rmse\", rmse)\n",
    "```"
   ]
  },
  {
   "cell_type": "markdown",
   "metadata": {},
   "source": [
    "If we go to mlflow UI, we should see that the our new run has been recorded (click Refresh if it did not show up). Note that all the parameters that we have recorded on our notebook as been recorded in MLflow.\n",
    "\n",
    "![](./img/12_mlflow_new_run.png)\n",
    "\n"
   ]
  },
  {
   "cell_type": "markdown",
   "metadata": {},
   "source": [
    "> Notice that the \"Source\" in MLflow UI shows that it is ipykernel_launcher.py, which needs an additional hack to be done as MLflow is unable to detect the version of the code from ipynb."
   ]
  },
  {
   "cell_type": "markdown",
   "metadata": {},
   "source": [
    "To view the run details, we can click on the Start Time value:\n",
    "\n",
    "![](./img/13_mlflow_click_details.png)\n",
    "\n",
    "![](./img/14_mlflow_detailed_info.png)\n",
    "\n"
   ]
  },
  {
   "cell_type": "markdown",
   "metadata": {},
   "source": [
    "> Notice that the rmse is only a single value. If you are running a model with epochs, you can see the rmse performance over time."
   ]
  },
  {
   "cell_type": "markdown",
   "metadata": {},
   "source": [
    "## Video 3: Experiment tracking with MLflow\n",
    "We are going to try out an [`xgboost` model](https://xgboost.readthedocs.io/en/stable/) and optimize the hyperparameter tuning with a package called [`hyperopt`](https://hyperopt.github.io/hyperopt).\n",
    "\n",
    "The code is provided by Cristian."
   ]
  },
  {
   "cell_type": "markdown",
   "metadata": {},
   "source": [
    "#### Hyperparameter Optimization Tuning"
   ]
  },
  {
   "cell_type": "markdown",
   "metadata": {},
   "source": [
    "``` python\n",
    "import xgboost as xgb\n",
    "\n",
    "from hyperopt import fmin, tpe, hp, STATUS_OK, Trials\n",
    "from hyperopt.pyll import scope\n",
    "\n",
    "train = xgb.DMatrix(X_train, label=y_train)\n",
    "valid = xgb.DMatrix(X_val, label=y_val)\n",
    "```"
   ]
  },
  {
   "cell_type": "markdown",
   "metadata": {},
   "source": [
    ">-  `fmin`: tries to minimize objective function\n",
    ">-  `tpe`: algorithm that controls the flow\n",
    ">-  `hp`: hyperparameter space\n",
    ">-  `STATUS_OK`: signal if the optimization is succesful at the end of each run\n",
    ">-  `Trials`: will keep track of information from each run"
   ]
  },
  {
   "cell_type": "markdown",
   "metadata": {},
   "source": [
    "We create an `objective` function that trains the `xgboost` model with a set of hyperparameters (from `hyperopt`) and then validated against our validation data. \n",
    "For each set of hyperparameters and the model's corresponding performance score, we record them in `mlflow` by wrapping it around the function."
   ]
  },
  {
   "cell_type": "markdown",
   "metadata": {},
   "source": [
    "``` python\n",
    "def objective(params):\n",
    "    with mlflow.start_run():\n",
    "        mlflow.set_tag(\"model\", \"xgboost\")\n",
    "        mlflow.log_params(params)\n",
    "        booster = xgb.train(\n",
    "            params=params,\n",
    "            dtrain=train,\n",
    "            num_boost_round=1000,\n",
    "            evals=[(valid, 'validation')],\n",
    "            early_stopping_rounds=50\n",
    "        )\n",
    "        y_pred = booster.predict(valid)\n",
    "        rmse = mean_squared_error(y_val, y_pred, squared=False)\n",
    "        mlflow.log_metric(\"rmse\", rmse)\n",
    "\n",
    "    return {'loss': rmse, 'status': STATUS_OK}\n",
    "\n",
    "```"
   ]
  },
  {
   "cell_type": "markdown",
   "metadata": {},
   "source": [
    "We then create the search space dictionary for the XGboost hyperparameters. We use `hp` to create different kinds of statistical distributions for our parameters:"
   ]
  },
  {
   "cell_type": "markdown",
   "metadata": {},
   "source": [
    "``` python\n",
    "search_space = {\n",
    "    'max_depth': scope.int(hp.quniform('max_depth', 4, 100, 1)),\n",
    "    'learning_rate': hp.loguniform('learning_rate', -3, 0),\n",
    "    'reg_alpha': hp.loguniform('reg_alpha', -5, -1),\n",
    "    'reg_lambda': hp.loguniform('reg_lambda', -6, -1),\n",
    "    'min_child_weight': hp.loguniform('min_child_weight', -1, 3),\n",
    "    'objective': 'reg:linear',\n",
    "    'seed': 42\n",
    "}\n",
    "```\n",
    "\n"
   ]
  },
  {
   "cell_type": "markdown",
   "metadata": {},
   "source": [
    "Run the `hyperopt` optimization with `fmin` method (minimize loss)"
   ]
  },
  {
   "cell_type": "markdown",
   "metadata": {},
   "source": [
    "``` python\n",
    "best_result = fmin(\n",
    "    fn=objective,\n",
    "    space=search_space,\n",
    "    algo=tpe.suggest,\n",
    "    max_evals=50,\n",
    "    trials=Trials()\n",
    ")\n",
    "```\n",
    "\n",
    "\n",
    "```\n",
    "Output exceeds the size limit. Open the full output data in a text editor\n",
    "[17:44:13] WARNING: ../src/objective/regression_obj.cu:203: reg:linear is now deprecated in favor of reg:squarederror.\n",
    "[0]\tvalidation-rmse:20.79160                          \n",
    "[1]\tvalidation-rmse:18.41274                          \n",
    "[2]\tvalidation-rmse:17.00143                          \n",
    "[3]\tvalidation-rmse:15.83355                          \n",
    "[4]\tvalidation-rmse:15.25739                          \n",
    "[5]\tvalidation-rmse:14.79529                          \n",
    "[6]\tvalidation-rmse:14.61999                          \n",
    "[7]\tvalidation-rmse:14.51805                          \n",
    "[8]\tvalidation-rmse:14.46920                          \n",
    "[9]\tvalidation-rmse:14.44403                          \n",
    "[10]\tvalidation-rmse:14.42998                         \n",
    "[11]\tvalidation-rmse:14.43086                         \n",
    "[12]\tvalidation-rmse:14.43444                         \n",
    "[13]\tvalidation-rmse:14.44042   \n",
    "```"
   ]
  },
  {
   "cell_type": "markdown",
   "metadata": {},
   "source": [
    "MLflow will track all the runs for the hyperopt experiments that we have conducted and we can view the results that we have logged within our `objective` function.\n",
    "![](./img/16_mlflow_saved_runs.png)\n",
    "\n",
    "\n",
    "As we have also set the MLflow tag to \"model: xgboost\" in our function, we can also filter it in MLflow UI:\n",
    "\n",
    "![](./img/17_mlflow_tags.png)"
   ]
  },
  {
   "cell_type": "markdown",
   "metadata": {},
   "source": [
    "We can also visually compare them in MLflow UI by selecting all the filtered runs and click compare:\n",
    "\n",
    "![](./img/18_mlflow_compare.png)\n"
   ]
  },
  {
   "cell_type": "markdown",
   "metadata": {},
   "source": [
    "#### Hyperparameter Tuning Visualization"
   ]
  },
  {
   "cell_type": "markdown",
   "metadata": {},
   "source": [
    "#### Parallel Coordinates Plot \n",
    "\n",
    "Parallel Coordinates Plot allows us to see how different combinations of the hyperparameters (from our runs) affect our metric (RMSE). In our case, we want to minimize RMSE, so we can even visually select the runs that provide the best performance:\n",
    "\n",
    "![](./img/19_mlflow_Parallel_coordinates_plot.png)"
   ]
  },
  {
   "cell_type": "markdown",
   "metadata": {},
   "source": [
    "#### Scatter Plot\n",
    "\n",
    "We can also visualize the different hyperparameters against our RMSE metric...In our case, we can see that `min_child_weight` has some correlation with our metric:\n",
    "\n",
    "![](./img/20_mlflow_scatter_plot.png)"
   ]
  },
  {
   "cell_type": "markdown",
   "metadata": {},
   "source": [
    "#### Contour Plot\n",
    "\n",
    "The contour plot provides us a visualization on the effects of two variables against RMSE:\n",
    "\n",
    "![](./img/21_mlflow_contour_plot.png)"
   ]
  },
  {
   "cell_type": "markdown",
   "metadata": {},
   "source": [
    "#### Model Selection"
   ]
  },
  {
   "cell_type": "markdown",
   "metadata": {},
   "source": [
    "There is no hard-and-fast rule to model selection, but here we will consider the following:\n",
    "1. Best metric performance (ie lowest RMSE)\n",
    "2. Lowest training time: sometimes we may have runs with RMSE scores not too far off from each other, but the training time taken is significantly shorter. The simpler the better, if possible."
   ]
  },
  {
   "cell_type": "markdown",
   "metadata": {},
   "source": [
    "To do so, we can go back to the Experiments tab in the MLflow UI to select the model that fulfils our criteria:\n",
    "1. We know that we will use xgb model, so we will leave the tag filter from before.\n",
    "2. We then sort the model by ascending RMSE values.\n",
    "3. Select the model that fulfils our criteria\n",
    "\n",
    "![](./img/22_mlflow_model_selection.png)"
   ]
  },
  {
   "cell_type": "markdown",
   "metadata": {},
   "source": [
    "Selecting the experiment run above, we can look at the hyperparameter values used in this run and rerun the training as our selected model in our notebook.\n",
    "\n",
    "![](./img/23_mlflow_selected_run.png)"
   ]
  },
  {
   "cell_type": "markdown",
   "metadata": {},
   "source": [
    "\n",
    "``` python\n",
    "# Hyperparameter for run 09923bbad64045ca837a1656254ce756\n",
    "\n",
    "search_space = {\n",
    "    'max_depth': 4,\n",
    "    'learning_rate': 0.14493221791716185,\n",
    "    'reg_alpha': 0.012153110171030913,\n",
    "    'reg_lambda': 0.017881159785939696,\n",
    "    'min_child_weight': 0.674864917045824,\n",
    "    'objective': 'reg:linear',\n",
    "    'seed': 42\n",
    "}\n",
    "```"
   ]
  },
  {
   "cell_type": "markdown",
   "metadata": {},
   "source": [
    "Instead of wrapping our code with `with mlflow.start_run()`, we can use mlflow [`autolog`](https://www.mlflow.org/docs/latest/tracking.html#automatic-logging) for xgboost:\n",
    "``` python\n",
    "mlflow.xgboost.autolog()\n",
    "\n",
    "booster = xgb.train(\n",
    "            params=params,\n",
    "            dtrain=train,\n",
    "            num_boost_round=1000,\n",
    "            evals=[(valid, 'validation')],\n",
    "            early_stopping_rounds=50\n",
    "        )\n",
    "```"
   ]
  },
  {
   "cell_type": "markdown",
   "metadata": {},
   "source": [
    "`autolog` will automatically log the common parameters, metrics and artifacts for the particular model that we use (in this case, XGBoost). \n",
    "\n",
    "![](./img/24_mlflow_autolog.png)"
   ]
  },
  {
   "cell_type": "markdown",
   "metadata": {},
   "source": [
    "#### The Artifacts"
   ]
  },
  {
   "cell_type": "markdown",
   "metadata": {},
   "source": [
    "It also automatically saves the artifacts of the model as well as its corresponding environments / requirements for its usability in production phase. For `xgboost`, it also saves `feature_importance_weight.json` by default.\n",
    "\n",
    "![](./img/25_mlflow_autolog_artifacts.png)\n"
   ]
  },
  {
   "cell_type": "markdown",
   "metadata": {},
   "source": [
    "Under the MLmodel, it provides us information/metadata regarding the model that was saved. It also shows that the model can be used as a python_function (`pyfunc`) or as an XGBoost model. Here, we can also download the model binary.\n",
    "\n",
    "![](./img/25_mlflow_autolog_MLmodel.png)"
   ]
  },
  {
   "cell_type": "markdown",
   "metadata": {},
   "source": [
    "At the top level of the Artifacts, it also provides us information on how we can use the saved models to make predictions (as inference models):\n",
    "\n",
    "![](./img/26_mlflow_artifacts.png)"
   ]
  },
  {
   "cell_type": "markdown",
   "metadata": {},
   "source": [
    "In our `mlflow_notebook_for_notes.ipynb`, we can copy the code above for \"Pandas DataFrame\" to use it to test out the inference mode of the model:\n",
    "- We first have to make a reference to the saved model with the `runs:/{run_id}/model`, which is a path readable by MLflow\n",
    "- We can load the model as PyFuncModel or as XGBoost model (in our case we will load it as XGBoost Model)\n",
    "\n",
    "\n",
    "``` python\n",
    "logged_model = 'runs:/01d97a61959f42ba964175e922ee9573/model'\n",
    "```"
   ]
  },
  {
   "cell_type": "markdown",
   "metadata": {},
   "source": [
    "#### Load model as `PyFuncModel`"
   ]
  },
  {
   "cell_type": "markdown",
   "metadata": {},
   "source": [
    "To load as a PyFuncModel, we can use the method `mlflow.pyfunc.load_model()`\n",
    "\n",
    "``` python\n",
    "   # Load model as a PyFuncModel.\n",
    "   loaded_model = mlflow.pyfunc.load_model(logged_model)\n",
    "   loaded_model\n",
    "\n",
    "   >> mlflow.pyfunc.loaded_model:\n",
    "      artifact_path: model\n",
    "      flavor: mlflow.xgboost\n",
    "      run_id: 01d97a61959f42ba964175e922ee9573\n",
    "```"
   ]
  },
  {
   "cell_type": "markdown",
   "metadata": {},
   "source": [
    "Remember that we already have assigned variables for our validation set features?\n",
    "\n",
    "``` python\n",
    "    # preprocessed DataFrame with DictionaryVectorizer\n",
    "    X_val = dv.transform(X_val_dict)\n",
    "\n",
    "    # convert X_val into DMatrix type\n",
    "    valid = xgb.DMatrix(X_val, label=y_val)\n",
    "```"
   ]
  },
  {
   "cell_type": "markdown",
   "metadata": {},
   "source": [
    "As shown above in the MLflow UI, PyFuncModel allows us to use Pandas DataFrame features for its prediction method, unlike XGBoost models which requires us to convert features into `DMatrix` type.\n",
    "\n",
    "Passing in `valid` into `loaded_model.predict()` will return an `TypeError: Not supported type for data.<class 'xgboost.core.DMatrix'>`\n",
    "\n",
    "\n",
    "\n",
    "``` python\n",
    "    loaded_model.predict(valid)\n",
    "\n",
    "    >> ............\n",
    "    >> TypeError: Not supported type for data.<class 'xgboost.core.DMatrix'>\n",
    "```"
   ]
  },
  {
   "cell_type": "markdown",
   "metadata": {},
   "source": [
    "However, the model will be able to make prediction by passing in our preprocessed df `X_val`:\n",
    "\n",
    "``` python\n",
    "    loaded_model.predict(X_val)\n",
    "    >> array([20.216328, 20.216328, 20.216328, ..., 20.216328, 20.216328,\n",
    "       20.216328], dtype=float32)\n",
    "```"
   ]
  },
  {
   "cell_type": "markdown",
   "metadata": {},
   "source": [
    "#### Load Model as `XGBoost` Model"
   ]
  },
  {
   "cell_type": "markdown",
   "metadata": {},
   "source": [
    "On the flip side, we can also load the model as `XGBoost` model:\n",
    "\n",
    "``` python\n",
    "    # Load model as XGBmodel\n",
    "    xgb_model = mlflow.xgboost.load_model(logged_model)\n",
    "    xgb_model\n",
    "\n",
    "    >> <xgboost.core.Booster at 0x7ffac359c070>\n",
    "   \n",
    "```"
   ]
  },
  {
   "cell_type": "markdown",
   "metadata": {},
   "source": [
    "We can see that it is a fully-functional XGBoost model with its corresponding methods:\n",
    "\n",
    "![](./img/27_xgboost_model.png)"
   ]
  },
  {
   "cell_type": "markdown",
   "metadata": {},
   "source": [
    "Since it is an XGBoost model, we will need to use the DMatrix-typed feature inputs for our validation set:\n",
    "\n",
    "``` python\n",
    "    xgb_model.predict(valid)\n",
    "    >>> array([20.216328, 20.216328, 20.216328, ..., 20.216328, 20.216328,\n",
    "       20.216328], dtype=float32)\n",
    "```\n"
   ]
  },
  {
   "cell_type": "markdown",
   "metadata": {},
   "source": [
    "#### Model Environments\n",
    "\n",
    "MLflow also provides the Python environment from which the model was trained on. This will help the deployment of the model in the production stage to replicate the same environment as the training stage.\n",
    "\n",
    "MLflow automatically provides 3 types of environment files:\n",
    "- `conda.yaml` for Conda\n",
    "- `requirements.txt` for pip\n",
    "- `python_env.yaml` for virtualenv\n",
    "\n",
    "![](./img/28_mlflow_autolog_envs.png)"
   ]
  },
  {
   "cell_type": "markdown",
   "metadata": {},
   "source": [
    "## Video 4: Model Management "
   ]
  },
  {
   "cell_type": "markdown",
   "metadata": {},
   "source": [
    "This is a general machine learning lifecycle:\n",
    "\n",
    "![](./img/29_ml_lifecycle_neptune.png)\n",
    "\n",
    "_Source: https://neptune.ai/blog/ml-experiment-tracking_\n",
    "\n",
    "- Here we can see that Experiment Tracking is just a small subset of the whole lifecycle\n",
    "- Model Management is an overarching process that also includes Model Versioning, Model Deployment and Scaling Hardware on top of Experiment Tracking"
   ]
  },
  {
   "cell_type": "markdown",
   "metadata": {
    "vscode": {
     "languageId": "plaintext"
    }
   },
   "source": [
    "### What's wrong with Folder-based model management?\n",
    "![](./img/30_whats_wrong_with_folders.png)\n",
    "- Error prone: we can easily replace older models\n",
    "- No versioning\n",
    "- No lineage: no information on which data version that the model is derived from or the hyperparameters that it uses etc o"
   ]
  },
  {
   "cell_type": "markdown",
   "metadata": {
    "vscode": {
     "languageId": "plaintext"
    }
   },
   "source": [
    "### Model Management with MLflow"
   ]
  },
  {
   "cell_type": "markdown",
   "metadata": {},
   "source": [
    "Adapting from our previous XGBoost model, we will save the artifact into MLflow and log the parameters manually. We will also log the DictVectorizer preprocessor as an artifact"
   ]
  },
  {
   "cell_type": "markdown",
   "metadata": {},
   "source": [
    "First, we have to turn off the `autolog` to avoid logging the model twice:\n",
    "\n",
    "``` python \n",
    "    # Turn off autolog\n",
    "    mlflow.xgboost.autolog(disable=True)\n",
    "```"
   ]
  },
  {
   "cell_type": "markdown",
   "metadata": {},
   "source": [
    "We then add the following to the code:\n",
    "\n",
    "1. To log our custom parameters, we can pass in our `params` dictionary directly into `mlflow.log_params()`:\n",
    "\n",
    "   ``` py\n",
    "    # Hyperparameter for run 09923bbad64045ca837a1656254ce756\n",
    "    params = {\n",
    "        'max_depth': 4,\n",
    "        'learning_rate': 0.14493221791716185,\n",
    "        'reg_alpha': 0.012153110171030913,\n",
    "        'reg_lambda': 0.017881159785939696,\n",
    "        'min_child_weight': 0.674864917045824,\n",
    "        'objective': 'reg:linear',\n",
    "        'seed': 42\n",
    "    }\n",
    "    mlflow.log_params(params)\n",
    "   ```\n",
    "2. To log metric \"rmse\":\n",
    "\n",
    "    ``` py\n",
    "    # adapted from MLflow with LR\n",
    "    mlflow.log_metric(\"rmse\", rmse)\n",
    "    ```\n",
    "\n",
    "3. To log xgboost model to with `mlflow.xgboost.log_model` to ensure that we are saving xgboost model:\n",
    "    ``` py\n",
    "    # log xgboost model to mlflow\n",
    "    mlflow.xgboost.log_model(booster, artifact_path=\"models_mlflow\")\n",
    "    ```\n",
    "\n",
    "4. To log the preprocessor `DictVectorizer` that we created (and exported) at first:\n",
    "    ``` py\n",
    "    # log the preprocessor DictVectorizer\n",
    "    with open(\"models/preprocessor.bin\", \"wb\") as f_out:\n",
    "        pickle.dump(dv, f_out)\n",
    "    \n",
    "    mlflow.log_artifact(\"models/preprocessor.bin\", artifact_path=\"preprocessor\")\n",
    "    ```"
   ]
  },
  {
   "cell_type": "markdown",
   "metadata": {},
   "source": [
    "In its totality, here's how we can train an XGBoost model and log it with our custom params, metrics and artifacts:\n",
    "\n",
    "``` py\n",
    "    # Adapting from our previous XGBoost model, we will save the artifact into MLflow and log the parameters manually\n",
    "    # We will also log the DictVectorizer preprocessor as an artifact\n",
    "\n",
    "    # Turn off autolog\n",
    "    mlflow.xgboost.autolog(disable=True)\n",
    "\n",
    "\n",
    "    with mlflow.start_run():\n",
    "        # Hyperparameter for run 09923bbad64045ca837a1656254ce756\n",
    "        params = {\n",
    "            'max_depth': 4,\n",
    "            'learning_rate': 0.14493221791716185,\n",
    "            'reg_alpha': 0.012153110171030913,\n",
    "            'reg_lambda': 0.017881159785939696,\n",
    "            'min_child_weight': 0.674864917045824,\n",
    "            'objective': 'reg:linear',\n",
    "            'seed': 42\n",
    "        }\n",
    "\n",
    "        mlflow.log_params(params)\n",
    "        \n",
    "\n",
    "        booster = xgb.train(\n",
    "                    params=params,\n",
    "                    dtrain=train,\n",
    "                    num_boost_round=1000,\n",
    "                    evals=[(valid, 'validation')],\n",
    "                    early_stopping_rounds=50\n",
    "                )\n",
    "\n",
    "        # get the y_pred from X_train\n",
    "        y_pred = booster.predict(valid)\n",
    "\n",
    "        # get RMSE and record on mlflow\n",
    "        rmse = round(mean_squared_error(y_val, y_pred, squared=False),2)\n",
    "        print(\"RMSE for training data:\", rmse)\n",
    "        mlflow.log_metric(\"rmse\", rmse)\n",
    "\n",
    "        # log xgboost model to mlflow\n",
    "        mlflow.xgboost.log_model(booster, artifact_path=\"models_mlflow\")\n",
    "\n",
    "        # log the preprocessor DictVectorizer\n",
    "        with open(\"models/preprocessor.bin\", \"wb\") as f_out:\n",
    "            pickle.dump(dv, f_out)\n",
    "        \n",
    "        mlflow.log_artifact(\"models/preprocessor.bin\", artifact_path=\"preprocessor\")\n",
    "\n",
    "```"
   ]
  },
  {
   "cell_type": "markdown",
   "metadata": {},
   "source": [
    "We can see that our run has been saved, along with the parameters and metrics that we have manually logged. Under the artifacts, we have `models_mlflow` and `preprocessor` that were saved:\n",
    "\n",
    "![](./img/31_mlflow_xgboost_manual.png)\n"
   ]
  },
  {
   "cell_type": "markdown",
   "metadata": {},
   "source": [
    "#### Load XGBoost Model\n",
    "\n",
    "Once the model has been successfully trained, we can load the model from MLflow in our notebook, just as before (see notes for Video 3):\n",
    "\n",
    "``` python\n",
    "    logged_model = 'runs:/237dc915805441e8bfe958044ede7b18/models_mlflow'\n",
    "\n",
    "    # Load model as a xgboost.\n",
    "    xgb_model = mlflow.xgboost.load_model(logged_model)\n",
    "\n",
    "    # Prediction\n",
    "    y_valid = xgb_model.predict(valid) # using DMatrix-typed validation data\n",
    "\n",
    "    y_valid\n",
    "    >>> array([20.216328, 20.216328, 20.216328, ..., 20.216328, 20.216328,\n",
    "       20.216328], dtype=float32)\n",
    "\n",
    "```"
   ]
  },
  {
   "cell_type": "markdown",
   "metadata": {},
   "source": [
    "## Video 5:"
   ]
  },
  {
   "cell_type": "markdown",
   "metadata": {},
   "source": [
    "![](./img/32_model_registry.png)\n",
    "\n",
    "Source: https://neptune.ai/blog/model-registry-makes-mlops-work"
   ]
  },
  {
   "cell_type": "markdown",
   "metadata": {},
   "source": [
    "Model Registry does not perform the deployment of the model, but it merely is a registry where we label the versions and the stages of the model. To deploy the model, we will require to implement CI/CD to communicate with Model Registry."
   ]
  },
  {
   "cell_type": "markdown",
   "metadata": {},
   "source": [
    "As Data Scientists, our job is not to deploy the model, but to decide which model will be used for production.\n",
    "\n",
    "A few common considerations to take account (apart from performance metrics - RMSE):\n",
    "- Duration\n",
    "- Size of the model"
   ]
  },
  {
   "cell_type": "markdown",
   "metadata": {},
   "source": [
    "In my notebook, I have run several runs with other model architectures such as [`GradientBoostingRegressor`](https://scikit-learn.org/stable/modules/generated/sklearn.ensemble.GradientBoostingRegressor.html) and [`ElasticNet`](https://scikit-learn.org/stable/modules/generated/sklearn.linear_model.ElasticNet.html) along with previous runs with `XGBoostRegressor` and `Lasso`\n",
    "\n",
    "Let's assume that these are the models that we intend to stage, we sort the runs by ascending RMSE scores:\n",
    "\n",
    "![](./img/33_selecting_runs_for_staging.png)"
   ]
  },
  {
   "cell_type": "markdown",
   "metadata": {},
   "source": [
    "But as mentioned above, we also usually need to also take note of the training duration as that is indicative of the model sizes. However, in my example, even though `GradientBoostingRegressor` architecture takes the longest to train, its serialized model is only a mere 108.47KB:\n",
    "\n",
    "![](./img/34_gbr_filesize.png)\n",
    "Serialized Model File Size for `GradientBoostingRegressor` run\n",
    "\n"
   ]
  },
  {
   "cell_type": "markdown",
   "metadata": {},
   "source": [
    "***Registering Model*** \n",
    "\n",
    "Considering their (slightly) lower RMSE scores, we will register all the runs to the Model Registry. To do so, for each individual run, we click on the Register Model button:\n",
    "\n",
    "![](./img/35_register_gbr.png)\n",
    "\n",
    "\n",
    "As we have not registered a model before, we will need to Create New Model (we will name it `nyctaxi_tripduration_regressor`):\n",
    "\n",
    "![](./img/36_create_new_model.png)\n",
    "\n",
    "- Side Note: in case if it confuses you as much as it did with me, even though we use different model architectures for the runs in our Experiment, we do not call them \"models\". They remain as runs for the experiment that we are doing, whose goal is to ultimately build a single model of NYC Taxi Trip Duration Regressor. It gets clearer in these next few steps where we start to register the \"runs\" as the \"production model\" for the NYC Taxi Trip Duration Regressor that we are building.\n"
   ]
  },
  {
   "cell_type": "markdown",
   "metadata": {},
   "source": [
    "Once we have registered all the models, we can see that the icons under the \"Models\" column (back in the \"Experiments\" tab) for the runs have changed:\n",
    "\n",
    "![](./img/37_models_tab.png)"
   ]
  },
  {
   "cell_type": "markdown",
   "metadata": {},
   "source": [
    "If we click on the \"Models\" tab, we can also see that our model has been registered with the \"Latest Version\" being Version 4:\n",
    "\n",
    "![](./img/38_registered_model.png)"
   ]
  },
  {
   "cell_type": "markdown",
   "metadata": {},
   "source": [
    "If we click on the `nyctaxi_tripduration_regressor` model, we can add some information in the \"Description\":\n",
    "\n",
    "![](./img/39_model_description.png)\n",
    "\n",
    "\n",
    "Here we can see the different versions of the model. The versions are automatically numbered by MLflow based on the sequence of when we registered the runs:\n",
    "\n",
    "![](./img/40_model_versions.png)\n",
    "\n",
    "\n",
    "Also note that MLflow does not automatically inherit the metadata (like model architecture, run tags etc) from the runs, so we have to label them manually. We can do so by clicking on the \"Source Run\" link, which will get us back to the run from which the version is referring to. For example, for Version 2, we can see that it refers to the XGBoost Run that we registered first:\n",
    "\n",
    "![](./img/41_version_2.png)\n",
    "\n",
    "_Version of the model and its Source Run_\n",
    "\n",
    "![](./img/42_xgboost_is_v2.png)\n",
    "\n",
    "_Corresponding run of Model Version 2 is the XGBoost run_"
   ]
  },
  {
   "cell_type": "markdown",
   "metadata": {},
   "source": [
    "We will add the model architecture in the \"Description\" field for each of the version:\n",
    "\n",
    "![](./img/43_v2_add_description.png)"
   ]
  },
  {
   "cell_type": "markdown",
   "metadata": {},
   "source": [
    "### Transitioning Model Versions"
   ]
  },
  {
   "cell_type": "markdown",
   "metadata": {},
   "source": [
    "Back in the main page of the Models tab, we can transition each of these Versions to different stages either using MLflow UI or MLflow API in Python. \n",
    "\n",
    "For now let's transition Version 1 to \"Production\" stage while the other remaining versions will reside in \"Staging\" using MLflow UI. To do so, we click on each of the version and select the stage to transition it into. Below is the example for Version 1:\n",
    "\n",
    "![](./img/44_transition_v1_production.png)"
   ]
  },
  {
   "cell_type": "markdown",
   "metadata": {},
   "source": [
    "A prompt will show up for confirmation with an option to \"Transition existing Production model versions to Archived\". For now, we have no models in Production, so that does nothing for us:\n",
    "\n",
    "![](./img/45_transition_v1_archive.png)"
   ]
  },
  {
   "cell_type": "markdown",
   "metadata": {},
   "source": [
    "Once we have done that for the others, we can see on the main screen that we have all four versions have their own corresponding stages:\n",
    "\n",
    "![](./img/46_staged_versions.png)"
   ]
  },
  {
   "cell_type": "markdown",
   "metadata": {},
   "source": [
    "#### Using MLflow Client\n",
    "\n",
    "We will use `MLflowClient` in Python in order to communicate with our model\n",
    "\n",
    "``` py\n",
    "    from mlflow.tracking import MLflowClient\n",
    "```"
   ]
  },
  {
   "cell_type": "markdown",
   "metadata": {},
   "source": [
    "We need to instantiate the `Client`\n",
    "``` py\n",
    "    # instantiate the client\n",
    "    MLFLOW_TRACKING_URI = \"sqlite:///mlflow.db\"\n",
    "    client = MlflowClient(tracking_uri=MLFLOW_TRACKING_URI)\n",
    "```"
   ]
  },
  {
   "cell_type": "markdown",
   "metadata": {},
   "source": [
    "With the `Client`, we can create experiments\n",
    "\n",
    "``` py\n",
    "    # we can create experiments\n",
    "    client.create_experiment(name=\"test\")\n",
    "```"
   ]
  },
  {
   "cell_type": "markdown",
   "metadata": {},
   "source": [
    "To list the current experiments,\n",
    "``` py\n",
    "    # list experiments\n",
    "    client.list_experiments()\n",
    "\n",
    ">>> [<Experiment: artifact_location='./mlruns/2', experiment_id='2' lifecycle_stage='active', name='nyc-taxi-experiment', tags={}>, \n",
    "<Experiment: artifact_location='./mlruns/4', experiment_id='4', lifecycle_stage='active', name='test', tags={}>]"
   ]
  },
  {
   "cell_type": "markdown",
   "metadata": {},
   "source": [
    "#### Get the runs in `nyc-taxi-experiment`"
   ]
  },
  {
   "cell_type": "markdown",
   "metadata": {},
   "source": [
    "``` py\n",
    "    from mlflow.entities import ViewType\n",
    "\n",
    "    runs = client.search_runs(\n",
    "        experiment_ids= \"2\",\n",
    "        filter_string=\"\",\n",
    "        run_view_type=ViewType.ACTIVE_ONLY,\n",
    "        max_results=5,\n",
    "        order_by=[\"metrics.rmse ASC\"]\n",
    "    )\n",
    "```\n",
    "\n",
    "- `search_runs` is a simplified version of SQL `WHERE` clause.\n",
    "- We first need to specify which experiment id that we are referring to (`nyc_taxi_experiment`'s id is 2).\n",
    "- The `filter_string` allows us to filter the runs.\n",
    "- The `run_view_type` value `ViewType.ACTIVE_ONLY` shows only the active runs (and not deleted runs)\n",
    "- `max_results` showing only 5 results\n",
    "- `order_by` - ordering the results by `metrics.rmse` and `ASC` ascending (like SQL)"
   ]
  },
  {
   "cell_type": "markdown",
   "metadata": {},
   "source": [
    "The `runs` will spit out a myriad of information from the experiments, so we will just extract the ones we want:\n",
    "\n",
    "``` py\n",
    "        # the runs have a ton of information, but we can choose to only view the run_id and rmse\n",
    "        for run in runs:\n",
    "            print(f\"run id: {run.info.run_id}, rmse: {run.data.metrics['rmse']}\")\n",
    "\n",
    "        >>> run id: 572b0ed57e3748ac965af939c28f3d0e, rmse: 14.434830071276503\n",
    "            run id: be2c1e01147c422fa40f9aca18025447, rmse: 14.436014044219164\n",
    "            run id: ebb70531b3d348808e9c13bd801f335a, rmse: 14.436321257721108        \n",
    "            run id: 494b84cae6e84edb8e3caa51603c2318, rmse: 14.436641761102681        \n",
    "            run id: 1e835cd7d1544c01ac90901218a8757e, rmse: 14.44200357693116\n",
    "```"
   ]
  },
  {
   "cell_type": "markdown",
   "metadata": {},
   "source": [
    "#### Registering a New Model"
   ]
  },
  {
   "cell_type": "markdown",
   "metadata": {},
   "source": [
    "Say we want to register the run `572b0ed57e3748ac965af939c28f3d0e` in the Model Registry."
   ]
  },
  {
   "cell_type": "markdown",
   "metadata": {},
   "source": [
    "We need to import mlflow and set it up (if we had not done so)"
   ]
  },
  {
   "cell_type": "markdown",
   "metadata": {},
   "source": [
    "``` py\n",
    "    # import and set up mlflow\n",
    "    import mlflow\n",
    "\n",
    "    mlflow.set_tracking_uri(MLFLOW_TRACKING_URI)\n",
    "```"
   ]
  },
  {
   "cell_type": "markdown",
   "metadata": {},
   "source": [
    "``` py\n",
    "    # set up variables\n",
    "    RUN_ID = \"572b0ed57e3748ac965af939c28f3d0e\"\n",
    "    MODEL_URI = f\"runs:/{RUN_ID}/model\"\n",
    "```"
   ]
  },
  {
   "cell_type": "markdown",
   "metadata": {},
   "source": [
    "But first let's ensure that the run has not been registered:"
   ]
  },
  {
   "cell_type": "markdown",
   "metadata": {},
   "source": [
    "``` py\n",
    "    assert client.search_model_versions(f\"run_id = '{RUN_ID}'\") == [], \"Run has been registered!\"\n",
    "```"
   ]
  },
  {
   "cell_type": "markdown",
   "metadata": {},
   "source": [
    "Then we can register the model with the `MODEL_URI` (which is linked to the RUN ID and saved model)"
   ]
  },
  {
   "cell_type": "markdown",
   "metadata": {},
   "source": [
    "``` py\n",
    "    mlflow.register_model(model_uri = MODEL_URI, name=\"nyctaxi_tripduration_regressor\")\n",
    "\n",
    "    >>> Registered model 'nyctaxi_tripduration_regressor' already exists. Creating a new version of this model...\n",
    "2022/06/01 14:51:46 INFO mlflow.tracking._model_registry.client: Waiting up to 300 seconds for model version to finish creation.                     Model name: nyctaxi_tripduration_regressor, version 5\n",
    "Created version '5' of model 'nyctaxi_tripduration_regressor'.\n",
    "<ModelVersion: creation_timestamp=1654066306963, current_stage='None', description=None, last_updated_timestamp=1654066306963, name='nyctaxi_tripduration_regressor', run_id='572b0ed57e3748ac965af939c28f3d0e', run_link=None, source='./mlruns/2/572b0ed57e3748ac965af939c28f3d0e/artifacts/model', status='READY', status_message=None, tags={}, user_id=None, version=5>\n",
    "```"
   ]
  },
  {
   "cell_type": "markdown",
   "metadata": {},
   "source": [
    "#### Transitioning the newly registered model \n",
    "\n",
    "We will now transition the model to staging. Before we do that, let's find the latest versions"
   ]
  },
  {
   "cell_type": "markdown",
   "metadata": {},
   "source": [
    "``` py \n",
    "    # get the latest versions\n",
    "    model_name = \"nyctaxi_tripduration_regressor\"\n",
    "    latest_versions = client.get_latest_versions(name=model_name)\n",
    "\n",
    "    for version in latest_versions:\n",
    "        print(f\"Version: {version.version}, Stage: {version.current_stage}\")\n",
    "\n",
    "    >> Version: 1, Stage: Production\n",
    "       Version: 4, Stage: Staging\n",
    "       Version: 5, Stage: None\n",
    "```"
   ]
  },
  {
   "cell_type": "markdown",
   "metadata": {},
   "source": [
    "Let's transition version 5 to \"Staging\""
   ]
  },
  {
   "cell_type": "markdown",
   "metadata": {},
   "source": [
    "``` py\n",
    "    # transition version 5 to \"Staging\"\n",
    "    stage = \"Staging\"\n",
    "    version = 5\n",
    "\n",
    "    client.transition_model_version_stage(\n",
    "        name = model_name,\n",
    "        version = version,\n",
    "        stage = stage,\n",
    "        archive_existing_versions = False\n",
    "    )\n",
    "\n",
    "    >> <ModelVersion: creation_timestamp=1654066306963, current_stage='Staging', description=None, last_updated_timestamp=1654072597722, name='nyctaxi_tripduration_regressor', run_id='572b0ed57e3748ac965af939c28f3d0e', run_link=None, source='./mlruns/2/572b0ed57e3748ac965af939c28f3d0e/artifacts/model', status='READY', status_message=None, tags={}, user_id=None, version=5>\n",
    "```"
   ]
  }
 ],
 "metadata": {
  "interpreter": {
   "hash": "a4be0d6704ea3b8629c512f204a52999524973bc22e944393af60bd9a001eb90"
  },
  "kernelspec": {
   "display_name": "Python 3.9.7 ('mlops_zoomcamp')",
   "language": "python",
   "name": "python3"
  },
  "language_info": {
   "codemirror_mode": {
    "name": "ipython",
    "version": 3
   },
   "file_extension": ".py",
   "mimetype": "text/x-python",
   "name": "python",
   "nbconvert_exporter": "python",
   "pygments_lexer": "ipython3",
   "version": "3.9.7"
  },
  "orig_nbformat": 4
 },
 "nbformat": 4,
 "nbformat_minor": 2
}
