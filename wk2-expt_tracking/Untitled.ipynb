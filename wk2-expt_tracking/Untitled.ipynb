{
 "cells": [
  {
   "cell_type": "code",
   "execution_count": 14,
   "id": "d60b9559-f53e-4ec2-a99a-56f824a777fc",
   "metadata": {},
   "outputs": [],
   "source": [
    "import mlflow"
   ]
  },
  {
   "cell_type": "code",
   "execution_count": 55,
   "id": "98afd7e8-d472-4b1c-aaff-03441b9d10d5",
   "metadata": {},
   "outputs": [],
   "source": [
    "import pandas as pd"
   ]
  },
  {
   "cell_type": "code",
   "execution_count": 50,
   "id": "861fa3c6-24fd-44fa-bfe1-d8fdab7e116a",
   "metadata": {},
   "outputs": [],
   "source": [
    "import pickle"
   ]
  },
  {
   "cell_type": "code",
   "execution_count": 57,
   "id": "dfa51cac-f5f8-470e-8c88-600fa36808c9",
   "metadata": {},
   "outputs": [],
   "source": [
    "import seaborn as sns\n",
    "import matplotlib.pyplot as plt"
   ]
  },
  {
   "cell_type": "code",
   "execution_count": null,
   "id": "3db0bfeb-224a-4aae-a44a-6f53e5b603b9",
   "metadata": {},
   "outputs": [],
   "source": []
  },
  {
   "cell_type": "code",
   "execution_count": 59,
   "id": "0646c326-b6f3-4a82-8014-0498de20fbd3",
   "metadata": {},
   "outputs": [],
   "source": [
    "from sklearn.feature_extraction import DictVectorizer\n",
    "from sklearn.linear_model import LinearRegression\n",
    "from sklearn.linear_model import Lasso\n",
    "from sklearn.linear_model import Ridge\n",
    "\n",
    "from sklearn.metrics import mean_squared_error"
   ]
  },
  {
   "cell_type": "code",
   "execution_count": 65,
   "id": "c90bdffe-b5f1-47b0-8f04-02bf50d6b602",
   "metadata": {},
   "outputs": [],
   "source": [
    "df = pd.read_parquet('./data/fhv_tripdata_2021-01.parquet')\n"
   ]
  },
  {
   "cell_type": "code",
   "execution_count": null,
   "id": "78143788-2d67-4faf-a346-6d2d50a6b535",
   "metadata": {},
   "outputs": [],
   "source": [
    "mlflow.set_tracking_uri(\"http://127.0.0.1:5000\") "
   ]
  },
  {
   "cell_type": "code",
   "execution_count": 19,
   "id": "ae3f5a40-cdd3-45ea-89b7-5b9b6939604a",
   "metadata": {},
   "outputs": [
    {
     "data": {
      "text/plain": [
       "<Experiment: artifact_location='file:///C:/Users/obalo/Downloads/zoomcamp=mlops/wk2-expt_tracking/mlruns/1', creation_time=1734633204575, experiment_id='1', last_update_time=1734633204575, lifecycle_stage='active', name='nyc-taxi-experiment', tags={}>"
      ]
     },
     "execution_count": 19,
     "metadata": {},
     "output_type": "execute_result"
    }
   ],
   "source": [
    "import mlflow\n",
    "mlflow.set_tracking_uri(\"sqlite:///mlflow.db\")\n",
    "mlflow.set_experiment(\"nyc-taxi-experiment\")"
   ]
  },
  {
   "cell_type": "code",
   "execution_count": 22,
   "id": "ca793593-f71f-4d16-ac83-5c849c4b1c60",
   "metadata": {},
   "outputs": [
    {
     "data": {
      "text/plain": [
       "<module 'mlflow' from 'C:\\\\Users\\\\obalo\\\\AppData\\\\Roaming\\\\Python\\\\Python312\\\\site-packages\\\\mlflow\\\\__init__.py'>"
      ]
     },
     "execution_count": 22,
     "metadata": {},
     "output_type": "execute_result"
    }
   ],
   "source": [
    "mlflow"
   ]
  },
  {
   "cell_type": "code",
   "execution_count": 67,
   "id": "a6de7f36-6f11-41bc-8b1b-093138695df9",
   "metadata": {},
   "outputs": [
    {
     "ename": "NameError",
     "evalue": "name 'X_train' is not defined",
     "output_type": "error",
     "traceback": [
      "\u001b[1;31m---------------------------------------------------------------------------\u001b[0m",
      "\u001b[1;31mNameError\u001b[0m                                 Traceback (most recent call last)",
      "Cell \u001b[1;32mIn[67], line 10\u001b[0m\n\u001b[0;32m      8\u001b[0m mlflow\u001b[38;5;241m.\u001b[39mlog_param(\u001b[38;5;124m\"\u001b[39m\u001b[38;5;124malpha\u001b[39m\u001b[38;5;124m\"\u001b[39m, alpha)\n\u001b[0;32m      9\u001b[0m lr \u001b[38;5;241m=\u001b[39m Lasso(alpha \u001b[38;5;241m=\u001b[39m alpha)\n\u001b[1;32m---> 10\u001b[0m lr\u001b[38;5;241m.\u001b[39mfit(X_train, y_train)\n",
      "\u001b[1;31mNameError\u001b[0m: name 'X_train' is not defined"
     ]
    }
   ],
   "source": [
    "# with mlflow.start_run():\n",
    "#     mlflow.set_tag(\"developer\",\"Bolaji\")\n",
    "#     mlflow.log_param(\"train-data-path\", \"./data/fhv_tripdata_2021-01.parquet\")\n",
    "#     mlflow.log_param(\"val-data-path\", \"./data/fhv_tripdata_2021-02.parquet\")\n",
    "\n",
    "# # set hyper parameter for Lasso\n",
    "#     alpha = 0.001\n",
    "#     mlflow.log_param(\"alpha\", alpha)\n",
    "#     lr = Lasso(alpha = alpha)\n",
    "#     lr.fit(X_train, y_train)"
   ]
  },
  {
   "cell_type": "code",
   "execution_count": 69,
   "id": "cf636907-a930-4ad5-8fed-96a2de01064d",
   "metadata": {},
   "outputs": [
    {
     "ename": "NameError",
     "evalue": "name 'X_train' is not defined",
     "output_type": "error",
     "traceback": [
      "\u001b[1;31m---------------------------------------------------------------------------\u001b[0m",
      "\u001b[1;31mNameError\u001b[0m                                 Traceback (most recent call last)",
      "Cell \u001b[1;32mIn[69], line 16\u001b[0m\n\u001b[0;32m     13\u001b[0m lr \u001b[38;5;241m=\u001b[39m Lasso(alpha \u001b[38;5;241m=\u001b[39m alpha)\n\u001b[0;32m     15\u001b[0m \u001b[38;5;66;03m# train the model\u001b[39;00m\n\u001b[1;32m---> 16\u001b[0m lr\u001b[38;5;241m.\u001b[39mfit(X_train, y_train)\n\u001b[0;32m     18\u001b[0m \u001b[38;5;66;03m# get the y_pred from X_train\u001b[39;00m\n\u001b[0;32m     19\u001b[0m y_pred \u001b[38;5;241m=\u001b[39m lr\u001b[38;5;241m.\u001b[39mpredict(X_val)\n",
      "\u001b[1;31mNameError\u001b[0m: name 'X_train' is not defined"
     ]
    }
   ],
   "source": [
    "# start logging with mlflow\n",
    "with mlflow.start_run():\n",
    "    # set tag for mlflow\n",
    "    mlflow.set_tag(\"developer\", \"Bengsoon\")\n",
    "\n",
    "    # set data path param\n",
    "    mlflow.log_param(\"train-data-path\", \"./data/fhv_tripdata_2021-01.parquet\")\n",
    "    mlflow.log_param(\"valid-data-path\", \"./data/fhv_tripdata_2021-02.parquet\")\n",
    "\n",
    "    # set hyper parameter for Lasso\n",
    "    alpha = 0.01\n",
    "    mlflow.log_param(\"alpha\", alpha)\n",
    "    lr = Lasso(alpha = alpha)\n",
    "    \n",
    "    # train the model\n",
    "    lr.fit(X_train, y_train)\n",
    "\n",
    "    # get the y_pred from X_train\n",
    "    y_pred = lr.predict(X_val)\n",
    "\n",
    "    # get RMSE and record on mlflow\n",
    "    rmse = round(mean_squared_error(y_val, y_pred, squared=False),2)\n",
    "    print(\"RMSE for training data:\", rmse)\n",
    "    mlflow.log_metric(\"rmse\", rmse)"
   ]
  },
  {
   "cell_type": "code",
   "execution_count": null,
   "id": "106c1252-ccf4-4897-8c6b-7d7c897c7d91",
   "metadata": {},
   "outputs": [],
   "source": []
  }
 ],
 "metadata": {
  "kernelspec": {
   "display_name": "Python 3 (ipykernel)",
   "language": "python",
   "name": "python3"
  },
  "language_info": {
   "codemirror_mode": {
    "name": "ipython",
    "version": 3
   },
   "file_extension": ".py",
   "mimetype": "text/x-python",
   "name": "python",
   "nbconvert_exporter": "python",
   "pygments_lexer": "ipython3",
   "version": "3.12.3"
  }
 },
 "nbformat": 4,
 "nbformat_minor": 5
}
